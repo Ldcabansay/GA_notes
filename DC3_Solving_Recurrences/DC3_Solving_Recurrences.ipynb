{
 "cells": [
  {
   "cell_type": "markdown",
   "id": "d399142d",
   "metadata": {},
   "source": [
    "# DC3 Solving Recurrences"
   ]
  },
  {
   "cell_type": "markdown",
   "id": "34cfb6a5",
   "metadata": {},
   "source": [
    "## 200 Solving Recurrences\n",
    "\n",
    "This is a short refresher lecture on Solving Recurrences. We're going to focus on the type of recurrences that arise in divide and conquer algorithms. A classical recurrence is that for merge sort T of N equals two times T of N over two plus Order N. To sort N numbers, we partition the list into the first N over two numbers and the last N over two numbers. We recursively sort those two sub lists, that takes time, two times T of N over two and then it takes as Order N Time to merge these two sorted list together. As you probably know, this recurrence solves to order logN. Let's look at some other recurrences that we've seen so far in divide and conquer examples. The naive algorithm for integer multiplication had the following recurrence, T of N equals four times T of N over two plus order N. And we claim that this solves the Order N Square. We'll see you why momentarily. Our improved algorithm for integer multiplication had three sub problems instead of four sub problems. So we had the following occurrence, T of N is at most three times T of N over two plus Order N we claim that this solves to Order N to the exponent log base two of three. And recall this exponent is roughly one point six. Now another recurrence which we saw in the median finding algorithm was T of N equals T of three fourths N and plus Order N. And we claim that this recurrence solves to order N. Now let's go ahead and solve these recurrences. We'll start with this recurrence. The naive algorithm for integer multiplication then we'll look at this slightly more complicated example. And finally we'll look at the general solution for these recurrences of this form."
   ]
  },
  {
   "cell_type": "markdown",
   "id": "37bd8f39",
   "metadata": {},
   "source": [
    "## 201 Example 1\n",
    "\n",
    "We're looking first at this recurrence, T(n) = 4T (n/2) +O (n). Let's start by getting rid of the big O notation. Order n means that there's some constant c so that t of n is almost 4 times T of n over 2 plus cn. So we replaced order n by most cn. We also have the base case, let's say the base cases of size 1 since the inputs of size 1 it must solve in order one time. So we can place that order 1 by a constant c and notice we can use the same constant c for both of these by taking the max of these two constants and calling that c. Let's solve for T of n. So I simply restated the recurrence, though for convenience I rearranged the terms so T of n is the most c times n plus 4T of n and over 2. Now let's replace T of n over 2 by this recurrence. So replace n by n over 2 so we get this term c times n again plus we get 4 times and then let's replace T of n over 2 with this expression. So we have 4 times T of and we're placing n by n over 2 so we get n over 2 squared and then for the last term we're replacing n by n over 2 so instead of c times n, we get c times n over 2. Now let's rearrange this and it collects similar terms. So we want to collect c times n with 4 times c times n over 2. So these have a common factor of c times n, this term is 1, this term is 4 over 2 times c times n and then finally, the last term is 4 squared times T of n over two squared. Now let's repeat this process and replace T of n over 4 by this expression. Now we're replacing n by n over 2 squared. So the first term becomes 4T of n over 2 cubed and the last term becomes c times n over two squared. Rearranging once again so bringing this term over here. So we have T of n is the most c times n times the quantity 1 plus 4 halves plus 4 halves squared plus 4 cubed times T of n and over 2 cubed. Notice we're starting to get a geometric series here."
   ]
  },
  {
   "cell_type": "markdown",
   "id": "78ebc660",
   "metadata": {},
   "source": [
    "## 202 Expanding out\n",
    "\n",
    "What we've seen so far is that for this recurrence T of N equals four T of N over two plus order N by substituting in two times, we get to T of N is the most C times N times the quantity. One plus two, plus two squared, plus four cubed times T of N over two cubed. Now notice we're leaving, this is four over two and four over two squared, instead of two and two squared so that we see the geometric series that's going to arise. And this illustrates how the geometric series that arises, is related to the original recurrence. The four comes from here and the two comes from this term. At this point, we see the pattern. So now I suppose instead of substituting in two times we did I times. Well, to be precise, let's suppose we're substituting, I minus one times. So, this geometric series becomes one plus four halves, plus four halves squared, and so on, up to four halves to the I minus one. And this last term becomes four to the I times T of N over two to the I. Now, when do we stop? What I do we stop at? We start when we get to the base case which is when this quantity is one and whether, we stop at one or a hundred, it doesn't matter. So, let I equal the log base two of N. Then, two to the I is N. So, N over N is one. So, this quantity is one. So, substituting in I equal log base two of N, we get the following expression. Now, let's try to simplify the terms here. First off, what is T of one? T of one is the most C. So, we can upper bound this by C. What is four to the log base two N? Well, this is order N squared, C times N is order N. Now, what about this geometric series? Now, the key thing is that this geometric series is increasing. Four over two is bigger than one it's two. So, the last term dominates. So, this whole expression is dominated by order the last term. So, this geometric series is on the order of four over two to the log base two N. We can forget about the minus one because that's hidden in the Big O notation because that's just an extra factor of a half. Now, let's simplify this quantity. The numerator is four to the log base 2N, which we said before is order N squared. The denominator is two to the log base two N which is of course N. So, this quantity is order N. Plugging it in, we have order N, times order N, plus order N squared. So, this order N squared, plus order N squared which is order N squared. So this recurrence solves the order N squared. The key element of these recurrences, is this geometric series that arises. So, let's take a look at geometric series in general."
   ]
  },
  {
   "cell_type": "markdown",
   "id": "ccae2b19",
   "metadata": {},
   "source": [
    "## 203 Geometric Series\n",
    "\n",
    "Consider some positive constant alpha. In our previous example alpha was 4 over 2 and we're looking at this geometric series. We're summing over J going from zero to k of alpha to the j. Expanding this out we have 1 plus alpha plus alpha squared and so on up to alpha to the j. Now since we are solving our recurrences within big O notation, we don't need to solve this expression exactly. We simply need to solve it within constant factors, so that makes life much easier. Now the key for a geometric series is to figure out which term dominates either the first term, the last term or all terms are equal. The three cases are whether alpha is bigger than 1, equal to 1 or less than 1. Now if alpha is bigger than 1, then each term is growing, so the last term is going to dominate. So the whole expression is going to be on the order of the last term. Conversely, if alpha is less than 1 then the terms are decreasing and the first term dominates, so the whole expression is on the order of the first term, so it's order 1. Finally, the middle case is if alpha equals one then every term is exactly 1 and then the number of terms is k plus 1, so the whole thing is on the order of k. This first case where alpha is bigger than 1 is what arises in the recurrence we just analyzed. In that case alpha equals 2 and what we saw there was that the last term dominates. When we look at merge sort, then we'll have alpha equals one, all the terms will be the same and we'll get an order again from that. The final case is what arises in the example of the median finding algorithm, there we'll have alpha equals three quarters so the geometric series which arises will be on the order of 1."
   ]
  },
  {
   "cell_type": "markdown",
   "id": "62a7a689",
   "metadata": {},
   "source": [
    "## 204 Manipulating Polynomials\n",
    "\n",
    "The final tool that we'll need is manipulating polynomials. What we saw in the previous example is that 4 raised to the power log base 2 of n is the same as n squared. Now that example is quite straightforward but we're going to have other examples which arise such as three raised to the power log base 2n. And we want to convert this into a polynomial. So we want to convert this into n to the c for sum constant c and we want to figure out what is this constant c. So let's see the basic recipe for converting this into a polynomial. The key is that the base of this log is 2. So I want to change this base from 3 to 2. Well, 3 is the same as 2 raised to the power log base 2 of 3. That's by the definition of log. So let's substitute this in, to this expression. So we have 3 raised to the power log base 2n and then we replace 3 by this expression. So we have 2 raised to the power log base 2 of 3 raised to the power log base 2 of n. Notice these exponents multiply. So this is the same as 2 raised to the power log base 2 of 3 times log base 2 of n. And we can rewrite this as 2 raised to power log base 2 of n and raised to the power log base 2 of 3. What we've done is just swapped these exponents. Now look at this inner quantity. That's just, n, so we have n raised to the power log base 2 of 3. So we see that this exponent c is log base 2 of 3."
   ]
  },
  {
   "cell_type": "markdown",
   "id": "fad75c0e",
   "metadata": {},
   "source": [
    "## 205 Example 2\n",
    "\n",
    "Now let's take a look at the following recurrence, T(n) = 3T(n/2) + O(n). This is the recurrence which arised in the more sophisticated integer multiplication algorithm. Just as before, rewriting this to eliminate the big O notation, we have T(n) is at most cn for this term plus 3T(n/2) for that term. Now substituting in as we did before and repeating it i - 1 times we get the following recurrence, T(n) is at most cn(1 + (3/2) + (3/2)^2 + and so on up to (3/2)^i-1) + 3^iT(n/2^i). Notice that before we had a geometric series with base (4/2) and now we have a geometric series with base (3/2). And instead of 4^i we get 3^i, this is because we replaced four with three here. Now once again we're going to stop when we get to the base cases which is when this is one. So we're going to stop when i = log2 of n. Why is it the base two? Because we have two to the eye here. So if we would have had subproblems of size n/3 then we would stop when we have log3 n. Now plugging this in we get the following expression, so we have T(n) is at most cn(1 + (3/2) so on up to (3/2)^log2 n-1) + 3^log2 n T(1). T(1) is at most c, cn is O(n). What about this geometric series? Well the base is (3/2). So it's an increasing geometric series, the last term dominates. We can forget about the minus one, that's just an extra factor of two thirds. So this is 0((3/2)^log2 n), the numerator is 3^log2 n, the denominator is 2^log2 n. 2^log2 n is n so that cancels with this n, this O(n) cancels with this one over order n. So we get O(1) (O(3^log2n) and this term is also O(3^log2 n). That's not a coincidence. This should be the last term of this geometric series, so they should be on the same order of magnitude. Finally we want to manipulate this into a polynomial and we just saw that this is on the O(n^log2 3)."
   ]
  },
  {
   "cell_type": "markdown",
   "id": "7a7390f8",
   "metadata": {},
   "source": [
    "## 206 General Recurrence\n",
    "\n",
    "Now, let's look at the more general form of recurrences. So for positive constants a and b greater than one. Let's look at the recurrence T(n) = a T(n/b) + O(n). Our previous two examples had b=2, and we did a case where a=4, and a=3. Now, the recurrence for the median finding algorithm has a = 1 and has b = 4/3. And merge sort has a = 2 and b = 2. Now, when you expand this out you get c*n from this O(n), times the following quantity, 1+ (a/b) + (a /b²). And so on up to a/b. And then, it's going to stop when we get the logb(n). In the last term is going to be a, ^logb(n)/T(1 ), which is O(1). Now, the key is what happens for this geometric series? It depends on whether a/b > 1, = 1, or < 1. If a is bigger than b, then we get an increasing geometric series and the last term dominates. If a = b, then we get a geometric series where I term is one. If a < b, then we get a decreasing geometric series and the first term dominates. Let's do the easy case first, a < b, so the first term dominates. So this geometric series is on the O(1). So we get O(1) for this geometric series, get O(n) here, so the whole thing is going to be O(n), so we get O(n), in this case. What happens when a = b? Then each of these terms is one. So we get log n terms. So the geometric series is on the order of log n, so we have O(n) times O(logn). So that's going to be O(n) logn. So in the case, a = b, we get O(n), log n that's for merge sort. Finally, what happens in the case when a > b? Now, the last term dominates. Notice the denominator here is b ^logb(n) which is n, so this term, cancels this term. So the whole thing is on the order of a ^logb(n). Converting that into a polynomial, we get that this recurrence in the case a > b is on the order of n, ^logb(a). And of course, one can look at more general forms of recurrences where here, we have instead of O(n), we have O(n) ^d, where d is a constant. This is commonly referred to as the master theorem and you can look at your textbook for the form of the master theorem and the solution to the master theorem."
   ]
  }
 ],
 "metadata": {},
 "nbformat": 4,
 "nbformat_minor": 5
}
