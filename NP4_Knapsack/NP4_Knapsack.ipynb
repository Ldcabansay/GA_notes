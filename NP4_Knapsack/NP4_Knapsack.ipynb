{
 "cells": [
  {
   "cell_type": "markdown",
   "id": "c37022e2",
   "metadata": {},
   "source": [
    "# NP4 Knapsack"
   ]
  },
  {
   "cell_type": "markdown",
   "id": "6a6358d8",
   "metadata": {},
   "source": [
    "## 558 Lecture Outline\n",
    "\n",
    "Let's give a quick recap of what we've seen so far. We took for granted that SAT is NP-complete. This means that all the problems in the class NP can be reduced to SAT. So, if we can solve SAT in polynomial time, then we can solve any problem in NP in polynomial time. And we saw that 3SAT is NP-complete. This involved a reduction from SAT to 3SAT, then we prove that the Independent Set problem is NP-complete. This involved a reduction from 3SAT to the Independent Set problem. This was a quite interesting reduction because it involved a transformation from a logic problem, 3SAT to a Graph problem, Independent Set problem. Then we proved that the Clique problem and Vertex cover problems were NP-complete. These involve more trivial reductions from the Independent Set problem. What we are going to do now is we're going to prove that the Knapsack problem is NP-complete. As an intermediate step, we're going to look at the Subset-sum problem. We're going to prove that a Subset-sum problem is NP-complete. This is going to involved a reduction from the 3SAT problem to Subset-sum problem. This again is a quite non-trivial reduction because it involves transforming a logic problem 3SAT into this optimization problem Subset-sum. Once we prove that Subset-sum is NP-complete, it will be quite easy to prove that the Knapsack problem is NP-complete. We'll leave this last step as a homework problem proving that Knapsack is NP-complete once we know that Subset-sum is NP-complete. If you recall from the beginning, in the course, we study Dynamic Programming Algorithm for the Knapsack problem. And there, we saw an order N times B time Algorithm for the Knapsack problem, and we pointed out why this is not polynomial time. Why this running time is not polynomial in the input size? In order to be polynomial in the input size, it has to be polynomial in N and log of B. Why this is not polynomial is somewhat of a subtle point. I think it becomes much clearer when you see this reduction from 3SAT to Subset-sum, or 3SAT and Knapsack. What you see in this reduction, is that capital B will be exponential in the size of the input formula for the 3SAT problem. So, if we use this Algorithm to solve 3SAT, this would give us an exponential time Algorithm of 3SAT. It's a quite clever reduction so let's dive into it. Let's prove that the Subset-sum problem is NP-complete. Let's start with the definition of a Subset-sum."
   ]
  },
  {
   "cell_type": "markdown",
   "id": "72d93331",
   "metadata": {},
   "source": [
    "## 559 Subset Sum\n",
    "\n",
    "The input to the subset sum problem are n positive integers which we'll denote as A_1 through A_n, and one additional integer, t. Our goal is to find a subset of numbers which sum up to exactly t. So we want the sum over the indices in this subset of the corresponding numbers to be equal to exactly t. We output such a subset if it exists and otherwise, we output NO. This is a great practice problem for dynamic programming. Using dynamic programming, we can solve this problem in order n times t time. If you want practice with dynamic programming, I suggest you"
   ]
  },
  {
   "cell_type": "markdown",
   "id": "3977cb35",
   "metadata": {},
   "source": [
    "## 560 Subset Sum in P Question\n",
    "\n",
    "Let's take for granted that there's an order n times t, time algorithm for the subset-sum problem. Now given that fact, the subset-sum problem is known to be in the class P. Is that true or false?"
   ]
  },
  {
   "cell_type": "markdown",
   "id": "1c3ebd69",
   "metadata": {},
   "source": [
    "## 561 Subset Sum in P Solution\n",
    "\n",
    "This is false. Just like with the knapsack problem, this is not polynomial in the input size. To be polynomial in the input size, the running time would have the N times polynomial in log t."
   ]
  },
  {
   "cell_type": "markdown",
   "id": "03316c14",
   "metadata": {},
   "source": [
    "## 562 Subset Sum NP Complete\n",
    "\n",
    "We're going to prove now, that's a subset-sum problem is NP-complete. Again, there are two parts of the proof. First, we have to prove that the subset-sum problem is in the class NP. So we take an input instance to the subset-sum problem, this is specified by and numbers a to the first through to a to the nth and t, and we take a proposed solution S. And we check that the sum over the integers in that subset equals exactly t. How long does it take to compute the sum? Well, there is the most and numbers there, so there's order n time. And then how long as each number? Well, each numbers at most log t bits. So to sum these up, takes in most O(n logt). Notice this as polynomial in the input size, so we can verify solutions in polynomial time. Next we have to show that the subset-sum problem is at least as hard as every problem in the class NP. So we have to take a known NP-complete problem, and reduce it to the subset-sum problem. Which problem do we choose? Well, we're going to choose the 3SAT problem, and we're going to reduce it to the subset-sum problem. The reduction is very clever, and somewhat involved, but it doesn't involve any heavy math or anything like that. And it really illustrates why the order n times t time algorithm, is not efficient for this subset-sum problem."
   ]
  },
  {
   "cell_type": "markdown",
   "id": "477d2c33",
   "metadata": {},
   "source": [
    "## 563 3SAT Subset Sum Input\n",
    "\n",
    "The input to the subset sum problem will consist of 2n plus 2m plus one numbers. There are n variables and 2n literals, so we'll have a number for each literal. There are m clauses, so we'll have two numbers for each clause. And then we'll have one additional number which is our desired sum. We'll have V_1 and V_1 prime corresponding to X_1 and X_1 bar, V_1 and V_2 prime for X_2 and X_2 bar. And V_n and V_n prime for X_n and X_n bar. We'll have these two additional numbers for the first clause, and so on for the m clauses. And finally, we'll have the desired sum. Now these numbers are all huge. They're going to be at most n plus m digits long. And we're going to work in base 10. This is so that if we add up any subset of numbers, there'll be no carries between the digits. Note these numbers are huge, for instance, t is on the order of ten to the n plus m. This illustrates why our order n times t algorithm is a somewhat terrible algorithm."
   ]
  },
  {
   "cell_type": "markdown",
   "id": "5251dbd4",
   "metadata": {},
   "source": [
    "## 564 3SAT Subset Sum Variables\n",
    "\n",
    "Now let's take a look at the actual specification of the input to the subset sum problem. Let's start with these numbers corresponding to the two n literals, in particular Vi corresponds to Xi. So we're going to include this number Vi in the subset S, if and only if the literal Xi is set to true. Similarly Vi prime corresponds to Xi bar and will include Vi prime in this subset S if and only if the variable Xi is set to false. And assignment for the three set formula either sets Xi to true or Xi to false. Therefore, we need for the subset sum problem that either we include Vi in S or Vi prime in S. Well, we can't include both and we can include neither, because then we don't know how to set Xi. So we need to ensure that exactly one of Vi or Vi prime is in S. How do we achieve this? Well, in the Ith digit of these three numbers Vi, Vi prime and T we put a one. In all other numbers, we put a zero in the Ith digit. Now by using base 10, we will ensure that there is no carrys between the digits. So each digit is going to behave independently of each other. Recall that T is our desire sum, so the only way to achieve a desired sum that has a one in the Ith digit, is to include either Vi or Vi prime in S, but not both and not neither. So this specification ensures that our solution to the subset sum problem is going to correspond to an assignment. Whether it's satisfying or not is another issue, but for now at least we know that we have an assignment. So either we're going to correspond to Xi being set to true or Xi being set."
   ]
  },
  {
   "cell_type": "markdown",
   "id": "2628b5a4",
   "metadata": {},
   "source": [
    "## 565 3SAT Subset Sum Example\n",
    "\n",
    "To illustrate the reduction it'll be useful to have a running example and we can fill in the numbers as we go along. So let's consider this input formula to the 3SAT problem. It consists of three variables and four clauses. For variable X1, there'll be two numbers, the V1 and V1 prime, similarly for X2, there'll be V2 and V2 prime and for X3, there'll be V3 and V3 prime. In addition there'll be two numbers for each clause, so we have S1 and S1 prime for clause one, S2 and S2 prime for clause two, S3, S3 prime, S4, S4 prime for the last two clauses and finally we have t which is our desired sum. These 15 numbers specify the input to the subset-sum problem. These numbers are going to be seven digits long. The digits correspond to the variables, three variables and clauses, four clauses. The first three digits correspond to the three variables, X1, X2, X3, the next four digits correspond to the four clauses. Now in assignment to f, either sets X1 to true or false, so we wanted that a subset-sum solution either includes V1 or V1 prime in the subset. How do we ensure that? We put a one in the first digit for V1, V1 prime and t. For all other numbers, we put a zero in the first digit. Now assuming there's no carry from the other digits, how can our subset of numbers achieve a sum of one in the first digit? Well, the only way is to include either V1 or V1 prime but not both and not neither. So we have to include exactly one of these two in order to achieve a sum of one in the first digit. Similarly we put a one in the second digit for V2 and V2 prime and for t, and in the third digit we put a one for V3, V3 prime and t. Then we put a zero for all other numbers in the second and third digits. This ensures that exactly one of V2 and V2 prime is in the subset and exactly one of V3 and V3 prime is in the solution to the subset-sum problem. So now we know that any solution to the subset-sum problem corresponds to an assignment. Now we have to ensure that it corresponds to a satisfying assignment. So for that we use these remaining four digits."
   ]
  },
  {
   "cell_type": "markdown",
   "id": "06e33cbf",
   "metadata": {},
   "source": [
    "## 566 3SAT Subset Sum Clauses\n",
    "\n",
    "The first n digits correspond to the variables so the next m digits correspond to the clauses. So digit n plus j is going to correspond to clause Cj. If the literal Xi appears in the clause Cj, well, Xi, this literal corresponds to this number of Vi. So we're going to put a one in digit n plus j for this number Vi. Similarly, if the literal Xi bar appears in this clause, well, in this case, this literal Xi bar corresponds to this number Vi prime. So we put a one in digit n plus j for this number, Vi prime. What this does is it encodes the clauses in these numbers, Vi and Vi prime. Let's go back to our running example. Our first clause contains X1 bar, X2 bar, and X3 bar. This clause corresponds to the fourth digit so we're going to put a one in V1 prime and put a one in V2 prime, and a one in V3 prime. Similarly, for the second clause, we put a one in V1 prime for X1 bar, V2 prime and V3. For clause three, we put a one in V1, V2 prime, and V3. Clause four, V1 and V2. Now for the first clause, we want to ensure that either V1 prime, V2 prime, or V3 prime are included in the subset in the solution to the a subset-sum problem. We just need that at least one of these is included. We don't need that exactly one so we can't just put a one here in t. We want that either one, two, or three of these numbers are included in the solution so we put a three in the fourth digit of t, fifth digit, sixth digit, and seventh digit. Now, if we include all three of these numbers in our solution, then we're okay, but what if we only include one of these digits? What if only one of these literals is satisfied? Well, that's where we use these buffer numbers, S1 and S1 prime. We're going to put a one in the fourth digit for these two numbers. The point is that if only one of these three literals is satisfied, then we get up to some of the three by including both of these buffer numbers. So we get a one from one of these three plus one plus one and that gives us three. What if all three of these literals are satisfied? Then, we don't have to use either of these buffer numbers. What if exactly two of these literals are satisfied? Then we use one or the other of these buffer numbers. But if none of these literals are satisfied, then using both of the buffer numbers only gets us up to a sum of two so we can't satisfy t. We can't get a solution to the subset-sum problem. The only way to get a solution to the subset-sum problem is to have at least one of these literals satisfied and then we can use the buffer numbers to get the desired sum in this digit. So, similarly, for clause two, we put a one in this digit for S2 and S2 prime, S3 and S3 prime, S4 and S4 prime. All the other numbers have zeros in these digits. This specifies the reduction from the 3SAT formula to the subset-sum problem. Note that V1 is the number 1000011. V1 prime is the number 1001100. S4 and S4 prime are the numbers one, t is the number 1113333."
   ]
  },
  {
   "cell_type": "markdown",
   "id": "3839c019",
   "metadata": {},
   "source": [
    "## 567 3SAT Subset Sum Buffers\n",
    "\n",
    "Let's go back and specify the remainder of the reduction in general. For each clause, we encoded the literals which appear in that clause using V_i and V_i prime. To ensure that at least one of these literals is satisfied, we put a three in digit n plus j of t. Then, if all of the literals in this clause are satisfied, we get the desired sum in this digit. What if only one or two of the literals in this clause are satisfied, how do we get the desired sum? Well, that's where we use S_j and S_j prime to act as buffers. We put a one in digit n plus j of both of these numbers, and finally put a zero in digit n plus j of all the other numbers which we haven't specified so far. The main point is that, if all three of the literals in this clause are satisfied, then we get the desired sum of three in this digit. If exactly one or two of these literals are satisfied, then using these buffer numbers, we get the desired sum of three in this digit. But if none of the literals in this clause are satisfied, then there's no way to achieve a sum of three in this digit because the sum of these buffer numbers only adds up"
   ]
  },
  {
   "cell_type": "markdown",
   "id": "67f1f903",
   "metadata": {},
   "source": [
    "## 568 3SAT Subset Sum Correctness\n",
    "\n",
    "What we've sketched so far and what we'll formally prove now is that the subset sum instance that we constructed has a solution if and only if the original 3SAT input is satisfiable. It's going to prove that we did a value reduction. Let's start with the forward direction. Let's take a solution S to this subset sum instance. So we know that if we sum up the numbers in S, it sums up to exactly T. Let's first look at the first N digits. These correspond to the N variables X1 through Xn. We know that T has a one in digit I. In order to get a one in digit I, we have to include Vi or Vi prime in our subset S, but not both. If we include both we get a two n digit i. And if we include neither, we get a sum of zero in digit i. So the only way to get a sum of exactly 1 in digit i is to include exactly one of Vi and Vi prime. If we include Vi in our subset S, then we set the variable Xi to true. If we include Vi prime in our subset S then we set the variable Xi to false. So from this solution to the subset sum problem, we get an assignment. We get a true false assignment for the variables. Why is this a satisfying assignment? Well, to see that we'll look at the remaining digits."
   ]
  },
  {
   "cell_type": "markdown",
   "id": "57e2bc2d",
   "metadata": {},
   "source": [
    "## 569 Proof Satisfying Assignment\n",
    "\n",
    "We just saw, if we take a solution to the subset sum instances that we specified, then using the first n digits that specifies a true-false assignment for the n variables X_1 through X_n. Now, using the remaining n digits, we're going to show that that assignment that we just specify corresponds to a satisfying assignment. It satisfies the input formula f. First n digits correspond to the variables, the next m digits correspond to clauses. So let's look at digit n plus j, where j varies between one and n, so digit n plus j corresponds to clause C_j. In our definition of the subsets sum instance, we put a three in digit n plus j of t. So we need to achieve a sum of three in digit n plus j. In order to get a sum of three digit and plus j, we have to include at least one of the numbers corresponding to the literal appearing in clause C_j. If we satisfy exactly one literal in C_j, then we use both S_j and S_j prime as buffer numbers and then we get a sum of three. If we satisfy exactly two literals in this clause, then we either include S_j or S_j prime in our subset S, and that gives us a sum of three. If we satisfy exactly three literals in this clause, then we don't need to use either of these buffer numbers, S_j or S_j prime. Just using these three satisfied literals gives us a sum of three in this digit n plus j. If we satisfy zero of the literals in this clause, then there is no way to achieve a sum of three in this digit, and therefore, we don't have a solution to the subset sum problem. We're assuming we have a solution, therefore, we must have at least one satisfied literal in this clause. Thus, C_j is satisfied and thus, every clause is satisfied. And therefore, we have a satisfying assignment for f. So we've shown that a solution to this subset sum instance corresponds to a satisfying assignment for our 3SAT formula. And we've actually shown how to transform this solution to the subset sum problem to find the satisfying assignment to the 3SAT's formula. Now let's prove the reverse implication. Let's prove that if we have a satisfying assignment for this 3SAT formula, it corresponds to the solution to the subset sum problem."
   ]
  },
  {
   "cell_type": "markdown",
   "id": "56521e6c",
   "metadata": {},
   "source": [
    "## 570 Reverse Implication\n",
    "\n",
    "Let's prove the reverse implication that a satisfying assignment for the 3SAT formula corresponds to a solution to the subset-sum instance. So let's take a satisfying assignment for f, and we'll construct a solution to the subset-sum instance in the following manner. In our satisfying assignment, if we set the variable X to the ith to true, then we add the number V to the ith to the solution S. And if we set the variable X to the ith to false in our satisfying assignment, then we add the number of V to the ith prime to our solution S. We're adding exactly one of V to the ith and V to the ith prime to S. This means, in the ith digit, we get exactly one. So the ith digit of T is correct. Now let's look at the jth clause. We started from a satisfying assignment, therefore, at least one of the literals in this clause is satisfied. The numbers corresponding to these literals give us a sum of one, two, or three in the digit n plus j. T has three in digit n plus j. So how do we achieve a sum of three digit n plus j? Well, using the numbers corresponding to these literals, we get a sum of one, two, or three, and then we can use S to the jth and/or S to the jth prime to get up to a sum of three. This ensures that digit n plus j is correct and therefore, the last m digits are correct and the first digits are correct. And therefore, we have a solution to the subset-sum instance. So we've proved this equivalence and we've proved that our reduction is correct."
   ]
  },
  {
   "cell_type": "markdown",
   "id": "752fe5f0",
   "metadata": {},
   "source": [
    "## 571 Knapsack is NP complete\n",
    "\n",
    "You just proved that the subset sum problem is NP-complete. Now a nice homework problem is to use that fact that subset sum problem is NP-complete and then prove that the knapsack problem is NP-complete. And make sure that you use the correct version of the knapsack problem. The version that which lies in the class NP. Now to prove that the knapsack problem or any problem is NP-complete, there's two parts: You first have to prove that the desired problem lies in the class NP, and second you have to take a known NP-complete problem and you have to reduce the known NP-complete problem to this new problem, in this case knapsack problem. We know that all problems in NP reduce to this known NP-complete problem, therefore if we show a reduction from this known NP-complete problem to the knapsack problem, then we know that all problems in NP reduced to the knapsack problem. Which problem are you going to use for this part? Well I'm not trying to trick you, so what are you going to use is the problem that looks most similar to the knapsack problem, in this case is subset sum problem. On the homework or exam, if you have a graph problem which you're trying to prove is NP-complete, what are you going to use here? Probably a graph problem which sounds similar or looks similar to the desired problem. If you have a logic problem you're trying to prove is NP-complete and probably you're going to use set or three set over here. The other thing to make sure of is that you're doing the reduction in the correct direction. So you're assuming you have a polynomial time algorithm for this problem and you are using that to solve this problem in polynomial time. So you have taken input to this known NP-complete problem and reduce it, transform it into an input for this problem. Then if we take a solution to this problem then you can transform it back to a solution to this original problem. So you have to transform inputs from this known NP-complete problem to inputs to this new problem. That's a common mistake that students make, even though they write the direction this way, they actually do the reduction in the other direction. They take inputs for this problem and transform it to input to this problem. You have to make sure you're doing it the correct direction. So you take inputs to the known NP-complete problem and transform it to inputs to this new problem."
   ]
  }
 ],
 "metadata": {},
 "nbformat": 4,
 "nbformat_minor": 5
}
