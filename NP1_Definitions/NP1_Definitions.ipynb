{
 "cells": [
  {
   "cell_type": "markdown",
   "id": "2be1394c",
   "metadata": {},
   "source": [
    "# NP1 Definitions"
   ]
  },
  {
   "cell_type": "markdown",
   "id": "8fb4b8fb",
   "metadata": {},
   "source": [
    "## 481 NP Overview\n",
    "\n",
    "How do we prove that a problem is computationally difficult? Meaning that it is hard to devise an efficient algorithm to solve it for all inputs. To do this, we'll prove that the problem will then be complete. In this section, we'll look at the definition of the class NP and what exactly it means for a problem to be NP-complete. We'll first detail the notion of a reduction. We've actually seen several examples of reductions in this class before. For example, we reduced the two-set problem to the strongly connected components problem. We'll formalize this concept of reduction. Then we'll see what it means that a problem is NP-complete and how to prove that it is NP-complete. We'll look at a bunch of examples of NP-completeness proofs: 3SAT; Graph Problems for example Independent sets, Clique, and Vertex cover; and the classic Knapsack problem. Finally, we'll see Alan Turing's proof that the halting problem is not just computationally difficult but, in fact, it's not solvable in general. Formally, it's undecidable"
   ]
  },
  {
   "cell_type": "markdown",
   "id": "29f3ac8c",
   "metadata": {},
   "source": [
    "## 482 NP1 Lecture Outline\n",
    "\n",
    "In this section we're going to study computational complexity. We're going to address the following question. What precisely does NP completeness mean and how do we prove that a problem is NP complete. Many of you have probably heard of the equation P equals NP or P naught equals NP. We're going to take a look at what precisely this question means. Finally we're going to look at how do we show that a particular problem is intractable. Now what exactly do we mean by intractable, we mean that is unlikely to be solved efficiently. Now we'd love to say that it definitely cannot be solved efficiently, instead of unlikely to be solved efficiently. But that's more than we can achieve at this time. Now what exactly do we mean by efficiently. Well, by that we mean that is polynomial in the input size. Can we solve this particular problem, in time polynomial in the input size. Now in order to show that a particular problem is intractable, what we're going to do is, we're going to prove that it's NP complete. So we're going to learn how to prove that a particular problem is NP complete. So let's dive in now to see what P and NP mean."
   ]
  },
  {
   "cell_type": "markdown",
   "id": "99d8e92c",
   "metadata": {},
   "source": [
    "## 483 Complexity Classes\n",
    "\n",
    "We're going to define NP as the class of all search problems. What exactly do we mean by search problems? Well, we'll look at that in more detail in a second. Now, there's one important distinction that we need to bring out at the beginning. We're using the class of search problems to find its class NP. Now traditionally, and what many of you may have seen in your undergraduate course, is that the NP is defined with the class of decision problems instead of search problems. Now, this is a somewhat minor distinction. But for consistency in this class, we're going to use search problems for NP. Why am I using search problems instead of decision problems? Well, it's somewhat more natural to use search problems. In addition, the group of textbook also defines NP with respect to search problems. Now, if you've seen decision problems before, the appeal of search problems is that it gets rid of the need for a witness for particular instances. In any case, let's forget about the notion of decision problems and let's focus on search problems in this course. What do we mean by search problems? Let's look at a rough definition of search problems and then in the next slide, we will look at a formal definition of search problems. Now, roughly, a search problem is a problem where we can efficiently verify solutions so if I give you particular input and I give you a solution to that input, then I can verify that that solution is in fact a solution to that input. I can check solutions in polynomial time so the time it takes to generate the solution doesn't have anything to do with it. All that matters is if I give you an input and I give you a solution, then you can verify that solution in polynomial time. Now, if I want to know about the time it takes to generate a solution then look at the class P. Now, the class P are those search problems which can be solved in polynomial time so I can generate a solution in polynomial time. Whereas, NP just says that it can verify solutions in polynomial time. Now, of course, if I can generate a solution polynomial time then I can also verify solutions in polynomial time. So, P is a subset of NP. Any problem that can be solved in P can also be solved in NP. Formally, we have that P as a subset of NP. Why is that? Well, NP is a class of all search problems so these are problems where we can verify solutions in polynomial time. P is a class of search problems that can be solved in polynomial time. A problem in P means that we can verify solutions in polynomial time and we can generate solutions in polynomial time."
   ]
  },
  {
   "cell_type": "markdown",
   "id": "000a979d",
   "metadata": {},
   "source": [
    "## 484 Comparing P and NP\n",
    "\n",
    "Now, we'll take a look at the formal definition of search problems momentarily. But let's first take a look at the intuitive difference between P and NP. Now, Now roughly roughly, a search problem is a problem where given an input and as proposed solution, we can verify that that solution is in fact a solution in polynomial time where a polynomial in the input size. Now, P are those search problems where we can also generate solutions in polynomial time. Now what is P equals NP or P not equal to NP, what do they mean? Where P or are the class of problems that we can solve in polynomial time. time, NP are those problems where we can verify solution in polynomial time. So what does the P equal NP question mean? What if P equals NP? That means that it is it's as difficult to solve a problem as to verify solution. Think about this in this context of proofs trying to prove a theorem. NP says that if I give you the proof for theorem, then you can check it in polynomial time. That's sort of like going line by line in the proof and checking each line in the proof. Doesn't sound too difficult. Now, what's the analogue for P? While solving a problem, the analogue for a proof is generating the proof of the theorem. So is generating the proof for of the theorem as hard as verifying a proof for theorem? So if I can check the proof line by line, is that as hard as generating the actual proof? It seems much more difficult to generate the proof or generate a solution to a problem than to just verify that a solution or verify that a proof is correct. So if we show that P equals NP, that implies that if I can verify solution in polynomial time, then I can also solve the problem in polynomial time. So whenever I can check a proof, I can also generate a proof for that theorem. For many of us us, it seems much more plausible that P is not equal to NP. Why? Because it seems much easier to verify a solution, to check a proof than to actually solve the problem or to generate the proof for the theorem. Most go through informally defined search problems."
   ]
  },
  {
   "cell_type": "markdown",
   "id": "5f4917ae",
   "metadata": {},
   "source": [
    "## 485 Search Problems\n",
    "\n",
    "A search problem is a problem in the following form. First time given an instance I. What is I? I is the input to the problem. For example, it might be a draft if I'm doing a graph problem, or I might be a formula, if I'm doing a problem such as satisfiability. Now, if I has a solution for this problem, then I want to find such a solution. I can output any solution S which is a solution for I. But if I has no solutions, then I simply output NO. So, if this input has a solution, then I output any such solution. If it has no solutions, I output NO. Now, this is the basic form of a search problem, but I have a further requirement in order to be a search problem. Now, let me rephrase this requirement. So, for a particular problem to be a search problem, it first has to be of this form. So, if it's a yes instance so there is a solution to this input, then we have to output some such solution. And if there are no solutions then we simply output NO. Furthermore, we have the following requirement, for an input that has a solution. If I give you a solution, it doesn't have to be the one that's generated by some particular algorithm. I give you any solution that we need to be able to verify in polynomial time, that S, this proposed solution is in fact a solution to this instance. So, we just have to be able to check the proof. So if I give you a proof, then I can check that proof line by line that it is a proof to this input, to this theorem. Now if this input is a NO instance, so there are no solutions, I don't have to do anything in that case. Simply on yes instances, then I have to be able to verify solutions. But I only have to verify solutions when I'm given the solution. So I don't have to generate the solutions at all. Simply, I have to be if I'm given the solution, then I can verify that, that is a solution to the input. And it's important to stress that, what we mean by efficiently verify, we mean in time polynomial in the input size. Now, how would I show that a particular problem is a search problem? Well, I will show you an algorithm which can verify solutions in polynomial time. So I would show you an algorithm which would take as input an instance I, which is an input to the original search problem and a proposed solution to that input. Now given I and S, now what should my algorithm do? Well my algorithm is going to verify that S is in fact a solution to the I, and it's going to do so in time polynomial in the size of I. Typically, it's very easy to show such an algorithm. So let's take a look at a few example problems that we've seen so far in this course and will verify that they are in fact search problems and therefore they are"
   ]
  },
  {
   "cell_type": "markdown",
   "id": "754a1ba8",
   "metadata": {},
   "source": [
    "## 486 SAT Problem\n",
    "\n",
    "I start with the satisfiability problem. This was one of the original NP complete problems. Therefore, it has some special significance in the theory of NP completeness. Now this is a SAT problem which we defined before when we looked at graph algorithms. And we saw an algorithm for 2-SAT. Now the input of SAT is a Boolean formula f in conjunctive normal form, CNF. And we'll say that f has n variables, x_1 through x_n, and it has m clauses. Now the output is a satisfying assignment if one exists. What does that mean? That means an assignment to the variables, true or false, for each of the variables, so that when we evaluate the formula, it evaluates to true. Now if there is no satisfying assignment, so there's no way to assign true or false to each of the variables, so that the formula evaluates to true. Then we simply output no. Now here's an example input to SAT with three variables and four clauses. So n equals three and m equals four."
   ]
  },
  {
   "cell_type": "markdown",
   "id": "c8ba48fd",
   "metadata": {},
   "source": [
    "## 487 SAT Example Question\n",
    "\n",
    "Let's make sure you recall the notation for the SAT problem. So once you go ahead and write a satisfying assignment for this formula, so give an assignment for X1, X2 and X3, so that the formula evaluates to TRUE. If there's no such satisfying assignment then go ahead and enter no."
   ]
  },
  {
   "cell_type": "markdown",
   "id": "722e58b5",
   "metadata": {},
   "source": [
    "## 488 SAT Example Solution\n",
    "\n",
    "This particular input has a satisfying assignment. I can set x1 to true, x2 to false, x3 to false. Let's check it. So for the first clause, I have that x2 is false, so this is our satisfied variable. For the second clause, I have that x2 is true, so this is a satisfied literal. For the third clause, I have that x3 is false, so this is a satisfied literal. For the last clause, I have that x3 is false, so this is a satisfied literal. So every clause has at least one literal satisfied."
   ]
  },
  {
   "cell_type": "markdown",
   "id": "35336925",
   "metadata": {},
   "source": [
    "## 489 SAT in NP Question\n",
    "\n",
    "Now, we just saw a particular input formula f and we saw satisfying assignment for it. And then we checked that that satisfying assignment was in fact satisfied this formula f. So, when we plugged in that assignment of true and false to the variables, that the formula f evaluated to true. Now, let's look at the general problem. Suppose I give you a formula f and I give you assignment of true or false to each of the variables. Now, what is the running time to verify that this assignment actually evaluates this formula to true? So, this assignment satisfies the formula. As a function of n and m, what is the running time to do that? Why don't you go ahead and write the running time in big O notation."
   ]
  },
  {
   "cell_type": "markdown",
   "id": "34327355",
   "metadata": {},
   "source": [
    "## 490 SAT in NP Solution\n",
    "\n",
    "Why do I care about the running time to verify a solution? Well, this is the key step for proving that SAT is in NP. So let's go ahead and formally prove that SAT is in NP, and then as part of that proof, we'll see the answer to this question. So let's go ahead and prove that SAT is in NP. First, I've to check that it's of the correct form. The correct form is that I'll output a solution if one exists, and I'll output no if there is no solution. So clearly, it's of the correct form. Now, here's a slightly non-trivial aspect. I have to show that I can verify solutions in polynomial time. So if I'm given a formula f and assignment of true and false to these variables, then how long does it take me to check that this assignment satisfies this formula? Well, for a particular clause, it takes me order_n time to check that at least one of the literals in that clause is satisfied. Since there are m clauses, it takes me a total of order_n_m time to verify that this assignment satisfies this formula. So that's the solution to the previous quiz. And also, we've just shown that we can verify solutions in polynomial time. Therefore, SAT is a search problem and therefore SAT is in NP. So if I want to prove that a problem such as SAT is in NP, I have to show you, here's an algorithm which verifies solutions in polynomial time. And normally, it's just going to take one or two sentences to show that a particular problem is in NP, that it is a search problem, that we can verify solutions in polynomial time."
   ]
  },
  {
   "cell_type": "markdown",
   "id": "4d88eb03",
   "metadata": {},
   "source": [
    "## 491 Colorings in NP\n",
    "\n",
    "Let's look at the k-colorings problem. This is a natural graft problem that many of you've probably seen before but I don't think we've looked at this particular problem in this course yet. You've probably heard of the four-color theorem. This is the formulation of the general problem. Now, the input to the problem is an undirected graph G and an integer K. K is a number of colors in our palette. Now, our goal is to assign colors to the vertices so their neighboring vertices have different colors. So, if there is a proper coloring, we're going to output an assignment of colors to the vertices. So, each vertex is going to get a color between one through K. These are the names of the colors and this is a proper coloring if adjacent vertices get different colors. Now, if this G has no such coloring, then we output no. So, if there is a proper vertex K coloring for this graph G, then we output such a coloring. And if there is no such proper K coloring, then we output no. Now, the K-colorings problem is in NP. Why? Well first off, it's the correct form when there is a solution. When there is a proper coloring, we output such a coloring. And if there is no such coloring, then we simply output no. Now, the non-trivial step is we have to show that we can verify solutions. So, suppose that were given a graph G and were given a K-coloring for this graph. So, we're given assignment of the vertices to each of the one of the K colors. Now, how do we check that this coloring is a proper coloring. Well, we go through the edges of the graph and we check that each edge is not monochromatic. In particular, in order m time which is the number of edges, we can check for every edge that the color assignment for V is different than the color assignment for W. So, for every edge, the two endpoints have different colors. That's it. That's all we have to do to show that the K-colorings problem is in NP. We simply have to show an algorithm which can verify solutions in polynomial time. And it's a trivial algorithm, so it's a simply one sentence proof that the K-colorings problem is in NP."
   ]
  },
  {
   "cell_type": "markdown",
   "id": "66266824",
   "metadata": {},
   "source": [
    "## 492 MST Question\n",
    "\n",
    "So recall the MST problem. The input to the problem is an undirected graph G with positive edge lengths, and the output is a tree T with minimum weight. Now let's test your knowledge of P and NP. So the first question is, is the MST problem in NP? Mark whether this statement is true or false. The second question is whether the MST problem is in the class P. Is that statement true or false?"
   ]
  },
  {
   "cell_type": "markdown",
   "id": "56b980f0",
   "metadata": {},
   "source": [
    "## 493 MST Solution\n",
    "\n",
    "Well in fact, both statements are true. The MST problem is in the class NP, and the MST problem is in the class P. Let's go ahead and see why both of these are true."
   ]
  },
  {
   "cell_type": "markdown",
   "id": "56f105be",
   "metadata": {},
   "source": [
    "## 494 MST in NP\n",
    "\n",
    "Let's see why the MST problem lies in the class NP. First off, is the MST problem of the correct form. If there is a solution are we outputting a solution. And if there is no solution, we're outputting no. Well, the way the problem is formulated, we're always outputting a solution. We're always outputting a tree T, which is guaranteed to be a minimum weight. And the way the problem is formulated there always is a solution. We're simply looking for the tree of minimum weight. So there was always a tree of minimal weight, so we're always outputting a solution. There's never in no instance. There's never no tree of minimum weight. Sum tree has to be of minimum weight. So there's always a solution to this problem and we're always outputting a solution. Now, suppose we're given a graph G, which is our input to the MST problem and we're given a tree T, which we claim is a solution to the MST problem. How do we verify that T is in fact a solution to the MST problem for G? Well, first we have to verify that T is a tree. Or we can simply run the BFS or DFS algorithm to check that T is a tree. To check that T connects up the graph G and that T has no cycles. Now, how do we check that T is of minimum weight? Well, we can run Kruskal's or Prim's algorithm, that's going to give it an MST. Then for that given MST that's outputted by Kruskal's or Prim's algorithm, we check its weight and then we check that T has the same weight as that output from Kruskal's or Prim's algorithm. There's no reason why Kruskal's or Prim's algorithm might generate this particular tree T, but they're going to output a MST and we checked the weight of that MST outputted by these algorithms, and then we compare that to the weight of the tree T. And therefore, we can verify that T has minimum weight and that T is a tree. And therefore, T is an MST. It takes us order N plus M time to run BFS or DFS and it takes us o(mlogn) time to run Kruskal's or Prim's algorithm. So the total time of our verification algorithm is o(mlogn). This shows that the MST problem is in NP."
   ]
  },
  {
   "cell_type": "markdown",
   "id": "48f10e77",
   "metadata": {},
   "source": [
    "## 495 MST in P\n",
    "\n",
    "Now, we just saw that the MST problem is an NP. So, we've seen that MST is a search problem. Now, let's prove that MST is in P. And to show that the MST problem is in P, there's two parts. First, we have to show that the MST problem is a search problem. Well, that's what we just did to show that MST is an NP. So we've done that first part. The second part is to show that we can find a solution in polynomial time. How do we find a solution in polynomial time? We simply use Kruskal or Prim's algorithm. This shows the second part. So this completes the proof that MST is NP."
   ]
  },
  {
   "cell_type": "markdown",
   "id": "7f85fdc5",
   "metadata": {},
   "source": [
    "## 496 Knapsack Problem\n",
    "\n",
    "We've looked so far at the satisfiability problem, SAT, the colorings problem, and MST; minimum spanning tree problem. And we've seen why each of these are in the class NP. Now let's take a look at the knapsack problem which we studied in the dynamic programming section. Let me remind you the formulation of the knapsack problem. Now the input to the knapsack problem are n objects. For each object, were given an integer weigh, and we are given an integer value. The weights are denoted as W to the first and W to the nth, and the values are denoted by V to the first through V to the nth. And in addition, we're given a total capacity for the backpack or knapsack. Now the output for the knapsack problem is a subset of objects which fit in the backpack, so their total weight is at most capital B. And we want to subset which maximizes the total value. Let's make this a little bit more mathematically precise. By total weight and most capital B, we mean that if you sum over the objects in the subset S, their weights sum up at most capital B. Our objective is to maximize the total value. The total value for a subset S is the sum over the objects in the subset of their values. And we're trying to find the subset S which maximizes this sum of the total value, subject to the constraint that the sum of their weights is at most capital B. Now if you recall there were two variants of the knapsack problem that we studied in dynamic programming section. There was the version with repetition. So there was unlimited supply of each object or there was a version without repetition, so we had at most one copy of each object. Now which of these two variants that you consider, it doesn't matter. For the following discussion, it holds for both of these version."
   ]
  },
  {
   "cell_type": "markdown",
   "id": "f7f61726",
   "metadata": {},
   "source": [
    "## 497 Knapsack Complexity Question\n",
    "\n",
    "For the knapsack problem that we just formulated, let's address the following two questions. Knapsack is in the class NP and knapsack is in the class P. For each of these statements, why don't you mark whether it's true or false?"
   ]
  },
  {
   "cell_type": "markdown",
   "id": "4cd7e9f9",
   "metadata": {},
   "source": [
    "## 499 Solution Knapsack Complexity\n",
    "\n",
    "Let's first address whether a knapsack problem lies in the class NP or not. In order to lie in the class NP we have to be able to verify solutions. We have to be able to do the following efficiently. We have to take a particular input to the knapsack problem. An input is given by a set of weights, a set of values, and a total capacity to the for the backpack, and we have to take a solution for that input. Now, in polynomial time, can we check whether this solution is in fact correct for this input? In order for S to be a solution for this input, what do we need to check? Well, we have the constraint that the total weight of the objects in this solution is at most B so we have to check that the sum of objects in this subset of the or individual ways is at most B. Or this is quite straightforward to do. We're just summing up at most n numbers so this takes at most order n time. The second thing that we need to check is that this subset is optimal in the following sense, that it maximizes the sum of the values. It's easy to check what the total value is, we just sum up the values, but how do we check that has maximum total value? How do we check that the value of this subset is better or at least as good as any other subset? For the MST problem, we could check that it has optimal value, it had minimum weight tree by running a polynomial time algorithm such as Kruskal's or Prim's. We checked the output of that algorithm and we look at the total weight of the tree produced and we compare that to the weight of the tree that we're considering in our proposed solution. Now, we had an algorithm for the knapsack problem that we looked at and the dynamic programming section. The running time of our dynamic programming algorithm was order n times B. The problem is that this running time is not polynomial time. It's not polynomial in the input size. Recall the input of size at least n to represent these n objects and how big is the representation of this one number B. Well, that takes log B bits. In order to be polynomial in the input size, we need an algorithm which runs in time polynomial in n and log B. So a dynamic programming algorithm which is actually exponential in the input size. We need a way to efficiently check solutions, so we can't run that dynamic programming algorithm because that's exponential time. We have no way of verifying that our proposed solution is optimal that it's a maximum total value. What is our conclusion? Is the knapsack problem in NP or not? Well the final statement is a bit subtle. If you said that true, knapsack is in NP, that is incorrect. We don't know how to show that knapsack is in NP. Now is knapsack not in np? Well we can't prove that at the moment. If we could prove that knapsack is not in NP, that would imply that P is not equal to NP. It could be the case that there is a polynomial time algorithm for the knapsack problem and then we could check this maximisation in polynomial time. What can we say? We can say that if you said knapsack is in NP, that is incorrect and as for a knapsack not being in NP, well, we don't know whether or not that's true. So the best we can say is that, as far as we know right now knapsack is not known to be in the class NP. Similarly, if you ask for the class P, well, as far as we know, knapsack is not known to be in the class P. Could it be that knapsack is in P? Sure it might be. There might be a polynomial time algorithm for knapsack, P might equal NP in which case knapsack will lie in NP, but as of right now, knapsack is not known to be in the class P. There is a simple variant of the knapsack problem, which is in the class NP. Let's take a look at that variant. What we're going to have to do is drop this optimization part and we're going to add in another input parameter. That additional input parameter is going to be our goal for the total value and then we're going to check whether our total value of our subset is at least the goal. Then, we can do binary search on that additional parameter. The goal for the total value. Let's go ahead and formalize that now."
   ]
  },
  {
   "cell_type": "markdown",
   "id": "d5253a05",
   "metadata": {},
   "source": [
    "## 500 Knapsack Search\n",
    "\n",
    "Now, we're going to look at the version of knapsack which is a search problem. Now, the input starts off the same as before. So, we'll have integer weights W1 through Wn, integer values V1 through Vn and a total capacity, capital B. All of these is the same as before for the original knapsack problem, but there's an additional input parameter which is our goal which will denote as little g. Our output is a subset as just as before where the total weight of this subset S is at most capital B. So, if I sum over the objects in the subset of their individual weights that's at most capital B. That's just as before and we look at the total value of this subset. Previously, we were trying to maximize this total value, but now we're going to just check whether this total value meets our goal. How is the immediate goal? Well, we just want that the total value is at least g. We're trying to maximize the total value. So, we wanted to be at least our goal. If we made it at most our goal that would be easy, that would be trivial. We could just output the empty set. And if we do better than our goal that's even better. That's why we make it at least g. But now, what happens if there's no subset which meets our goal? Well, if there's no solution to this problem, so there's no subset which meets this goal, then we simply output \"NO\". This is the correct form for our search problem. Notice that if we can solve this knapsack search version in polynomial time, then we can solve the original optimization version in polynomial time. How? Well, in the original version we were maximizing this sum of the total value. Here we're simply finding a subset whose total value is at least little g. Now, suppose that we could solve this version in polynomial time. How do we solve the maximization version? Well, we can simply do binary search over this little g and by doing binary search over the little g and we find the maximum little g which has a solution, then that tells us the maximum total value which we can achieve. How many rounds in our binary search are we going to have to run? How many of these knapsacks search version problems are we going to have to run in order to solve the optimization problem? Well, let's look at the sum of these values. Let's let capital V be the sum of all the values. Certainly the max of this total value that we can achieve is at most capital V. So, we're going to do binary search on little g ranging between one and capital V. So, the total number of rounds in our binary search algorithm is going to be at most order log V. What is the size of the input to represent these numbers? Well, it's log V. So, this algorithm, this binary search algorithm is polynomial in the input size. So, we can solve the knapsack search version in polynomial time, then we can solve the optimization version in polynomial time."
   ]
  },
  {
   "cell_type": "markdown",
   "id": "af35e5f2",
   "metadata": {},
   "source": [
    "## 501 Knapsack Search in NP\n",
    "\n",
    "Now this new version of the Knapsack problem does lie in the class NP, we can prove that now. So consider a particular input to the Knapsack-search version, we have the integer weights, integer values, total capacity, and our goal, and consider a particular solution. In order to check that this is in fact a solution, what do we need to do? We need to check that the total weight is in most capital B. So how to do that before. That's easy. We're just summing up at most order numbers. And now instead of checking that it has maximum total value, we just have to check that the total value is at least a little g. This again involves just adding up order n numbers. So we can check these two in O(n) time. We can check a proposed solution in polynomial time. Therefore, this version of Knapsack, the Knapsack-search version does in fact lie in the class NP. Now, let me just be a little bit more precise about one aspect which may be confusing some people. You may ask, \"Does this really take O(n) time to some of these numbers?\" Well, if you really look at it in terms of the magnitude of these numbers, we had capital V as the sum of all values. That's led capital W to note the sum of all weights. Certainly to add up to these numbers, the time required is at most the number of bits. The number of bits in each of these numbers is at most log of capital W. So the time required to compute this sum is the most order n times log of capital W. To compute this sum is the most O(nlogW). Since the input side is log of capital W and log of capital V, this is still polynomial in the input size. So it is correct that Knapsack-search version does lie in the class NP. We just verify-"
   ]
  },
  {
   "cell_type": "markdown",
   "id": "00089ef0",
   "metadata": {},
   "source": [
    "## 502 NP acronym for\n",
    "\n",
    "Now, we have these two complexity classes we'll consider so far, P and NP. What are these abbreviations stand for? P Well, P stands for polynomial time. Why? Because this is the class of search problems that can be solved in polynomial time. Now you might think that NP stands for non not polynomial time. That's incorrect. It Is it may be the case that we can solve NP problems in polynomial time as well? It may be the case that P equals NP. We don't know. So what does NP stand for? NP stands for non-deterministic nondeterministic polynomial time. What does non-nondeterministic mean? This is a class of problems that can be solved in polynomial time on a non-nondeterministic machine. That doesn't do much good, I still haven't defined this term non-nondeterministic. By nondeterministic, I mean a machine where I'm allowed to guess at each step and there is a series of guesses. There is a series of choices which leads to an accepting state. If you think of it in terms of a terminal, typically for a terminal, I specify on a particular input, say 1 one. I move from this day to this day day, and maybe on a particular input 0, I moved move from this date day to this other day. But now now, I don't have to specify which particular input I move from this day to this day. I just specify that sometimes, I might move from this day to this day and sometimes, from this day to this day. And for the case I want to terminal, I just need that there is a path in this terminal that goes to an accepting state. So there is a choice of branchings which leads me to an accepting state. I can't really explain it much more than what I just did, because to be honest, I don't understand it much more than that. But the important thing to remember is that NP does not stand for not polynomial time. What it stands for is nondeterministic polynomial time."
   ]
  },
  {
   "cell_type": "markdown",
   "id": "307965f6",
   "metadata": {},
   "source": [
    "## 503 P vs NP\n",
    "\n",
    "Let's go back and have a somewhat philosophical discussion on the P verses NP question. Recall that NP stands for the class of all search problems. Meanwhile, P is the class of those search problems that can be solved in polynomial time. So, every search problem lies in NP and P are those search problems which can also be solved in polynomial time. So P has an extra restriction. So P is a subset of NP. So if we look at it graphically, we have this class of problems in P, and then we have this class NP which is a superset of P. Now, we have some examples of problems which lie in P. For example, the MST problem that lies in P and it lies in NP. We just saw that the search version of knapsack problem lies in NP. We saw that the satisfiability problem lies in NP. We saw that the colorings problems lies in NP. Now, is there a separation here? Are there problems which lie in NP but do not lie in P? We don't know whether that's the case. It may be that all these problems in this band actually lie in P. That these two classes are the same. P equals NP or may be the case that there are problems which lie in NP which do not lie in P. That means that P is not equal to NP, and there are some problems that we can not solve in polynomial time."
   ]
  },
  {
   "cell_type": "markdown",
   "id": "73896636",
   "metadata": {},
   "source": [
    "## 504 NP Completeness\n",
    "\n",
    "I suppose that P is not equal to NP. Now looking at our diagram from before, that means that this donor, this separation between P and NP is non-empty. Therefore there are some such problems which can't be solved in polynomial time. They don't lie in the class P. What are the hard problems that lie in this donor? These intractable problems, these problems that we can't solve in polynomial time. The answer is NP complete problems. Now there may be other problems that lie in this class NP which do not lie in P. So they lie in this Donor but NP-complete problems are guaranteed to lie in this donor if it exists. NP complete problems are the hardest problems in the class NP. Let me repeat that because it's very key. NP complete problems are the hardest in the class NP. Now, what exactly do we mean by the hardest in the class? We mean that if P is not equal to NP then the following holds. Then all the NP complete problems are not in the class P. So all NP complete problems cannot be solved in polynomial time if P is not equal to NP. So if P is not equal to NP, this donor is non-empty. There are some problems in NP which don't lie in P, so we can't solve them in polynomial time. And what does NP complete mean? Well, these are the hardest in the class NP, so you can think of them as sort of as the outer layer of this donor. This outer layer are the NP complete problems. If there is some separation between these sets, then these NP complete problems are guaranteed to be in the difference. Now let's look at this statement more carefully. An equivalent statement is the contra-positive of it. Now what's the complement of all NP complete problems are not in P, where the compliment is that there exists in NP complete problem in P. In other words a NP complete problem can be solved in polynomial time. So, the complement of this conclusion that all NP complete problems are not in the class P is that there exists NP complete problem that can be solved in polynomial time. If this holds, then the complement of the hypothesis holds. The complement of the hypothesis is that P equals NP. If P equals NP, that means that all problems in the class NP can be solved in polynomial time. An equivalent statement to this one is that if there exists an NP complete problem that can be solved in polynomial time, then all problems in NP can be solved in polynomial time. Hence to show that a problem such as set lies in this and the complete portion of the donut. We have to show that if there is a polynomial time algorithm for set then there is a polynomial time algorithm for all problems in the class NP. We have to show that if there is an algorithm for set which works in polynomial time, we can use it as the black box to solve all problems NP in polynomial time. To do that, we're going to take every problem in the class NP. Now, there are many problems in this class. I've just marked a few of them but we have to take all such problems. So we take all such problems and we have to show that each of these such problems have a reduction to set. If we can solve set in polynomial time, we can solve every such problem in the class NP in polynomial time. Let's look at this more precisely on the next two slides."
   ]
  },
  {
   "cell_type": "markdown",
   "id": "352967d3",
   "metadata": {},
   "source": [
    "## 505 SAT is NP Complete\n",
    "\n",
    "What precisely does it mean for a problem to be NP complete? Let's define it now and let's use SAT as our example. So what does it mean for SAT to be NP complete? SAT is NP complete means the following. First off, we need that SAT lies in the class NP. So if we think as a class of problems that lie in NP, then the first requirement is that SAT lies in this class NP. So we have checked that for the SAT problem, we can efficiently verify solutions. And we've seen how to do that before. We saw how to prove that SAT lies in the class NP. Now the second requirement, is that SAT is the hardest problem in this class. What exactly do we mean by that? Well, we're looking at these problems in terms of whether we can efficiently solve them or not. So for SAT to be the hardest in this class, we mean that it's the least likely to have an efficient solution. What's another way of saying that it's the least likely to have an efficient solution? Is that, if we have an efficient solution for SAT, then we have an efficient solution for every other problem in NP. So let us write this down. So if we can solve SAT in polynomial time then we can solve every problem in NP in polynomial time. What does this mean? This means for every problem in NP, for example MST problem, colorings problem, there are other problems such as the TSP Traveling Salesman Problem, there's the independent set problem which we'll see shortly. For all these problems in NP, there is a reduction or transformation to the SAT problem. So we can take an input for the MST problem and we can transform it to an input to the SAT problem. And then if we have an algorithm which efficiently solves SAT, so it solves a SAT problem in polynomial time, then we can use that algorithm to solve MST. How? We take an input for the MST problem, we reduce it to an input for the SAT problem, and then we run our algorithm on the SAT problem and that gives us an output, a solution to the MST problem. And we can reduce all the problems in NP to SAT. Therefore, if we have an algorithm to solve SAT in polynomial time, we get an algorithm for all of the problems in NP. Now the point is that if P is not equal to NP, then we know that there are some problems in NP which cannot be solved in polynomial time. And therefore, we can't solve SAT in polynomial time because if we could solve SAT in polynomial time, then we can solve all of the problems in NP in polynomial time. Since there are some problems in NP that we can't solve in polynomial time under the assumption that P is not equal to NP, then therefore SAT is not in polynomial time. So SAT is not in the class P. So this means that SAT is the computationally most difficult problem in the class NP. So if you believe that P is not equal to NP, then there is no polynomial time algorithm for SAT. Or alternatively, if you believe that nobody knows how to prove that P equals NP, then nobody knows a polynomial time algorithm for SAT. So it's a reasonably fair assumption that as of right now there is no polynomial time algorithm for SAT. Why? Because if somebody had a polynomial time algorithm for SAT, then they could prove that P equals NP. And if they can prove that P equals NP, they could get a fair bit of money from some mathematical prizes, and they get some fame from proving that P equals NP. They get a Fields Medal and so on. Now let's formalize this a bit more. We know how to do this step. We know how to prove that SAT lies in the class NP. But how do we do this step? How do we prove that if there is a polynomial time algorithm for SAT, then there is a polynomial time algorithm for every problem in NP? So what we're going to do now is formalize this notion of a reduction. We want to show a reduction from problems such as MST and colorings to the SAT problem. What exactly do we mean by reducing this colorings problem to the SAT problem?"
   ]
  },
  {
   "cell_type": "markdown",
   "id": "479525a1",
   "metadata": {},
   "source": [
    "## 506 Reductions\n",
    "\n",
    "Now, let's consider problems A and B, and I want to show a reduction from A to B. And I want us to see what exactly that means. Now, as an example, we can think of A, problem A as the colorings problem, and problem B as the satisfiability problem. Now, this is a notation that we're going to use for a reduction. This is the same notation that's used in the Dasgupta textbook. Now, an alternative notation for reduction is that A is at most B. What does this notation mean? It means that when we show a reduction from A to B, we're showing that B is at least as hard computationally as A, because if we can solve B then we can solve A. Now, if we're trying to devise an algorithm, it'll be easier to devise an algorithm for A. Why? Because if we devise an algorithm for B, then not only do we solve B, but we also solve A. Whereas if we solve A, we may just solve A. We may not necessarily solve B at the same time. Now, let's formalize what exactly we mean by a reduction. So, a reduction from A to B means the following. So, verbally, this notation means reducing A to B. Formerly, this means that if we have an algorithm which solves problem B in polynomial time, so in this case, the SAT problem, then we can use that algorithm for problem B. So, in this case the SAT algorithm, we can use it to solve A in polynomial time. So, a reduction from the colorings problem to the SAT problem means that, if we have an algorithm to solve satisfiability in polynomial time, then we can use that algorithm to solve the colorings problem in polynomial time. Okay, let's dive into this and see how we actually show a reduction. How do we show a reduction from colorings to satisfiability?"
   ]
  },
  {
   "cell_type": "markdown",
   "id": "dbb312e5",
   "metadata": {},
   "source": [
    "## 507 How to do a Reduction\n",
    "\n",
    "Now, let's suppose I want to show a reduction from colorings to SAT. How do I do it. Well if we reduce coloring to SAT, what we're showing is that, if there is a polynomial time algorithm for SAT, then we can use it to get a polynomial time algorithm for colorings. So what do we do. We suppose that there is a polynomial time algorithm for SAT. And we're going to treat this algorithm like a black box. What does it mean to treat this algorithm as a black box. Well we don't know how the algorithm works, but we can use this as a basic subroutine. We can put in some input for SAT and we can get out some output and it takes polynomial time for that algorithm to run. And we're going to use this black box algorithm, as a subroutine to get a polynomial time algorithm for colorings problem. So let's look at it pictorially. So here's our black box algorithm for SAT. We can give it some input and it produces some output. Either it gives us a solution, or it outputs no, if there's no solution for that particular input. Now, we want to use this black box algorithm or subroutine for satisfiability problem and we want to use it to construct an algorithm for the colorings problem. So this red box denotes our subroutine for the colorings problem. So the input to our colorings problem, is a particular I, which in this case is a graph and a number of colors K. Now, what we need to do, is define a transformation f. We have to show how to transform this input to the colorings problem and produce an input to the satisfiability problem. So we have to change this graph and there's number of colors into a boolean formula. Then we plug that boolean formula into our set solver and our set solver either gives us a solution, in this case it's an assignment, which satisfies this formula or it outputs no, there's no solution for this input. Now, we have to transform this solution into a solution to the original colorings input. So we have defined another transformation which we denote is H.This H takes as input, a solution to our SAT input and it transforms it to get a solution to our original colorings instance. So if S is a solution to f(I), then h(s) is the solution to I. And if our SAT input had no solution, then we'll say that our colorings input had no solution. So if we get out no we output no."
   ]
  },
  {
   "cell_type": "markdown",
   "id": "88d52f21",
   "metadata": {},
   "source": [
    "## 508 More on Reductions\n",
    "\n",
    "To reduce colorings to SAT, what do we need to show? We need to find these two functions, f and h. f takes an input for the colorings problem and produces an input for the SAT problem. If you think of the input for the colorings problem as a graph and a number of colors, so it's a G and a k, then there are input for the SAT problem is f of Gk. Now, h takes a solution to this SAT problem o this f of Gk is a Boolean formula. It's going to take an assignment, a satisfying assignment for this boolean formula and it's going to produce a solution to the original colorings problem on Gk. So it's going to take an assignment which satisfies this boolean formula and it's going to produce h of S which is a colorings for this graph using k colors. We need to define these two functions f, which transforms inputs to colorings to inputs to SAT and h, which transform solutions to SAT into solutions for two colorings. Now, what do we need to prove in order to prove that this reduction is valid. Well, we need to prove that, if S was a solution to f, then h of S is a solution to the original G. But we also need that if there was no solution to f, then there is no solution to the colorings problem. So we need to show that if S was a solution to this SAT input, then h of S is a solution to this colorings input and vice versa. We need to show this equivalence, this if and only if statement because we need to know that the solutions here map to solutions here and no instances here are mapped to no instance here. We need both directions. We need solutions here if and only if solutions here."
   ]
  },
  {
   "cell_type": "markdown",
   "id": "b1b3bf20",
   "metadata": {},
   "source": [
    "## 509 NP Completeness Proof\n",
    "\n",
    "Now let's go back and see how we show that a particular problem is NP complete. Later we're going to consider this problem, independent sets problem, and we're going to prove that the independent sets problem is NP complete. Now the details of the independent sets problem is not important at this point. But, what exactly do we need to show in order to show that independent sets problem is NP complete? We need to show the following. I'm a bit lazy, so let me denote independent sets problem by IS. First, we need to show that the Independent sets problem is in the class NP, that we know how to do. We need to show that we can verify solutions in polynomial time. The second thing we need to show, is that if we can solve independent sets problem in polynomial time, then we can solve every problem in NP in polynomial time. Now the second thing we need to show, is that for every problem A in the class NP, there is a reduction from A to the problem independent sets. That means that if we have a polynomial time algorithm for the independent sets problem, then we can use that as a subroutine to solve the problem A in polynomial time. And since we can do this for every problem A in the class NP, then if there is a polynomial time algorithm for the independent sets problem, then there is a polynomial time algorithm for every problem in NP. But how can we do this second step? We need to take every problem in NP, and show reduction from every problem in NP to the independent sets problem."
   ]
  },
  {
   "cell_type": "markdown",
   "id": "5b0f1e5e",
   "metadata": {},
   "source": [
    "## 510 Simpler Proof Approach\n",
    "\n",
    "Now, suppose that we know that the SAT problem is NP-complete. Now, in fact, we do know this. What exactly does this mean? This means that SAT lies in the class NP. And, in addition, it means that, for all problems A, in the class NP we know reduction from A to the SAT problem. Now, suppose we show that the SAT problem reduces to the independent sets problem. Then, what do we know? We know that every problem A and NP reduces to SAT. So a reduces to SAT, and SAT reduces to the independent set problem. So, by just composing these reductions or composing these functions, we have a reduction from A to independent sets problem. And this holds for every A and NP. Therefore, for every A and NP, we have a reduction from A to the independent sets problem. If we have a known NP-complete problem such as SAT, then to show that the independent sets problem is NP-complete, we just have to show that the independent sets problem lies in the class NP, and that there is a reduction from SAT to independent sets. To recap, to show that the independent sets problem is NP complete, we need to show the following. The independent sets problem lies in the class NP, that's easy to do, and we have to take a known NP-complete problem such as satisfiability and we have to show how to reduce satisfiability to the independent sets problem. We have to take the known NP-complete problem and reduce it to our new NP-complete problem. Since every problem A and NP reduces to SAT because SAT is NP-complete, and we just showed this reduction from SAT to independent sets problem. therefore, we know how to take every problem A and NP and reduce it to the independent sets problem and we can start from any known NP-complete problem. At the beginning, we'll start with SAT and we'll build up our repertoire of NP-complete problems and then we can take any of these known NP-complete problems and reduce it to our new problem, which we're trying to show as NP-complete. Now, it sounds much more tangible. To prove that a problem such as independence problem is NP-complete, we have to just show that we can verify solutions in polynomial time. That's the first step and then we have to take a known and complete problem and reduce it to this new problem. Now, the second step is what confuses students many times. Often, they'll show the reduction in the other direction. That's not really proving anything. We already know that every problem in NP can be reduced to this known NP-complete problem. And even if they marked it this way, that they're trying to do a reduction from set independent sets, actually, in the proof, they actually do the reduction the other way. It's meaningless if you do the reduction in the other way. So this is the difficult part for students sometimes. You have to make sure that you're doing a reduction from the known NP-complete problem to this new problem that you're trying to show as NP-complete because you want to show that you can reduce every problem and NP to this new problem in order to prove that this new problem is computationally difficult. It's NP-complete. So next, we're going to dive in and we're going to prove some problems such as independent set problem are, in fact, NP-complete."
   ]
  },
  {
   "cell_type": "markdown",
   "id": "00585791",
   "metadata": {},
   "source": [
    "## 511 Practice Problems\n",
    "\n",
    "Now, at this point, you should understand the notions of the class P and the class NP and the notion of reductions. Now, we're going to see a lot of examples of proofs that a problem is NP complete. So I don't expect you to be comfortable with that at this point. But just based on these definitions, there are a few practice problems you can try from the textbook. The first two problems in Chapter 8 of the textbook, Dasgupta, Papadimitriou, and Vazirani, are relevant at this point. The first problem looks at reductions between optimization problems and search problems, and the second problem looks at reduction between search problems and decision problems. Now, in the next lecture, we're going to do our first NP completeness proof. We're going to prove that three set is NP complete using the fact that set is NP."
   ]
  }
 ],
 "metadata": {},
 "nbformat": 4,
 "nbformat_minor": 5
}
