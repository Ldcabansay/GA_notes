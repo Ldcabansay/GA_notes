{
 "cells": [
  {
   "cell_type": "markdown",
   "id": "b6d32a96",
   "metadata": {},
   "source": [
    "# LP3 Duality"
   ]
  },
  {
   "cell_type": "markdown",
   "id": "5d682913",
   "metadata": {},
   "source": [
    "## 440 LP Duality\n",
    "\n",
    "In this lecture, we'll explore the beautiful theory of LP duality. We'll start with a motivating example and then this will lead us into the general formulation of the dual LP. And we'll look at the weak duality theorem and some of its consequences. And finally, we'll look at the strong version of the duality theorem."
   ]
  },
  {
   "cell_type": "markdown",
   "id": "d26bb31f",
   "metadata": {},
   "source": [
    "## 441 Example\n",
    "\n",
    "Here is one of our earlier examples of an LP. This LP had three variables X_1, X_2, X_3 and four constraints, and the non-negativity constraints. Now this was an example where we illustrate the simplex algorithm on and we found that the optimal value was achieved at this vertex (200, 200, 100). And when you plug in this point into the objective function, the profit, the value of the objective function is 2400. Now suppose somebody simply gives us this point and claims that it's optimal. Is there some way that we can verify that this point is in fact an optimal solution? So what we're going to try to do is we're going to try to upper bound the profit, we're going to try to upper bound this objective function and show that the profit is at most 2400. How are we going to achieve an upper bound on this objective function? Well, we know that these constraints are all satisfied. So we're going to take linear combinations of these constraints and then try to achieve an upper bound on this objective function."
   ]
  },
  {
   "cell_type": "markdown",
   "id": "88e21e89",
   "metadata": {},
   "source": [
    "## 442 Upper Bound\n",
    "\n",
    "Here again is the LP that we're considering, and we're interested in this point 200, 200, 100, which has profit. The value of the objective function at this point is 2,400, and we're trying to verify that this is the optimal, the maximum profit that we can achieve. Now consider this vector Y. It's got four coordinates, and we're considering the vector zero, one-third, one, eight-thirds. Let's ignore how we got this vector Y for now, we'll address that later. Let's simply consider this vector for now. Now this vector has four dimensions because we have four constraints in this LP. So this number, these constraints. So X1 is the most 300, is the first constraint, and so on. The fourth constraint is X2 plus 3X3 is at most 500. Now we know any feasible point satisfies all four constraints, so it also satisfies any linear combination of these constraints. So let's take the linear combination defined by Y. So we're going to look at Y1 times the first constraint, Y2 times the second constraint, plus Y3 times the third constraint, and Y4 times the fourth constraint. Let's go ahead and write this out. So this linear combination, this expression is equivalent to the following. As to Y1 times the first constraint. So we get X1Y1 on the left hand side, and the right hand side we get 300 times Y1. Now for the second constraint, X2Y2 on the left hand side, and 200Y2 on the right hand side. Now let's use the third constraint. The left hand side has X1 times Y3 plus 3X2Y3 plus 2X3Y3. And the right hand side has 1000Y3. And finally the fourth constraint gives us X2 times Y4 plus 3X3 times Y4, on the left hand side,.then we get 500Y4, on the right hand side. Now we know that any feasible point X satisfies this inequality for any non-negative Y. If Y happens to have negative coordinates, then we have to worry about flipping the sign. But assuming Y is non-negative, then this inequality is satisfied by any feasible X. Now before we plug in our specific Y, let's collect terms and simplify this expression slightly. What are the X1 terms? Well we have a Y1 and a Y3. Now what are X2 terms? Well we have a Y2, 3Y3 and Y4. And lastly, what are the X3 terms? We have a 2Y3 and 3Y4. That completes the left hand side. The right hand side stays the same. So we have 300Y1 plus 200Y2 plus 1000Y3 plus 500Y4. Now finally, let's plug in the specific Y which we chose. So the coefficient of X1 is zero plus one, so it's one. So we get X1. For X2, we get one third plus eight thirds plus three. So we get 6X2. For X3, we get two plus eight, so we get 10X3. And the right hand side when you plug it in, it computes to 2,400. Now notice that the left hand side is exactly the objective function of the original LP. And we proved that this objective function is at most 2,400. So we've shown that any feasible X, the value of the objective function is at most 2,400. Therefore, the maximum profit that we can achieve is at most 2,400 and we have a point which achieves this profit. Therefore this point is optimal."
   ]
  },
  {
   "cell_type": "markdown",
   "id": "0bad0f29",
   "metadata": {},
   "source": [
    "## 443 Dual LP\n",
    "\n",
    "How do we find this Y? Or a better question is, what were the conditions that we needed on this Y? What do we need out of this Y? What we wanted that when we plug this Y in, that the left hand side was the objective function. Actually, we just need that it's at least the objective function. If the left hand side would have been X1 plus 7X2 plus 10X3, then, that still would have served as an upper bound on the objective function. Is that would be only bigger, so any upper bound on that new function would serve as an upper bound also on the original objective function. So let's ignore this specific Y. What are the conditions, once again, that we need on this Y? What we need that this left hand side is at least the objective function. So we need that the coefficient for X1 which is Y1 plus Y3, we need to be at least the coefficient of X1 in the objective function. So we need that Y1 plus Y3 is at least one. Similarly, for X2, we need that Y2 plus 3Y3 plus Y4 is at least six. And 2Y3 plus 3y4 is at least 10. Now any Y satisfying these three constraints, when we plug it in, the left hand side will be at least the value of the objective function. So the right hand side will serve as an upper bound on the left hand side and therefore, is also an upper bound on the original objective function. So any Y satisfying these three constraints, gives us, yields an upper bound on the objective function. So we want to get the smallest possible upper bound. So we want to minimize the right hand side and this way we get the smallest possible upper bound. So our objective is to minimize 300y1 plus 200y2 plus 1000y3 plus 500y4. This is the right hand side here. And this is our dual LP. This is in fact a linear program. We're just trying to find the feasible Ys. Those Ys satisfying these three constraints and we want to find the feasible Y which minimizes this objective function. So our original LP had a maximization. Now we have a minimization and our constraints originally were less than or equal to constraints and now they flipped to at least constraints. And notice that all these numbers, these coefficients are related to the original LP. Look, in our new objective function, where do we get 300, 200, 1000 and 500 from? Well these are the right hand sides here. The right hand side there came from the right hand sides of the original constraints. So the right hand sides of the original constraints tell us the coefficients for our new LP. Where did the right hand side for these three constraints come from? Well these came from the coefficients in the objective function. So the coefficients in the original objective function define the right hand sides in this dual LP constraints. And the right hand side in the original LP constraints define the objective function in this dual LP. So there's this sort of symmetry. Finally, where do the left hand side of the constraints come from? Well this first constrain, these are the terms which contain X1. Which constrains contain X1? Well the first constrain and the third constraint contain X1 and therefore, Y1 and Y3 appear in the first constraint. Which constrains contain X2? The second one, the third one and the fourth one. And therefore, in the second constraint, we have Y2, Y3 and Y4 appear because the second, third and fourth contain X2. One last note, notice, we have four constraints in the original LP. We're going to take a linear combination of these four constraints. We want to find out what are the coefficients in that linear combination. So our variables, we're going to have four variables in our new LP, one corresponding to each of the constraints. So there are four constraints. Our new LP will have four variables and our original LP had three variables, and that's going to yield three constraints because we have to look at the coefficients for each of those variables and make sure they're at least the coefficients in the original objective function. So a number of variables in the original LP defines the number of constraints in the new LP, the dual LP. And the number of constraints in the original LP, defines the number of variables in the new dual LP."
   ]
  },
  {
   "cell_type": "markdown",
   "id": "13077af2",
   "metadata": {},
   "source": [
    "## 444 Dual LP Example\n",
    "\n",
    "Let's summarize and recap the previous example. So, this was the original LP. We had three variables and four constraints. Our new LP, the dual LP had four variables: y1, y2, y3, and y4. The objective function was to minimize 300y1 plus 200y2 plus 1000y3 plus 500y4. This was the right hand side of the linear combination of these constraints. First constraints, so that y1 plus y3 is at least one. This gave us a coefficient of at least one on the left hand side. y2 plus 3y3 plus y4 is at least six. We took the constraints containing x2 that the final left hand side and the right hand side was from this coefficient of this objective function in the original LP. The third constraint was 2y3 plus 3y4 is at least 10. And finally we needed that the y's were non-negative. Now, a feasible x here, achieved this profit. So any feasible x gives us a lower bound on the profit that we can achieve. It actually shows an example where you can achieve that profit. Now, in this dual LP, any feasible y gives an upper bound on the profit that we can achieve in the original LP. Now, this new LP is called the dual LP. The original LP in order to give it a name, it's referred to as the primal LP."
   ]
  },
  {
   "cell_type": "markdown",
   "id": "21bbeb2c",
   "metadata": {},
   "source": [
    "## 445 General Form\n",
    "\n",
    "Now, let's look at the general formulation of this Dual LP. Now, the original LP, the primal LP, is of the following form. Where maximizing C transpose X, subject to the constraints, a times x is at most b, and x is at least zero. Now, this LP has N variables, X is a vector of size N, and it has M constraints. Capital A is a matrix of size M by N. It has M rows and N columns. Now, what is a Dual LP? Now, instead of maximizing, we're trying to minimize. We're trying to minimize the profit. We're trying to find the smallest upper bound possible on the profit. We took a linear combination of these constraints, and the right hand side was our objective function. We're trying to minimize the right hand side. The right hand side is defined by this vector b. So, our objective function is going to be minimize_b_transpose_y. Now, the right hand side of our constraints comes from the objective function, the coefficients and the objective function. So, there are constraints. The right hand side is going to be at least C. How do we get the left hand side? We look at these constraints and we check which ones contain x1, the first and the third. What does that correspond to in this matrix A? That corresponds to the first column on the matrix A. The first column tells us which constrains contain x1. The second column tells us which constrains to contain x2. Second, third, and fourth. And therefore, we have a y2, y3, and y4 term. So, instead of looking at the matrix A, we're going to look at A transpose, because we're interested in the columns of A. And we're going to multiply this by Y. So, our constraints are going to be a transpose times Y is at least C. And once again, we have that Y is non-negative. So, given a primal LP in canonical form, this is the dual LP. And whereas the primal LP has M constraints, the dual LP has M variables. And the primal LP has N variables, the dual LP will have N constrains. One last note, in order to apply this formulation of the dual LP, we need that the primal LP is in canonical form. So, all the constrains have to be less than or equal to, and the objective function has to be a maximization problem. But, we discussed earlier how to convert any LP into canonical."
   ]
  },
  {
   "cell_type": "markdown",
   "id": "50dd7bff",
   "metadata": {},
   "source": [
    "## 446 Dual of Dual\n",
    "\n",
    "Let's do a quick sanity check. Let's take a primal LP. So take a primal LP in canonical form, maximize C transpose X, Ax is at most B, X is at least zero. Now let's take the dual of this LP and then let's take the dual of that dual LP. What should the final result be? Well, it should be equivalent to the original LP. The dual of the dual should be the primal. So let's check that as true. Let's take the dual of this LP. This gives us minimize B transpose Y. Our variables now are Y. The constraints are that A transpose Y is at least C, and Y is nonnegative. Now we want to take the dual of this LP. First, we have to convert it into a canonical form. Now in order to convert this LP into canonical or standard form, it changes min into a max. So we multiply it by negative 1. This minimization is equivalent to maximizing negative B transpose Y. We do a similar trick to convert this greater than or equal to constraint into a less than or equal to constraint. It becomes negative A transpose Y is at most negative C and we keep the last non-negativity constraint. Now let's take the dual of this LP. Let's denote the new variables as Z. The dual will be a minimization problem. The objective function will be defined by this vector, negative C. So we get negative C transpose times Z as the objective function. The constraints will be defined by the transpose of this, so it will simply be negative A times Z is at least negative B. And Z is at least 0. Now if you convert this into canonical or standard form, the objective function becomes maximize C transpose Z which is the same as the original primal LP with X replaced by Z. And this constraint becomes A times Z is at most B. Which is again, is equivalent to the original constraint with X replaced by Z. So these two LPs are equivalent. So if you take an LP and you take it's dual, and then you take it dual once again, you get back the original LP. The primal LP."
   ]
  },
  {
   "cell_type": "markdown",
   "id": "1830387e",
   "metadata": {},
   "source": [
    "## 447 Quiz Dual LP Question\n",
    "\n",
    "Let's get some practice writing the dual LP. Here's a simple example LP with three variables: x_1, x_2, and x_3. The objective function is to maximize five times x_1 minus 7x_2 plus 2x_3. There are two constraints. The first constraint is that x_1 plus x_2 minus 4x_3 is in most one. The second constraint is that 2x_1 minus x_2 is at least three. And, finally, there's the non-negativity constraint x_1, x_2, and x_3 are at least zero. For this primal LP, what is its dual LP? Now, let's break it up into several parts, then do it more slowly. The first question is: how many variables are in this dual LP? And the second question is: how many constraints in this dual LP? And by constraints we're not counting the non-negativity constraints, so this one has two constraints. So, let's first address these two questions and then we'll address the details of the dual LP."
   ]
  },
  {
   "cell_type": "markdown",
   "id": "d29c9750",
   "metadata": {},
   "source": [
    "## 449 Quiz Dual LP Constraints Question\n",
    "\n",
    "Let's look at the solution to our earlier quiz before detailing the dual LP. Since the primal LP has three variables, x1, x2, x3, the dual LP has a constraint for each variable in the primal LP. So, there are three constraints in the dual LP. And since the primal LP has two constraints, the dual LP has a variable for each constraint. So there are two variables in the dual LP. Let's denote these variables as y1 and y2. Now, since the primal LP is maximizing, in the dual LP, we're trying to find the smallest possible upper bound. So we have a minimization problem. Now the objective function is going to be a linear function of y1 and y2. The question is, what are the coefficients of this objective function? Let's denote these coefficients as d1 and d2, and we're trying to find this vector d. Now there are three constraints. Each one is a linear function of y1 and y2. And let's denote the left-hand side, the coefficients of the left-hand side of the constraints by matrix e. So for the first constraint this will be e1 1 and this will be e1 2. Second constraint will be e 2 1 times y1 plus e2 2 times y2. And for the third constraint we'll have e3 1 and e3 2. Now in the dual LP, in standard form, these constraints will all be at least constraints, and let's denote the right-hand side of these constraints by the vector f. So this will be f1, f2, and f3. And the next quiz is to detail this dual LP. To do that we need to specify this vector d, d1 and d2. We need to specify this matrix e. And finally, we need to specify the right-hand sides of the constraints, which is the vector f. And, of course, there are also the non-negative constraints, y1 and y2 are at least zero. So why don't you go ahead and specify this vector, and this vector, and this matrix, and then we'll show the solution video, which is detailing this dual LP."
   ]
  },
  {
   "cell_type": "markdown",
   "id": "cae07dd6",
   "metadata": {},
   "source": [
    "## 450 Quiz Dual LP Constraints Solution\n",
    "\n",
    "To define the Dual LP, we first have to convert the primal LP into canonical or standard form. This conversion is just for convenience. It's easier to remember how to convert an LP in standard form into its Dual LP. When we have an LP like this, with these mixed inequalities, it's harder to remember how to convert into dual LP. Now to convert this into canonical or standard form, we need to flip this inequality. We flip it by multiplying both sides by negative one, and it becomes minus two times x_1, plus x_2, isn't most negative three. This is equivalent to the original constraint. To get the coefficients for the object function in a dual LP, we look at the right-hand side of the constrains in the primer LP. The right-hand sides are one, and negative three. So this vector d is one, negative three. And the objective function is minimizing Y_1, plus negative three times Y_2. This matrix E will be the transpose of the constraint matrix E over here. The first row in E will correspond to the column for x in the primal. The column for x is one, negative two. So the first row will be one, negative two. So the left-hand side of the first constraint is Y_1, minus 2Y_2. Second row is defined by x_2, which is one, one. So the left-hand side is Y_1, plus Y_2. The third row is defined by x_3, which is negative four, zero. So the left-hand side of the third constraint is negative 4_Y_1. For the right-hand side of the constraints in the dual LP, we look at the objective function in the primal LP. The coefficients are five, negative seven, two. So this vector f is five, negative seven, two. And the right- hand sides are five, negative seven, tow. So the first constraint is Y_1, minus 2Y_2 is at least five. The second constraint is Y_1, plus Y_2 is at least negative seven. The last constraint is negative 4Y_1 is at least two. And this defines a Dual LP."
   ]
  },
  {
   "cell_type": "markdown",
   "id": "12b35ac1",
   "metadata": {},
   "source": [
    "## 451 Weak Duality\n",
    "\n",
    "Now, we can state that weak duality theorem. This is an immediate consequence of how we formulated the dual LP. Take a feasible point for the primal LP. The value of the objective function in this case is C transpose X. And recall, we're trying to find the X which maximizes this objective function. Now, let's look at the dual LP. Take a feasible point Y for the dual LP. What's the value of the objective function for this dual LP? Well, that's B transpose Y. Now what we need to know is that any feasible Y gives an upper bound on the objective function of the primal LP. So this B transpose Y is an upper bound on the objective function. So we know that C transpose X, this is a value of the objective function that we can obtain at the point X. This is upper bounded by the value of the objective function at Y which is B transpose Y. Y gives an upper bound on the objective function of the primal LP. And this is the value of an primal LP objective function that we can obtain. So the left hand side is the primal LP objective function, and the right hand side is a dual LP objective function. Since any feasible point gives an upper bound on the primal LP objective function, we have this week duality theory."
   ]
  },
  {
   "cell_type": "markdown",
   "id": "dec90c1d",
   "metadata": {},
   "source": [
    "## 452 Matching Values\n",
    "\n",
    "Now, in our original example of the dual LP, we use a specific primal LP where we had run simplex, we found the point 200, 200, 100 and had profit the value of the objective function was 2400. Now we were able to find a feasible Y where it's value of the objective function in dual LP was also 2400. So that established, that proved that the optimal value was at most 2400 and since we achieved 2400 at this point X therefore, it was an optimal point. And in general, we have the following corollary of this theorem, the weak duality theorem. If we find a feasible point X for the primal LP and a feasible Y for the dual LP where their values of the objective functions match. So C transpose X equals B transpose Y. So, we have equality here which is what we achieved in that early example. Then what we can conclude from this weak duality theorem, is that X and Y are both optimal. X is an optimal point for the primal LP. It maximizes the objective function of the primal LP and Y is an optimal point for the dual LP. It minimizes the objective function of the dual LP. So, if we can find a feasible point X in the primal LP and a feasible point Y in the dual LP, where their objective functions match, then these two points are optimal. Now, does there always exist a point X in the primal LP and the point Y in the dual LP where we have equality? Yes, there does. That's the strong duality theorem. Under certain conditions, we have to have an optimal value for the primal LP and an optimal value for the dual LP. So, we need both the primal and the dual to be feasible and bounded. So, let's first discuss these special cases. The cases where one of them is infeasible or unbounded."
   ]
  },
  {
   "cell_type": "markdown",
   "id": "55341722",
   "metadata": {},
   "source": [
    "## 453 Unbounded LP\n",
    "\n",
    "Now let's take a look at another corollary, the weak duality theorem. Here's the second corollary. Suppose the primal LP is unbounded so the left hand side here will be infinite. What does that imply about the dual LP? Well, the right hand side has to be bigger than infinite. There's no way to achieve that. So the dual LP must be infeasible. So if the primal is unbounded, then the dual LP is infeasible and vice versa. If the dual is unbounded, then the primal is infeasible because the dual LP is minimizing the right hand side. So if that's negative infinity, then this is undefined. So the primal must be infeasible. Now notice this is not an equivalence. This is not an if and only if statement. It can be the case that the primal is infeasible and the dual is infeasible. So the implication has only one direction. If we know that the dual is infeasible, then the primal LP might be unbounded or it might be infeasible. And you'll do as a homework exercise to construct an example where the primal is infeasible and the dual is also infeasible. But now this implication is important. It says that if the primal LP is unbounded, then the dual is infeasible. Now let's use that."
   ]
  },
  {
   "cell_type": "markdown",
   "id": "04d77130",
   "metadata": {},
   "source": [
    "## 454 Check Unbounded\n",
    "\n",
    "Now let's go back to one of our questions from earlier. Can we check whether an LP is unbounded? So consider an LP in canonical form, maximize C transpose X, AX is at most B, and X is non-negative. Now, can we check whether this LP is infeasible or not? Well, we saw how to do that. We make a new LP by adding another variable Z, and we maximize Z and we change the constraint to AX plus Z is at most B, and we check whether there's a solution where Z is non-negative. If there is such a non-negative Z which satisfies this new LP, then that gives us a feasible point of the original LP. So we saw how to do this, and we saw how to obtain a feasible point of this LP, if it is feasible. Now, how do we check whether this LP is unbounded or not? Well, what do we know? We know if it's unbounded then the dual LP will be infeasible. So we could simply check the dual LP and check whether it's feasible or not. Well, if we simply check the dual LP and we see it's infeasible, then what do we know about the primal? Well, if the dual LP is infeasible, then the primal is either unbounded or infeasible. We don't know which of these two is the case because the weak duality theorem just tells us that if the primal is unbounded, then the dual is infeasible. But it's non-equivalence. So how do we check whether this original LP is unbounded or not? Well, first we check whether it's feasible or not, whether there is a feasible point for this primal LP. Assuming there is at least one feasible point so the feasible region is non-empty. So it is not infeasible. And then we check whether the dual LP is infeasible. So now we know that the primal is not infeasible. So it's true to this case. So now if the dual LP is infeasible, then we know the primal is unbounded. So we simply have two feasibility questions. We check whether the primal is feasible or not. And then we check whether the dual is infeasible or not."
   ]
  },
  {
   "cell_type": "markdown",
   "id": "190e92cf",
   "metadata": {},
   "source": [
    "## 455 Weak Duality Part 2\n",
    "\n",
    "Now to recap, our weak duality theorem gave us two nice consequences. The second consequence that we obtain was that if the primal LP was unbounded then the dual is infeasible. This gave us a way of checking whether an LP is unbounded or not. We simply first check whether the primal LP is infeasible or not. If it's not infeasible so the feasible region is non-empty then to check whether it's unbounded, we checked the dual LP and see whether it's infeasible or not. Now, the original consequence was that if we find a feasible point for the primal LP and a feasible point for the dual LP and if the value of the objective function for these two points match up, we have equality then these two points that we obtained X and Y are optimal. So, X achieves the optimal value for the primal LP object function and Y achieves the optimal value for the dual LP objective function. Now for this specific example we consider, we were able to obtain a Y which achieved this equality. Now, the question is, is there always a Y and an X which achieve equality here? And that's the case if the primal LP and the dual LP are both bounded and feasible."
   ]
  },
  {
   "cell_type": "markdown",
   "id": "575e677b",
   "metadata": {},
   "source": [
    "## 456 Strong Duality\n",
    "\n",
    "The strong duality theorem states that, the primal LP is feasible and bounded. So it is not infeasible and it is not unbounded. So the feasible region is non-empty, and there is an optimal solution. If this is the case for the primal LP, then the dual LP has a similar scenario. It's also feasible and bounded and vice versa. Now, if the primal LP is feasible and bounded, that means there exists an optimal solution. So an equivalent formulation of this statement is the following. The primal has an optimal point X star, if and only if the dual LP has an optimal point Y star. So if there is an optimal point for one, then there's an optimal point for the other. Now, what do we know about these optimal points? When we saw in our earlier example that these objective functions match up. And that turns out to always be the case. The value of this object function at X star, equals the value of this objective function at Y star. So C transpose X star equals B transpose Y star. So for every LP given the optimal solution X star, there is always a certificate from the dual LP which certifies that that is in fact an optimal solution. Now, one of the nice implications of this strong duality theorem is that if we write the LP for the max flow problem, then the value of the objective function for that LP is the size of the max flow from S to T. Now, if we write the dual LP it turns out that what we get is the capacity of the min st-cut. Now, since these are dual LPs of each other, then we know that we have equality. So the size of the maximum flow equals the capacity of the min st-cut. So this max flow min theorem which we saw earlier in the max flow section, we can also prove it using strong duality theorem."
   ]
  }
 ],
 "metadata": {},
 "nbformat": 4,
 "nbformat_minor": 5
}
