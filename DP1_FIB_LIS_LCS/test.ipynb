{
 "cells": [
  {
   "cell_type": "markdown",
   "metadata": {},
   "source": [
    "## 3 FIB1 Recursive Algorithm\n",
    "\n",
    "Let's look at the natural recursive algorithm for computing the Nth Fibonacci number. Recall from the previous slide, the recursive formula for the Nth Fibonacci number is the sum of the previous two Fibonacci numbers. Let's detail the recursive algorithm for computing the Nth Fibonacci number. We'll call the algorithm Fib1, a little bit foreshadowing. \n",
    "\n",
    "$$\n",
    "\\text{ for } n > 1: F_n = F_{n-1} + F_{n-2}\n",
    "$$\n",
    "\n",
    "```\n",
    "Fib1(n):\n",
    "    input: integer n>=0\n",
    "    output: F_n\n",
    "    if n=0, return(0)\n",
    "    if n=1, return(1)\n",
    "    Return( Fib1(n-1) + Fib1(n-2))\n",
    "```\n",
    "\n",
    "\n",
    "This will be our first attempt then we'll have a second successful attempt for efficiently computing the Fibonacci numbers. Recall the input to our algorithm is a non-negative integer n, and the output is the Nth Fibonacci number or more precisely actually the n plus first Fibonacci number if you're keeping track of the indices. First, we'll deal with the base cases. The first two Fibonacci numbers are zero and one. In general, we'll utilize the recursive definition of the Fibonacci numbers. We will recursively compute the n minus first, and n minus second Fibonacci number. And we'll return the sum of those two. This completes the definition of our algorithm. \n",
    "\n",
    "Now, let's take a look at the running time of our algorithm. To analyze the running time of our algorithm, let's create a function T of n which denotes the number of steps of our algorithm and an input of size n.\n",
    "\n",
    "$$\n",
    "\\text{Let $T(n)$ = num steps for Fib1(n)}\n",
    "$$\n",
    "\n",
    "We have two basic cases first: `if n=0, return(0)` and `if n=1, return(1)` . Those each take $O(1)$ time.\n",
    "\n",
    "\n",
    "And then, we have a two recursive calls, one of size n minus one, and one of size n minus two. Those take time $T(n-1) + T(n-2)$. Putting it all together, we have the following formula.\n",
    "\n",
    "$$\n",
    "T(n) \\leq O(1) + T(n-1) + T(n-2)\n",
    "$$\n",
    "\n",
    "Our running time on the input of size n is $O(1)$ for the two base cases and then, T of n minus one in order to compute the n minus first Fibonacci number, and T of n minus two to compute the n minus second Fibonacci number. \n",
    "\n",
    "Now, this formula may look a little bit familiar. Notice, it reminds us of the Fibonacci numbers. In Fibonacci numbers, the n minus Nth Fibonacci number is the sum of the previous two. This is the sum of the previous two plus an extra term. *So, it's at least as large as the Nth Fibonacci number.* Therefore, our running time on input of size n is at least the Nth Fibonacci number. \n",
    "\n",
    "Now, unfortunately Fibonacci numbers grow exponentially in $n$. More precisely, they grow exponentially in this constant $\\phi$. What is $\\phi$? Well, $\\phi$ is this constant defined as one plus square-root five over two which is roughly 1.618. But phi is a magical constant. It's known as the golden ratio. The golden ratio has many applications. \n",
    "\n",
    "For example, if you're designing a building such as the Parthenon or if you want just a cool fact to show your kids, then look up the golden rectangle. But for us, the punchline is that the Fibonacci numbers grow exponentially in n. And the running time to compute the Nth Fibonacci number using a recursive algorithm is at least the Nth Fibonacci number.\n",
    "**So, our running time is exponential in n.** \n",
    "\n",
    "So this is a terrible algorithm for computing the Nth Fibonacci number. Let's take a look at exactly why our running time is so terrible and then, we'll get an idea for a more efficient algorithm."
   ]
  },
  {
   "cell_type": "markdown",
   "metadata": {},
   "source": []
  }
 ],
 "metadata": {
  "language_info": {
   "name": "python"
  },
  "orig_nbformat": 4
 },
 "nbformat": 4,
 "nbformat_minor": 2
}
