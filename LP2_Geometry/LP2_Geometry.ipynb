{
 "cells": [
  {
   "cell_type": "markdown",
   "id": "026005f4",
   "metadata": {},
   "source": [
    "# LP2 Geometry"
   ]
  },
  {
   "cell_type": "markdown",
   "id": "663709be",
   "metadata": {},
   "source": [
    "## 433 LP Geometry\n",
    "\n",
    "Let's discuss the geometry of linear programs. Consider a linear program in standard form. Let's say, that there are N variables. So, X is a column vector of size N. And let's let M denote the number of constraints. As we discussed earlier, the feasible region, the set of axes which satisfy these constrains, forms a convex set. Each constraint defines a half space in N dimensions. The set a points satisfying all M constraints are in the intersection of these M half spaces defined by the constraints. So, this forms a convex polyhedron in N dimensions. We illustrated the simplex algorithm on our earlier example and recall that the simplex algorithm is walking on the vertices or the corners of this feasible region. Now, the key point is that since this feasible region is convex, the optimum, the points maximizing this objective function, are going to be achieved at vertices of the feasible region. Now, that's not always true. So, let's explore exactly when it is true."
   ]
  },
  {
   "cell_type": "markdown",
   "id": "e359def7",
   "metadata": {},
   "source": [
    "## 434 LP Optimum\n",
    "\n",
    "Now, the key, once again, for algorithms which solve linear programs is that the optimum is achieved at a vertex of the feasible region except for the following cases. The two exceptions to this are when the LP is infeasible, and when the LP is unbounded. An LP is infeasible means that the feasible region is empty. There are no points which satisfy all of the constraints. Here's a simple example of an infeasible LP. We have two variables, x and y, and objective function is to maximize 5x minus 7y. And this is subject to the following constraints, x plus y is at most one, 3x plus 2y is at least six, and x and y are non-negative. Now let's take a look at the feasible region for this LP."
   ]
  },
  {
   "cell_type": "markdown",
   "id": "537d8340",
   "metadata": {},
   "source": [
    "## 435 Infeasible Example\n",
    "\n",
    "Now here's our example from the previous slide. Here's the illustration of the feasible region. First off, we have the non-negative constraints defined by the axes. So in the upper right quadrant, the first constraint says that x plus y is that most one. That's illustrated by this line, and we're looking at the points on this side of this line. The next constraint says that 3x plus 2y is at least six. That's defined by this line, and we're considering this half space. Now notice that the two half spaces defined by these two constraints don't intersect. So there are no points x, y satisfying both these constraints while maintaining the non-negativity constraint. Hence, the feasible region is empty. So there are no points satisfying these constraints. So this objective function, this LP, is undefined. Now notice that infeasibility had nothing to do with the objective function. Regardless of the objective function for these constraints, the LP will be infeasible."
   ]
  },
  {
   "cell_type": "markdown",
   "id": "0c9c16f2",
   "metadata": {},
   "source": [
    "## 436 Unbounded Example\n",
    "\n",
    "Now les take a look at what it means for an LP to be unbounded. This means that the optimal value of the objective function is arbitrarily large. Let's take a look at an example of an unbounded LP. Let's look at the following LP. We have two variables x and y, we're maximizing x plus y subject to the following constraints, x minus y is at most 1, x plus 5y is at least three. And then we have the non negativity constraints. Let's take a look at the feasible region for this LP. Here's the feasible region based on the non-negativity constraints. We're in the upper right quadrant. The first constraint x minus y is at most one, defines this half space and x plus 5y is at least three, defines this upper half space. And this colored region are the feasible points. Now the picture is truncated at y equals five but actually this feasible region is unbounded set. Now let's look at this objective function x plus y. What we've illustrated here are the heat map and the level set for this object to function x plus y. So the blue regions are the lower values of this objective function and as we get up to the red regions, we get the higher values of this objective function. So notice the objective function is increasing as we move up. And we've also illustrated the level sets so we look at x plus y equals c for different values of c. So here c equals two, c equals four and as we keep going up, we get larger values of this objective function. And once again, the picture is truncated y equals five, but the feasible set is unbounded. So we get unbounded values of feasible points x, y. For unbounded values of c. Now one important point is the fact that this LP is unbounded, is a function of this objective function. The optimal value for this objective function is achieved in this unbounded region of this feasible region. Now there could be some objective functions where their optimum are achieved at these vertices. Let's take a look at such an example."
   ]
  },
  {
   "cell_type": "markdown",
   "id": "8ead6882",
   "metadata": {},
   "source": [
    "## 437 Unbounded to Bounded\n",
    "\n",
    "So here, again, is the feasible region for this LP and let's change this objective function. Let's maximize 2x-3y. Let's look at the level sets for this objective function in this feasible region. Here's the feasible region once again with the heat map and the level set's mark. So if we look at this line, 2x-3y=c, we achieve c=-12 on this line, and then it increases as we go down. So the optimal value of this LP is going to be achieved at this vertex of the feasible region. So this maximization is defined for this objective function, whereas for the other objective function, the maximization was undefined. So whether an LP is feasible or infeasible simply depends on the constraints, whether an LP is bounded or unbounded depends on the objective function."
   ]
  },
  {
   "cell_type": "markdown",
   "id": "7d866a48",
   "metadata": {},
   "source": [
    "## 438 LP Optimum Part 2\n",
    "\n",
    "Now, how can we check whether our LP is feasible or infeasible? And if it is feasible, how can we check whether it's unbounded or not? Let's first address how we determine whether it's feasible or not, and later in the lecture, we'll address whether it's unbounded or not. To figure out whether a feasible LP is unbounded or bounded, we're going to have to look at the dual LP. So we'll defer that discussion until after we discuss duality. Let's look now at how we determine whether an LP is infeasible."
   ]
  },
  {
   "cell_type": "markdown",
   "id": "10e6591e",
   "metadata": {},
   "source": [
    "## 439 Infeasible\n",
    "\n",
    "Let's consider an LP in standard form, and we'd like to figure out whether there are some axis which satisfy these constraints. So, this has nothing to do with the objective function. Simply looking at the constraints, is there any point x satisfying all of the constraints? So, is the feasible region empty or not? Let's make a new variable z. Now, X was a vector of size n, so, it consisted of n variables. That's not a vector, that's just a single variable. Now, consider one of the constraints here, a1x1 plus a2x2 and so on, up to anxn is at most little b. Now, is there a solution to this under the non-activity constraint? Well, there may or may not be. But suppose, we take the same constraint and we add in z to the left hand side. We keep the non-negativity constrains for the variables x1 through xn, but z is unrestricted. So, it can take on positive or negative values. In this case, there is always a solution to this new equation. Why? Simply set z small enough, and then, this is trivially satisfied. So, let's think of z as negative infinity though, in fact it's a finite number. It suffices to take a small enough number relative to the numbers a1 through an and little b. So, this constraint is trivially satisfied for a small enough z. Now, the question is, whether there is a solution to this equation, when z is at least zero. If we can find a solution to this new equation, where z is non-negative then, we can drop z and we still have this condition satisfied. So, our original constrain is equivalent to the new constrain with the extra condition that z is at least zero. But if we drop this constraint, that z is non-negative then, there's trivially a solution to this. So, we have a starting point, and then we can run an LP, and we maximize z, and we see whether there's a solution with z as non-negative. So, we just consider one constraint, let's consider all n constraints. So, we look at the new LP which has the constraints Ax plus z is at most b, and x is non-negative, but z is unrestricted. Since z is unrestricted, it's trivial to always find a feasible point. We simply set z to be a small enough number. Now, our goal is to figure out whether there is a solution whereas z is non-negative. So, we add in the objective function maximize z. This new LP is always feasible, and we can run this LP and check whether the optimal value of z is non-negative. If the optimal value is non-negative, then that point, those Xs, if we ignore z, give us a feasible point to the original LP. And if this LP is optimized when z is negative, then we know that the original LP is infeasible. So, this gives us a way to check whether an LP is feasible or not, and it also gives us this feasible point for this LP if it is feasible. So, that'll give us a starting point for the simplex algorithm."
   ]
  }
 ],
 "metadata": {},
 "nbformat": 4,
 "nbformat_minor": 5
}
