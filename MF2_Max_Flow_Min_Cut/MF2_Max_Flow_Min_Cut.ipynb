{
 "cells": [
  {
   "cell_type": "markdown",
   "id": "3ff1891b",
   "metadata": {},
   "source": [
    "# MF2 Max Flow Min Cut"
   ]
  },
  {
   "cell_type": "markdown",
   "id": "9d4cbf30",
   "metadata": {},
   "source": [
    "## 354 Lecture Outline\n",
    "\n",
    "In this lecture, we're going to have two main tasks. The first task, is to prove the max-flow min-cut theorem. Later, we're going to use this theorem to solve the image segmentation problem. Our second main task, is to prove correctness of the Ford Fulkerson algorithm. And in fact we will prove correctness of the Edmonds-Karp algorithm at the same time. Now this is going to follow as a byproduct of the max-flow min-cut theorem. Let's start with a quick overview of what we've seen so far for the Ford Fulkerson algorithm."
   ]
  },
  {
   "cell_type": "markdown",
   "id": "16fd7223",
   "metadata": {},
   "source": [
    "## 355 Recap Ford Fulkerson\n",
    "\n",
    "The input to the Ford–Fulkerson algorithm, or to the Max flow problem in general, is a flow network. This is a directed graph G with a specified star and N vertex S and T. And for each edge of the graph, where specified a positive capacity C_sub_e. Now, if you recall for the Ford–Fulkerson algorithm, to analyze the running time, we required that the capacities were integer value. Let's ignore that assumption for now and let's look at the more general Max flow problem. The output for the algorithm or for the Max flow problem is a flow of maximum size. And recall that the size of the flow is the flow out of the source vertex or the flow into the sync vertex T. Now recall, we analyzed the running time of the Ford–Fulkerson algorithm but we didn't prove that the flow that's outputted by the Ford–Fulkerson algorithm is of maximum size. So let's look at that now. What do we know about this flow that's outputted by the Ford–Fulkerson algorithm? In particular, when did the Ford–Fulkerson stop? What is the stopping condition for the algorithm? The algorithm stops when we look at the residual graph for the current flow. So this is G superscript f-star. Now in this residual graph, we look for a path from s to t. Such a path is called an augmenting path. If there's no augmenting path, there's no path from s to t in this residual graph, then the algorithm stops. We have no way to augment the flow to get a bigger flow. We're going to prove the following general lemma: for a flow f-star, If there's no augmenting path in the residual graph G superscript f-star, then its flow is a Max flow. So if in the residual graph there's no path from s to t, then this flow is a Max flow."
   ]
  },
  {
   "cell_type": "markdown",
   "id": "92ddf3f7",
   "metadata": {},
   "source": [
    "## 356 Quiz Verifying Max Flow Question\n",
    "\n",
    "Let's look at an important consequence of dilemma we just stated on the previous slide. Given a flow network, so an input to the Max-flow problem, and given a particular flow F, what is the time required to check whether this particular flow F is a Max-flow or not? Specify your answer in big O notation, in terms of N, the number of vertices in the flow network, and M, the number of edges in the flow network."
   ]
  },
  {
   "cell_type": "markdown",
   "id": "2c510a06",
   "metadata": {},
   "source": [
    "## 357 Quiz Verifying Max Flow Solution\n",
    "\n",
    "The solution is linear time. It takes O(n+m) time to check whether a particular flow f is maximum or not. This follows as a consequence of the lemma we stated on the previous slide. For a flow f*, if there's no augmenting path, no path from s to t in the residual graph for this particular flow, then this flow f* is a max-flow. So to check whether f is a max-flow, we build its residual graph which takes linear time, O(n+m) time, and then we check for a path from s to t in this residual graph. To do that, we simply run DFS from s to check whether t is reachable from s. What this lemma says is if there is no path from s to t in this residual graph, then this particular flow f is a max-flow. So we output yes. Now what if there is a path from s to t? Well, then we can augment a flow along this path. And then we get a flow of larger value. And therefore, this particular flow f is not a max-flow because we can build a flow of larger size. Now we'll get back to the proof of this lemma shortly. But let's go back first to the max-flow min-cut theorem, and let's see what min-cut actually means."
   ]
  },
  {
   "cell_type": "markdown",
   "id": "b8ac5a34",
   "metadata": {},
   "source": [
    "## 358 Min Cut Problem\n",
    "\n",
    "Now a cut of the graph is a partition of the vertices and two sets. We will think of these two sets as the left side and the right side. So we denote it as L and R. Then we are going to be looking at st-cuts. These are a particular type of cuts. This is the cut which separates S from T. So S is on one side, let's say the left side, and T is in the right side. Now here's our example of a flow network that we looked at earlier. Let's mark an example of an st-cut in this graph. Here's an example of an st-cut. We put these four vertices S, A, B and F in the set L. Notice this set doesn't have to be a connected set. F is not connected to A and B in this subset. And the set R are the remaining four vertices, C, D, E and T. Now we're going to be interested in the capacity of this st-cut. What exactly is the capacity? Recall is a directed graph. We're going to look at these directed edges VW where V is in the left side and W was in the right side. So these are all edges which go from the set L to the set R and we're going to look at the capacity of these edges. So we're looking at the total capacity of edges from the set L to R. But we're not looking at edges from R to L. So we're looking at sum of the capacities of these six edges which exit L. Notice that these edges such as C to F which go into L do not count in this count."
   ]
  },
  {
   "cell_type": "markdown",
   "id": "4276cf59",
   "metadata": {},
   "source": [
    "## 359 Problem Formulation\n",
    "\n",
    "Let's formally state the min st-cut problem. The input is a flow network. So we have a directed graph with a specified start and end vertex. And for every edge, we have a positive capacity. Now the output for the min st-cut problem, it's an st-cut (L, R), so s has to be an L and t has to be an R. And we want to find that st-cut with minimum capacity. Recall the capacity of this cut is the sum of the capacities of the edges that go from L to R, and we ignore the edges that go from R to L. Now let's take a look at this cut that we looked at earlier. So the set L contains s, a, b and f. Now, the capacity of this cut is A plus two, plus two, plus five, plus seven, plus three. So the capacity is 27. We want to find the cut of minimum capacity. Here is an st-cut of minimum capacity. R simply contains T and L contains everybody else. The capacity of this cut is 12. We just have these two edges exiting L to R. How do we know this is min st-cut? Well, we're going to prove the Max-flow-min-cut theorem which says that the size of the Max flow equals the size of the min st-cut. We know there's a flow in this graph of size 12 and since there is an st-cut of capacity 12, therefore we know that this flow and this st-cut are both optimal."
   ]
  },
  {
   "cell_type": "markdown",
   "id": "abc37265",
   "metadata": {},
   "source": [
    "## 360 Max Flow = Min st Cut\n",
    "\n",
    "The Max-flow-min-cut theorem states that for any flow network, the size of the max-flow equals the minimum capacity of an st-cut. Just a quick note about notation here. We keep calling this an st-cut to distinguish that s is on one side of the cut and t is on the other side of the cut. Notice s and t are also implicit in this max-flow formulation. We could have called it a max st flow because we're sending the flow from s to t. Now in the max-flow problem, it's clear there must be a start vertex s and an end vertex t. In a min-cut problem, there doesn't necessarily have to be an s and t that you're separating. We could instead look at the min-cut overall without looking at whether we separate s and t. So that's why we include the s and t in this formulation. So we called it the min st-cut problem to differentiate it from the min-cut problem. Now, let's dive into the proof of this min-cut max-flow theorem. First, we're going to prove that the size of the max-flow is the most the minimum capacity of an st-cut. And then, we'll prove the reverse inequality. So we'll prove that the max-flow is at least the minimum capacity of an st-cut. Once we prove both inequalities, then we've proved equality, and then we're done. To prove this inequality, what we'll show is that for any flow and any st-cut (L, R), the size of this flow is at most the capacity of this cut. Notice that this simpler result will imply this inequality. Why is that the case? Well, this is true for any flow f, so we might as well take a max-flow and it's still true. So if we maximize over f, the size of f is still at most the capacity of this cut. And since the right hand side holds for any st-cut, we might as well take the cut of smallest size. So for the right hand side we can choose any cut we want. So we'll choose the cut of minimum capacity, and then we have that the max-flow size is the most the min st-cut capacity. So that shows the max-flow is the most of min st-cut. So we proved this inequality. So we have a much simpler task now. We can forget about the max-flow and the min cut. We simply have to take any flow f, and any st-cut and show that the size of this flow is at most the capacity of this cut. And we don't have to worry anything about showing that this flow is optimal or this cut is optimal."
   ]
  },
  {
   "cell_type": "markdown",
   "id": "21d689ff",
   "metadata": {},
   "source": [
    "## 361 Max Flow Min st Cut\n",
    "\n",
    "Recall, we want to show that the size of the max-flow is the most to the capacity of the min st-cut. And to do that, we need to show that for any particular flow f and any particular st-cut L,R, the size of this flow is at most the capacity of this cut. Let's take a look again at our earlier example of a flow network. And here is our example of an st-cut. These four vertices are set L and the other four vertices are the set R. Now the capacity of this cut is 27. That's the total capacity of the edges going from L to R. Now the intuition for this claim is that this flow is going from s to t. At some point, it has to exit from L to R. These six edges which go from L to R are the only edges that the flow can escape L from. Now the total capacity of these edges is 27. So the total amount of flow that can go along these edges is at most 27. So the size of this flow has to be at most 27. That's the intuition. Let's formalize it. To formalize the intuition we just stated, we're going to prove the following claim. We're going to prove that the size of this flow equals the total flow out of the set L, minus the total flow into the set L. Now it will just be a few lines to prove this claim. It's quite easy. And then once we have this claim, the main statement that the size of f is at most of capacity of this cut will follow immediately. And this claim is going to be useful later. We're going to use it when we prove the reverse inequality, that the max flow is at least the min st- cut capacity."
   ]
  },
  {
   "cell_type": "markdown",
   "id": "dd5a8e51",
   "metadata": {},
   "source": [
    "## 362 Proof of Claim\n",
    "\n",
    "Let's prove this claim that for any flow f, and for any s-t cut L, R, the size of this flow equals the total flow out of the set L minus the total flow into the set L. Let's look at the right hand side, so we have the flow out of the set L, minus the flow into the set L. Now, the first term, the flow out of the set L, that's the sum of edges of the graph, where the head of the edge is in the set L, and the tail of the edge is outside of the set L. And we look at the flow along that edge, that's the flow out of the set L. Now for the flow into the set L, we're going to sum over edges W to V, where W is outside the set L, and V is inside the set L, and we look at the flow along that edge W, V. Now I've labeled these edges VW, and this one WV, so that V is always the vertex in the set L. Now, this captures the flow out of L, and the flow into L. Now, want to add an additional term, so we're going to add it and subtract it that at the same time, and therefore we still have equality. I'm going to look those edges VW, where V is in L, and W is in L and I'm going to add in the flow along those edges, and I'm going to subtract off the same term but I'm going to label the edge by WV instead of VW. But I'm going to be summing up over the same set of edges. Just labeled differently. Now,take the first and the third term, these are the positive terms. This considers the edges from V that go to R, and this considers the edges from V that go to L. So if I combine them together, I have all edges out of V. This first term, and this third term combined give us the sum of all vertices in the set L of the total flow out of this vertex L. Similarly, this term and this term give the flow into the vertex V because this term gives the flow of the edges from R to V, and this gives from L to V. So, combined they give the total flow into V. Now let's distinguish one particular vertex. The set L contains the source vertex, s. What do we know about the source vertex? Well, the flow in is zero. So we only have the flow out of it. So, let's take out s from this set L. So now we have a sum of vertices V in the set L minus s, and we have the flow out of this vertex V minus the flow into this vertex V. We dropped the term for s, so we have the flow out of s. We also dropped the term for the flow into s but we said that's zero, so we can drop it. Now what do you notice for all these vertices which are not s? The flow out has to equal the flow in. That's the definition of a valid flow, conservation of flow. So these two terms are equal, so this whole sum is zero, and all we're left with is the total flow out of s which is the size of f. The total size of this flow is equal to the flow out of s. Therefore, we've shown that the size of f equals the flow out of L minus a flow into L which is the claim that we wanted to prove."
   ]
  },
  {
   "cell_type": "markdown",
   "id": "5b01375e",
   "metadata": {},
   "source": [
    "## 363 Finishing Off\n",
    "\n",
    "So now we've proven this claim, the size of F equals the flow out of L minus the flow in it to L, and this is true for any flow F, and for any ST cut L, R. Now, recall we want to show, that the size of this flow F is at most the capacity of this ST cut L, R. And we saw before that this inequality implies that the max flow is at most the min ST cut capacity. So, let's see how this claim implies this desired result. Well, the size of F equals the flow out of L minus the flow into L, that's just the claim again. Where we can drop this second term, and it only gets bigger. So, this is at most the flow out of L. Now, along every edge that leaves the set L, the flow along that edge has to be at most the capacity of that edge. Therefore, the total flow out of this set L, has to be at most the capacity. Because the capacity is defined as the total capacity from the set L to R. We didn't count the edges from R to L. Looking back at our earlier example, for this ST cut L, R, the capacity of this cut is 27, and the total flow along these six edges, which leave this set L, clearly, must be at most the total capacity along these edges, which is 27. So, the flow out of this set L has to be at most the capacity of this cut. So, this proves that desired result. And therefore, we have that the max flow size is at most the min ST cut capacity. Now, to complete the proof of the theorem. We have to prove the reverse inequality. That the max flow size is at least the min ST cut capacity. Let's dive into that now."
   ]
  },
  {
   "cell_type": "markdown",
   "id": "67853acc",
   "metadata": {},
   "source": [
    "## 364 Reverse Inequality\n",
    "\n",
    "Now, we'll show the following inequality. We'll show that max over the flows, F, the size of F. So the max flow size is at least, the capacity of the min ST-cut. We just proved that the max-flow size is at most, the min ST-cut capacity. Now if we prove this inequality, then we shown that it's the quality, that the left hand side equals the right hand side. To prove this inequality, what we're going to do, is we're going to take the flow F*, produced by the Ford-Fulkerson algorithm. What do we know about this flow? The Ford-Fulkerson algorithm stops, when there's no augmenting path in the residual network. So we know that this flow, F*, has no path from S to T in this residual network for this flow. What we're going to prove, is that for any flow, F*, which has no augmenting path in the residual network, we're going to construct an ST-cut, L, R which has the following property. The size of this flow, F*, equals the capacity of this cut that we construct. Now once we prove this, we claim that it's done. Why does this statement imply this inequality? Well this is one particular flow, F*. How does this compare to the max-flow size? Certainly, if we maximize over the flows F, the size of this flow, is at least the size F*. It maybe quality if F* is a max-flow, but certainly, the max flow is at least the size of F*. And how does the capacity of this particular cut L, R, compare to the capacity of the min ST-cut? Well certainly, the capacity of this particular cut, is at least the minimum capacity of any kind. So if we prove this middle equality, that the size of F* equals the capacity of this cut L, R that we construct, then that implies that the max flow size is at least, the min ST-cut capacity, which is what we want to prove. So it just remains to prove this equality"
   ]
  },
  {
   "cell_type": "markdown",
   "id": "d5d7f532",
   "metadata": {},
   "source": [
    "## 365 Proof of Claim\n",
    "\n",
    "So let's go ahead and prove the claim. So let's take a flow f* that has no augmenting path in this residual network and we wanted to find an s-t cut now. We want to use this property about this f*. We know there's no st-path in this residual network. So we know that t is not reachable from this vertex s in this graph. So that's a way to separate s from t. Therefore, we're going to let L be those vertices which are reachable from the vertex s in this residual network. Now we know this vertex t is not in this set L, why? Because we know there's no path from s to t in this residual network, that's our assumption about this flow f*. Therefore, we let R be the remaining vertices and we know that the vertex t is in this set R. So s is clearly reachable from itself. So s is in L and t is in R. So this set (L, R) is an s-t cut. So we've constructed our s-t cut, now we have to prove that this s-t cut has capacity which is equal to the size of this flow."
   ]
  },
  {
   "cell_type": "markdown",
   "id": "fd2d46d9",
   "metadata": {},
   "source": [
    "## 366 Properties of Cut\n",
    "\n",
    "Let's take a look now at the properties of this cut we just constructed and let's use as an illustration our earlier example of a flow network. Here's our example of a flow network G with the capacities marked in red. We're looking at a flow f star which has no ST path in the residual network G superscript f star. Here's an example of such a flow f star with the green numbers indicating the flow. Now let's look at this residual network for this flow f star. Recall some properties of this residual network. For example, this edge from E to D has positive flow so the reverse edge from D to E appears in this graph. Also the edge from E to D has some spare capacity available so the edge from E to D itself appears there. Similarly, this edge from D to C has some flow along it so the reverse edge from C to D appears. But the edge from D to C has no leftover capacity available so the forward edge does not appear in this residual network. Now the capacities on these edges in the residual network are not important. What's important are simply which edges are present or not. We define this set L, to be the set of vertices reachable from the source vertex in this residual network. Let's look at the set L in this example. So certainly s itself is reachable from S, also B is reachable and then we reach E and D and A. So these five vertices are the set L and the remaining three vertices are the set R and that defines our ST cut LR. By assumption, T is not reachable from S in this residual network therefore T is an R, so it's a valid ST cut. Let's look at some properties of this ST cut LR. For convenience let me draw this L on the original graph as well. Let's look at edges in the original graph which go from the set L outside to R, D to T is one such example, D to C is another example and S to C is another example. Now notice that none of these edges appear in the residual network. Why? Because L is the set of vertices reachable from S so this edge from D to T appeared in this residual network, then T would be added into the set L. It would be reachable from S and then we'd have a contradiction with the definition of L. So for any edge in the original graph, say from V to W, if this edge leaves the set L, so V is in L and W is in R, well we know that this edge does not appear in the residual network so what does that say about the flow along this edge? This edge must be fully capacitated and therefore the forward edge does not appear in the residual network so the flow along this edge equals its capacity. Now since every edge from L to R is fully capacitated, what does this say about the total flow out of L? Well it's equal to the capacity from L to R. The total flow out is equal to the total capacity from L to R. Recall that this capacity was defined as edges going from L to R. It doesn't count edges going from R to L. Well that's good we're close to what we want to prove. Now let's take a look at the edges that are going from R into L in the original graph. There is only one such edge in this example, the edge going from F into E. So consider an edge Z to Y in the original graph whereas Z is in R and Y is in this set L. What do we know about the flow along this edge from Z to Y, say from F to E? What's flow zero, why? Because this edge from E to F, the reverse edge does not appear in this residual network. If it did appear then F would be included in the set L which it's not so since the back edge does not appear in the residual network, then this forward edge has to have flow zero. Since this is true for all edges into the set L, we conclude that the total flow into L is zero in this flow f star. Now we proved earlier for any flow f star and any ST cut, LR, that the size of this flow f star equals the flow out of L minus the flow into L. What we've seen so far for this ST cut LR, the flow out of this set L is equal to the capacity and the flow in equal zero. So that means the size of this flow equals the capacity of this cut LR. This statement is exactly what we need to prove in order to finish the proof of the max flow main cut theorem. So that completes the proof of the theorem."
   ]
  },
  {
   "cell_type": "markdown",
   "id": "995074f7",
   "metadata": {},
   "source": [
    "## 367 Completing the Proof\n",
    "\n",
    "Now let's go back to our earlier slide. We're trying to prove this inequality. We're trying to prove that the size of the max flow is at least the minimum capacity of an s-t cut. To do that, we took any flow which has no augmenting path in the residual network, and we constructed a s-t cut. How do we construct the s-t cut? We set L to be the set of vertices reachable from s, in this residual network. Since, there is no augmenting path, there is no s-t path in this residual network. So, t is not reachable from s. So, t is in the set R and s is in the set L. So, this is a valid s-t cut. And then, what we just proved is that the size of this flow, f*, is equal to the capacity of this cut. Therefore, the max flow is at least this size, and the min s-t cut capacity is at most this. So the max flow is at least the min s-t cut capacity. So we proved this inequality, and earlier we proved the other inequality, and therefore, that completes the proof of the max flow min cut theorem. We've proved that the max flow size equals the capacity of the min s-t cut. Notice, we've also proven the earlier, lemma that we claimed. We've shown, that for any flow that has no augmenting path in the residual network, we can construct an s-t cut, where the size of this flow equals the capacity of the s-t cut. Now the only way we can have equality here is if both of these are optimal. So this must be a max flow and this must be a min s-t cut. So, first off, this proves that Ford-Fulkerson algorithm, or any algorithm, which stops when there is no augmenting path in the residual network is correct. It outputs a max flow, but secondly, it shows us a way of constructing a min s-t cut. If we take a max flow f*, and we set L to be those vertices reachable from s in the residual network, then that s-t cut, that we just defined, has capacity equal to the size of this flow. So the capacity here must be optimal, this must be a min s-t cut. So we have a way of verifying that we have a max flow, and we have a way, given a max flow of constructing an s-t cut of minimum capacity, and were going to use that in our image segmentation application, and were going to use this lemma about a flow being optimal if there is no augmenting path in the residual network, for proof of correctness not only a Ford-Fulkerson algorithm, but also of Edmonds-Karp algorithm."
   ]
  }
 ],
 "metadata": {},
 "nbformat": 4,
 "nbformat_minor": 5
}
