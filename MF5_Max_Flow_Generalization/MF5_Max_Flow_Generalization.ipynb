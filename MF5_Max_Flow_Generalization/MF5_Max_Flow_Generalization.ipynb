{
 "cells": [
  {
   "cell_type": "markdown",
   "id": "c1043c85",
   "metadata": {},
   "source": [
    "# MF5 Max Flow Generalization"
   ]
  },
  {
   "cell_type": "markdown",
   "id": "891c61bd",
   "metadata": {},
   "source": [
    "## 394 Max Flow with Demands\n",
    "\n",
    "Let's look now at a generalization of max-flow problem. We're going to add in demand constraints along every edge. We're going to see how to reduce this generalization of the max-flow problem to the standard max-flow problem. Let's formalize this generalization of the max-flow problem. The input starts off the same as before for the max-flow problem. So we have a flow network, which consists of a director graph, G, with a specified start and end vertex, s and t, along with the capacities for every edge. Now the new aspect is that we're also given the demands for every edge. So for edge e, were giving the non-negative number, d of e, which specifies the demand for this edge. Now our goal is to find a feasible flow. What exactly do we mean by feasible flow? A feasible flow is a valid flow as before. So along every edge, the flow is in most capacity, but then we have the additional constraint, that the flow must be at least the demand along that edge. And of course, the other constraint still hold as before. So for every internal vertex, so for every vertex except for s and t, we want to flow in to equal the flow out. So we're looking for a valid flow as before with the additional constraint that the flow along every edge is at least the demand along that edge. Now if we can find a feasible flow, of course we want a feasible flow of maximum size. But the first problem is whether we can even find a feasible flow. Is there a way to satisfy all of the demands? That's the first question we're going to address. Can we figure out whether there is a feasible flow for this input? Once we find a feasible flow, then will be straightforward to augment it into a maximum size feasible flow."
   ]
  },
  {
   "cell_type": "markdown",
   "id": "40756a3e",
   "metadata": {},
   "source": [
    "## 395 Feasible Flow Example Question\n",
    "\n",
    "Let us take a look at one of our flow network examples from earlier. And let us look at the feasible flow problem in this example. So here is a directed graph with the specified start and end vertex. Let's mark the demand and the capacities along every edge. The green numbers specify the demand along the edge and the red numbers specify the capacity along the edge. So along this edge we want the flow to be at least two units and at most eight units. Along this edge, there is no demand constraint. It has got to be at least zero and at most three. Here it has got to be at least three and at most six. Is there a feasible flow for this example?"
   ]
  },
  {
   "cell_type": "markdown",
   "id": "6c538f6a",
   "metadata": {},
   "source": [
    "## 397 Reduction Overview\n",
    "\n",
    "Now, we're going to show a reduction from the feasible flow problem, to the max-flow problem. Recalling the feasible flow problem we're trying to find a feasible flow, not necessarily of maximum size. In the max-flow problem we're trying to find a valid flow of maximum size. Formally, what do we mean that we're reducing this problem to this problem? What it means is that we're going to use our algorithms, our polynomial time algorithms for the max-flow problem as a black box. So, it's as if we have this subroutine that we downloaded from the library and we don't want to touch the insides of this subroutine. We can simply give it an input flow network and we'll get out a solution. A flow, F prime of maximum size for this input flow network. Now, we want to use this black box algorithm for max-flow, to build an algorithm for the feasible flow problem. What we're going to do is, we're going to take an input to the feasible flow problem. What exactly is input to a feasible flow problem? Well, there's a directed graph G. There are capacities along every edge, specified by C of E, and there's also demands along every edge specified by D of E. Now, we're going to define a function G, which transforms this input to the feasible flow problem, into a valid input to the max-flow problem. Once again what does the input to the max-flow problem look like? Well, it consists of a directed graph. Not necessarily the same directed graph that we have for the feasible flow problem, we're going to make a new graph. So, we're going to define a new directed graph G prime, based on the directed graph G. And, we also need to specify the capacities along every edge. So, we'll define C prime of E to be the capacity along edges in this graph G prime. But, there are no demands in this graph. The input to the standard max-flow problem does not have any demand constraints. So, we have to somehow encode these demands in these capacities and in this graph G prime. Then, we're going to run our black box algorithm for the max-flow problem on this input. We're going to get some output F prime, and then we have to transform this output into a solution to the original feasible flow problem. So, we have to define a function, which would then notice H, which transforms this output, this solution to the max-flow problem on this input graph, G prime with capacity C prime. And H has to transform F prime into a flow F, where F is a feasible flow for this input, G, capacity C and domains D. So, to reduce feasible flow to max-flow, what we need to do is, we need to define this transformation function g. Which transforms an input from feasible flow into an input for max-flow. And we need to define this function h, which transforms the solution f prime for the max-flow problem on this input, G prime. And produces a solution f, which is a feasible flow for this input network, g with capacity C and demands d. So, in order to reduce feasible flow to max-flow, we need to specify this function transformation function g and this transformation function h. G transforms the input and h transforms the solutions."
   ]
  },
  {
   "cell_type": "markdown",
   "id": "0beb6315",
   "metadata": {},
   "source": [
    "## 398 Reduction Vertices\n",
    "\n",
    "So let's dive into the reduction. So let's take a particular input for the feasible flow problem. This is specified by a directed graph G, capacities along the edges and demands along the edges. Now we need this to construct an input for the max flow problem. This is specified by a directed graph which we'll call G prime and capacities along the edges which was specified by C prime. Now these capacities don't have to be the same as the original capacities. In fact, we need these capacities to encode not just the capacities in the original graph, but also the demands in the original graph. Let's take a look at a particular example, very simple example, here's a small example of four vertices, this is our directed graph G, which is our input to the feasible flow problem. That specified some example capacities and demands. We've written a pair of numbers for each edge. The first number, for example three, specifies the demand, and the second number specifies the capacity. Now let's try to create a graph G prime. Well we want to keep all this information, so we're going to keep the same graph G and we're going to add additional vertices to it. So this is going to be our directed graph G prime which is going to be the input to the max flow problem. So we're going to start with the same graph G that was the input to the feasible flow problem and we're going to add a new start vertex which will denote is as prime and a new n vertex which will denote as t prime. So the original s and t will now serve as internal vertices. Now these are the vertices of this new graph G prime. Let's now look at the edges that are in this graph and also the capacities and along the edges in this new graph."
   ]
  },
  {
   "cell_type": "markdown",
   "id": "74e1c3fe",
   "metadata": {},
   "source": [
    "## 399 Original Edges\n",
    "\n",
    "Now the edges in the original flow network G, remain in this new flow network G prime. What will change is the capacities along these edges. Now we want the capacities along these edges to capture the capacities along the original network, and the demands in the original network. What we want to capture is that there is non-negative flow along an edge, if and only if we can construct a flow in the original network, where the flow is at least the demand. And we also want that the flow in this new graph G prime, satisfies this new capacity constraint, if and only if this flow f, that we're going to construct, satisfies the capacity constraint in the original network. Now, the idea is that we want to flow zero in this new network to correspond to flow d in this original network. So this flow is going to be a shift of this flow by d units. So, were going to shift the capacity as well by d units. So the capacities along these edges, which were edges in the original network, will be the original capacities minus the demand. So, whereas this edge from s to a originally had capacity 10, now it'll have capacity seven. This edge will have a capacity of one, four, four, and also four."
   ]
  },
  {
   "cell_type": "markdown",
   "id": "f6475cee",
   "metadata": {},
   "source": [
    "## 400 New Edges\n",
    "\n",
    "So what we've done so far in our reduction is for each edge in the original network G. We've added that edge to this new network G-prime, and the capacity of that edge in the new network is the original capacity shifted by the demand. Now we're going to have to add additional edges to this graph. Let's get some intuition for what these additional edges have to accomplish. Now we want a valid flow here in this graph G-prime to correspond to a feasible flow here. So suppose we have a zero flow here. So we have flow zero from s to a, zero from a to b, and zero from a to t. Now what is that going to correspond to over here? Well, zero flow along this edge is going to correspond to flow three along this edge. Zero here is going to correspond to flow one here, and zero here is going to correspond to flow seven here, because the minimum flow here is going to correspond to the minimum flow here. Now certainly zero flow here is valid. The flow into a is zero and the flow out of a is zero. But over here, we have flow in of three units and we have flow out of eight units. So it's not a valid flow over here. The flow into a does not equal the flow out of a. So we need to offset that somehow in this graph so that a valid flow here will correspond to at least a valid flow here. We're going to accomplish that by adding an edge from s-prime to each of these vertices of the original network, and from each of these vertices of the original network to t-prime will have an edge. Let's look first at the edges from s-prime to each of the vertices of the original network. So for each vertex in the original network, we add this edge from s-prime to v. Now, what is the capacity of this edge from s-prime to v in this new network G-prime? Well, we shifted the capacity along this edge into a by three units corresponding to the demand into a. We want to offset that by this edge from s-prime to a. So we're going to define the capacity of this edge to be the demand into the vertex v. So the total demand into the vertex a in the original network is three units. So the capacity of this edge from s-prime to a will be three units. Now t has total demand in of seven plus two, so nine units. So this edge will have capacity nine, b has demand in five units, so this edge has capacity five, and s, of course, has zero demand in. So this edge has zero capacity. Similarly, we are going to add edges from each of these vertices of the original network to t-prime. Now we'll put these in a different color just to differentiate them from the edges from s-prime. So we have s to t-prime, a to t-prime, t to t-prime and b to t-prime. What is the capacity of these edges to the vertex t-prime? Well, from s-prime, that captured the demand into the vertex v and these edges to t-prime are going to capture the demand out of the vertex v. So vertex s has demand out of seven, so this edge has capacity seven. Vertex a has total demand out of eight, so this edge has capacity eight. T, of course, has zero demand out, and b, in this example, has demand out of two. So, that fully specifies our graph G-prime which is our input to the max-flow problem. Now we have to discuss how a solution to this max-flow instance corresponds to a solution to the feasible flow problem."
   ]
  },
  {
   "cell_type": "markdown",
   "id": "e09337a9",
   "metadata": {},
   "source": [
    "## 401 One More Edge\n",
    "\n",
    "Now, there's one additional edge that I almost forgot to mention in this graph G prime that we're constructing. Now, notice in the original graph S is the start vertex and T is the end vertex. In this new graph, S and T are internal vertices. So, the flow in has to equal the flow-out for both these vertices. Whereas over here, we don't have that constraint. Notice there's no flow-in. There's no capacity into this vertex, S and T has no capacity. So, in the current set up we don't have any flow into S and any flow out of T. How do we get around that so that we can have the flow-in S equal to the flow-out and similarly for T? Well, we know the flow-out of S equals the flow into T, so we simply have to offset the flow-out of T and the flow-in to S. So, we compare these up with each other. So, we're going to add this edge from T to S. And we don't have any constraints on the flow along this edge, our flow goes into T. We want to send that back to S. So, we give this edge capacity infinity. So, to summarize, we're adding this edge from T to S and the capacity is infinite. Now, we really have completed our construction of this graph G prime."
   ]
  },
  {
   "cell_type": "markdown",
   "id": "b7b3aa42",
   "metadata": {},
   "source": [
    "## 402 Saturating Flows\n",
    "\n",
    "Now, let's take a look at this graph we constructed. What is the maximum flow size that can occur in this graph? Certainly, it's upper bounded by the capacity, the total capacity out of S-prime or the total capacity into T-prime. Let's take a look at those quantities. Let capital D denote the total demand in this original network G. So, we're going to sum over edges in this original network of the demand along that edge. Notice, this is the same as summing over the vertices of the total demand into the vertex because every edge has one tail. And similarly, we can count from the head of the edge. So, we can sum over vertices of the total demand out of each vertex. Now, in this graph, what does the total capacity out of S-prime? Well, the capacity along this edge from S-prime to a is defined as demand into a. So this total capacity out of vertex S-prime is a sum over vertices in the original graph of the demand into that vertex. That's equal to the quantity D. Similarly, if we look at that the total capacity into the vertex T-prime, that's equal to the total demand out of the vertices, which is also equal to capital D. So, if we look at the value of flow F-prime in this new graph G-prime that we constructed, what do we know about the size of this flow F-prime in this graph G-prime? We know it's upper bounded by the total capacity out of S-prime or the total capacity into T-prime. Both of those quantities are capital D. So, the size of this flow F-prime is in most capital D. Therefore, we say this flow F-prime is saturating, if the size of this flow F-prime is capital D. This means that this flow F-prime is of maximum size. So, all of these edges out of S-prime are fully capacitated, they're fully saturated. And all these edges into T-prime are fully saturated. So, in a saturating flow F-prime, we fully capacitated the edges out of S-prime, and fully capacitated the edges into T-prime. What we're going to prove is that G, our original network, has a feasible flow if and only if, this new network G-prime that we constructed has a saturating flow. Once, we prove this lemma, this gives us a way to find a feasible flow. What we do is we take our input to the feasible flow problem, we construct G-prime, we run max-flow on this graph, G-prime, and we check if the size of the max-flow is equal to capital D, and therefore, it is saturating or not. If it is a saturating flow, then, we know that there is a feasible flow and actually our proof of this lemma will give us a construction. So, we can take this saturating flow F-prime and construct a feasible flow F for this original network G. So, what we've done so far is transform the input to the feasible flow problem into an input to the max-flow problem. And now, by proving this lemma, we're going to show how to transform the solution to the saturating flow problem or to the max-flow problem on this graph G-prime, into a solution to the feasible flow problem."
   ]
  },
  {
   "cell_type": "markdown",
   "id": "82d4d455",
   "metadata": {},
   "source": [
    "## 403 Saturating Feasible\n",
    "\n",
    "Let's first prove that the existence of a saturating flow G prime implies the existence of a feasible flow in G. So what we're going to do is we're going to take a saturating flow F prime in this graph G prime that we constructed, and we're going to use that to construct the feasible flow F in the original flow network G. Now the construction is quite straightforward. Recall that the capacities in G prime, where the capacities in G, shifted by the demand D. So, we're going to let the flow in G be equal to the flow in G prime, plus the demand. So if we had zero flow in G prime, then we'll have the minimum flow possible in G, which is the demand D of E. And if we send, say two units of flow in G prime along this edge E, then will send two plus the demand along the edge E in the graph G. Now there's two things we need to check. We need to check that F is a valid flow. So for all the internal vertices in this graph G, the flow in has to equal the flow out, and to be valid, we need that to flow along an edge is in most the capacity, and additionally, we need to check that F is a feasible flow. That means it satisfies all the demand constraints. Let's start with the second condition. Let's check that F is a feasible flow. Now F prime is a flow. What does that mean for the flow along a particular edge E? It's got to be non-negative. So what does that imply about this flow F that we just constructed? Well then the flow F along the edge E is at least D of E. Zero flow corresponds to D of E flow, and since the flow is now-negative, that means these flows F satisfy the demand constraints, so F is feasible. While we're at it, let's look at the capacity constraints, the upper bound on these flows. We know this flow is at most C prime E along the edge E. That implies that the flow F along this edge E is at most C prime of E plus demand E. Recall, C prime of E was defined as C of E minus the demand long E. Therefore, this quantity equals the capacity along the edge in the original network G. So this flow F that we constructed, satisfies demand constraints and satisfies the capacity constraints. So all that remains is to check that the flow in to every vertex equals the flow out."
   ]
  },
  {
   "cell_type": "markdown",
   "id": "0147f85b",
   "metadata": {},
   "source": [
    "## 404 f is Valid\n",
    "\n",
    "Now in order to show that this flow F is valid, we need to show that for every vertex, the flow in equals the flow out of the vertex. Now this is for every internal vertex. So this is for every vertex in the original graph except for S and T. Now this is for the flow F that we constructed. Now what do we know? We know that this flow F prime was an output from the max flow problem. So F prime is a valid flow for the graph G prime. So we know in this graph G prime, the flow into the vertex V equals the flow out from the vertex V. So we want to use this fact to imply this fact. So let's take a look at this first quantity. The flow into the vertex V in this graph G prime. Now which vertices have edges to the vertex V? This is in the graph G prime that we constructed. While this new vertex S prime has an edge to every vertex. So there's an edge from S prime to V and for every vertex in the original graph, if U was connected to V in the original graph, then it's still connected in this new graph G prime. Now what do we know about this first term? We assume that F prime was a saturating flow. That means that all the edges out of S prime are fully capacitated. So this flow along this edge is up to its full capacity. What's the capacity of this edge? It was defined to be the demand into the vertex V. Now what about this latter quantity? Well let's rewrite this flow F prime along this edge in terms of F. The flow F along this edge from U to V was, by our definition, equal to the flow of F prime along this edge plus the demand. Therefore, F prime equals F along this edge minus the demand along this edge. That we can factor out this sum over U to each of these terms and then this latter quantity is minus the sum over U of the demand into V. So that sum is equal to the demand into V. So this term and this term cancel each other out and what are we left with? We're left with the flow into V in this flow F. So that means the flow into V under this flow F prime is equal to the flow into V in this flow F. Now that's not too surprising because we set up this flow, this capacity along this edge from S prime to offset this difference. So this was by design but we have this nice fact, the flow into V is the same in F prime and in F and similarly you can show that the flow out of V under F prime and F are the same by similar algebra. So therefore, if the flow into V is the same as the flow out of V under F prime and F prime and F have the same flow into V and the same flow out of V, then we also have this statement that we want to prove. So we've shown that F is a valid flow. So we've shown that we can take a saturating flow F prime and we can construct a feasible flow F by simply setting F equal to the flow F prime plus the demand along the edge. Now we have to prove the reverse direction."
   ]
  },
  {
   "cell_type": "markdown",
   "id": "0e09ca08",
   "metadata": {},
   "source": [
    "## 405 Feasible Saturating\n",
    "\n",
    "To prove the reverse direction, what we want to do now is take a feasible flow f in the graph G, and we want to construct a saturating flow f-prime in this new graph G-prime. Now for each edge of the original network G, we're going to define the new flow along that edge to be the old flow shifted down by the demand along this edge. Now that defines a flow for all the edges in the original network. What about the new edges that we added to this graph G-prime when we did the construction? Well for every vertex in the original network, we have an edge from s-prime and edge to t-prime. So we have this edge from s-prime to v and v to t-prime. Now we're trying to construct a saturating flow. So each of these edges is supposed to be fully capacitated. So we might as well set this flow to be equal to its capacity which is the total demand into v for this edge and the total demand out of v for the edge two t-prime. That defines a flow f-prime for all the edges except for one. We have this edge from t to s which had infinite capacity. We want to set the flow along this edge to be equal to the size of this flow f. That defines the flow f-prime. Now we have to check that f-prime is valid and it's a saturating flow."
   ]
  },
  {
   "cell_type": "markdown",
   "id": "25914755",
   "metadata": {},
   "source": [
    "## 406 f is Valid\n",
    "\n",
    "Now we know that f is feasible. What does that mean? That means that the flow along this edge E is at least its demand. Now f-prime along this edge E is defined to be f along this edge minus the demand. So since this is true, we have the flow f-prime along this edge is at least zero. So f-prime is non-negative. Similarly, we have that f is at most its capacity. Therefore, f-prime is at most the capacity minus the demand which is the definition of the capacity in this network G-prime. So we know that this new flow f-prime that we constructed is non-negative and satisfies the capacity constraints. Now we simply have to check that f-prime satisfies the flow in equals the flow out constraint."
   ]
  },
  {
   "cell_type": "markdown",
   "id": "daa9d220",
   "metadata": {},
   "source": [
    "## 407 f Constraints\n",
    "\n",
    "So we need to check that the flow into every vertex, except for S prime and T prime, under F prime, equals the flow out. Now we started from F, and we know that the flow into the vertex V, under F, equals the flow out from the vertex V. So now we're going to do a little bit of algebra that's similar to before. So we want to go from this fact, to this fact. Now, what is the flow into the vertex V under F prime? Where we have the flow from S prime, we set that equal to the demand into the vertex V. So this is the flow from S prime. Now for every other edge, the flow from that vertex U to V in F prime, is it defined to be the flow in F minus the demand along this edge? As before, this sum over U of this demand into V is the same as this quantity. They're both equal to the total demand into V. So they offset each other, and we're left with the total flow into V under F. So as before, the flow into V under F, is the same as the flow into V under F prime. And similarly, the flow out of V under F prime, equals the flow out of V under F, by similar calculation. Therefore, since the flow into V equals the flow out of V under F, and these are equal to F prime, we also have this factor F prime. And therefore, F prime is a va."
   ]
  },
  {
   "cell_type": "markdown",
   "id": "477fcffa",
   "metadata": {},
   "source": [
    "## 408 Max Feasible Flow\n",
    "\n",
    "So we've proved this lemma: G, our original input, has a feasible flow if and only if our new construction G' has a saturating flow. So, to solve the feasible flow problem to find a feasible flow in this input graph, we simply construct this graph G', we run the max-flow problem, we check whether the size of this max-flow equals capital D, and therefore whether or not it's a saturating flow. If it is a saturating flow, then we've shown how to transform that saturating flow f' into a feasible flow f for this graph G. So, we know how to find a feasible flow f for this graph G if one exists. Once we have such a feasible flow f, can we transform it? Can we augment it to find a flow, a feasible flow of maximum size? So, can we find a maximum size feasible flow? Now recall how our max-flow algorithms worked, either Ford-Fulkerson or Edmonds-Karp. Both of them start with a zero flow. So every edge has flow zero initially then we build the residual graph and we find an augmenting path from s to t if one exists. If there exists one, we augment along that path then we build a new residual graph and we repeat. We keep augmenting along a path from s to t in the residual graph until there's no path from s to t in the residual graph, and therefore, the flow that we're at is a max-flow. Now we want to do a similar procedure for the feasible flow. So here, we're going to start at this feasible flow f that we found. Instead of starting at the zero flow as we did for the max-flow algorithms, here we're going to start with a feasible flow, and then we build the residual graph and we try to augment this flow. So we'd look for a path from s to t in this residual graph and augment along it if it exists and if none exists, we'll know that we're at a maximum size feasible flow. Now the only difference from before is that this residual graph is slightly different. Now the capacity of this edge from v to w in the residual graph for this current flow f. For forward edges, it's defined to be the leftover capacity. So it's the capacity minus the current flow. Now for reverse edges, so if there's an edge from w to v in the original graph, then we add the edge from v to w if there is flow from w to v. So normally in the residual graph, the capacity of this edge from v to w, this reverse edge, will be the flow along this edge. But now, we have the constraint that the flow can never go below the demand. So it can't decrease the flow below the demand. So the amount we can decrease the flow along this edge from wv is by how much the flow exceeds the demand. So we set the capacity of this reverse edge to be the flow along this edge minus the demand, and finally its zero otherwise. So, to find a max feasible flow, we run our max-flow algorithm with the following changes. Instead of starting at zero flow, we start at a feasible flow, and when we're building the residual graph, the reverse edges, their capacities is defined as not the flow along the edge but how much the flow exceeds the demand."
   ]
  }
 ],
 "metadata": {},
 "nbformat": 4,
 "nbformat_minor": 5
}
