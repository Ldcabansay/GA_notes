{
 "cells": [
  {
   "cell_type": "markdown",
   "id": "17a0c2cd",
   "metadata": {},
   "source": [
    "# Introduction to Graduate Algorithms"
   ]
  },
  {
   "cell_type": "markdown",
   "id": "57a327cb",
   "metadata": {},
   "source": [
    "## 0 Overview\n",
    "\n",
    "Welcome to Graduate Algorithm's. I'm Eric Vigoda. This is a theory course and as such, it is heavily mathematical in nature. Let's take a look at the course outline. We'll start with Dynamic Programming, then we'll take a quick look at randomized algorithms, including cryptography and hashing. Next, we'll look at some more sophisticated divide and conquer examples, including the beautiful FFT algorithm. We'll dive into graph algorithms, using DFS for connectivity problems on directed graphs. And we'll look at a few applications, including the two-step problem, and in some sense, the page rank algorithm. Page Rank is the algorithm at the heart of Google's search engine. Next, we'll continue with Graph Algorithms, looking at algorithms for the max flow problem. And then, we'll look at linear programming, which is a powerful and widely used tool for optimization problems. And finally in the last section of the course, we'll dive into computational complexity. We'll explore the theory of NP-Completeness. Let's jump into the course. I hope you enjoy it."
   ]
  }
 ],
 "metadata": {},
 "nbformat": 4,
 "nbformat_minor": 5
}
