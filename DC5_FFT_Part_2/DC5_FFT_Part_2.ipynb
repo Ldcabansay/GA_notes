{
 "cells": [
  {
   "cell_type": "markdown",
   "id": "83992256",
   "metadata": {},
   "source": [
    "# DC5 FFT Part 2"
   ]
  },
  {
   "cell_type": "markdown",
   "id": "468c2b0b",
   "metadata": {},
   "source": [
    "## 231 FFT High Level\n",
    "\n",
    ">> We now have all the pieces to define the FFT algorithm. Let's start with the high level idea of the algorithm once again. We're given a polynomial of X. We're given this polynomial by its coefficients. Let's assume this polynomial is of a degree, at most N minus 1. Where N is power of K. We want to evaluate this polynomial N points. Now in the end, when we do polynomial multiplication, we actually want this polynomial A of X at two N points. In order to obtain at two N points instead of N points, we can just pad the polynomial, the coefficients with zeros, so that we view the polynomial as a degree two N minus one polynomial. Now what are the N points that we're going to choose? We're going to choose the Nth roots of unity as our end points, which we're going to evaluate the polynomial of A X at. Now since N is a power of two, so N equals two to the K for some positive integer k. Then we know that these N points the, Nth roots of unity, satisfy the plus minus property. So the first N over two are opposite of the last N over two. And the other property is, that the square of the Nth roots are the N over second roots. Now we're going to take this polynomial A of X, and we're going to define a pair of polynomials, A even, and A odd. We take the even coefficients, and that defines this polynomial A even. We take the odd coefficients of A of X, and that defines this polynomial A odd. And the degree of these two polynomials is at most, N over 2 minus 1. So we went down from a polynomial of N minus one degree, to two polynomials of degree at most N over 2 minus 1. Now what we saw earlier is that in order to attain A of X at these N points, we need to evaluate A even and A odd at the square of these points. So what we do is we recursively evaluate A even and A odd, at the square of Nth roots. What's one of the key properties of the Nth roots of unity? It's that the square of the Nth roots equals the N over second roots. And there are N over two such roots. So in order to obtain A of X at N points, we need to evaluate these two polynomials, A even and A odd, of half the degree, at N over two points. So we've got two subproblems of exactly half the size, and these subproblems are of the same form. We want A of X at the Nth roots, A even and A odd at the N over second roots. Finally, given A even and A odd at these N over second roots, it takes order and time to get A of X at the Nth roots. We simply use this formula from before. A of X equals A even at X square, plus X times A odd at X squared. So it takes order one time, to compute A of X for each X, in the order N axis. So it takes order N total total time to compute A of X at the Nth roots of unity. Finally, what will be the running time of this algorithm? Well, for the original problem of size N, we define two subproblems of size N over two. We recursively solve those to get the polynomials A even and A odd at the N over 2nd roots. And then it takes us order N time to merge the answers, to get A of X at the Nth roots. This is the common recurrence, that you've seen many times probably for merge short and stuff like that. And this solves to order NlogN. And this is the sketch of the algorithm to take a polynomial in the coefficients form, and give return, the valuation of the polynomial at N points, where the N points are the Nth roots of unity. And it does so in time order NlogN."
   ]
  },
  {
   "cell_type": "markdown",
   "id": "1f44b438",
   "metadata": {},
   "source": [
    "## 232 FFT Pseudocode\n",
    "\n",
    "Now we can detail the pseudocode for the FFT algorithm. Now, the first input is vector A, which are the coefficients for this polynomial A(x), and we're assuming that n is a power of two. What is this second input? This Omega? Omega is an nth root of unity. For now, just think of Omega as Omega_sub_n. In polar coordinates, this is 1, 2 pi over n. And using Euler's formula, this is e to the two pi i over n. For now, you can view Omega as Omega_sub_n. But later, we're going to use this exact same algorithm. This is identical pseudocode with a different Omega. We're going to use Omega as Omega_sub_n to the n - first power. And that's going to allow us to do inverse FFT. In inverse FFT, we're going from the value of the polynomial at n points to the coefficients. Now, what's the output of the FFT algorithm? Well it's the value of the polynomial at the nth roots of unity. If Omega is Omega_sub_n, what are the nth roots of unity? Well it's just the powers of this. So, the output is a evaluated at Omega to the zero, a evaluated at Omega, a of Omega squared, and so on, up to a at Omega to the n - first power. When Omega equals Omega_sub_n, this gives a evaluated at the nth roots of unity."
   ]
  },
  {
   "cell_type": "markdown",
   "id": "1bc8a421",
   "metadata": {},
   "source": [
    "## 233 FFT Core\n",
    "\n",
    "Let's dive into the FFT algorithm. It's a divide and conquer algorithm. So let's start with the base case. The base cases is when N equals one. What are the roots of unity in this case? Well, it's just one. So we can simply return A evaluated at the point one. Now, we have to partition this vector A into A even and AI. These correspond to the polynomials A even and AI. So let A even, the vector A even be even terms in the vector A. So A naught, A2, A4 up to AN minus two, and A odd are the odd terms. So A1, A3 up to AN minus one. The input vector A was a vector of size N. These two vectors A even and AI that we just defined are vectors of size N over two. Now, we have our two recursive steps. We call FFT the same algorithm with the vector A even, and instead of Omega, we use Omega square, and we also call FFT with A odd and also Omega square. What do we get back from this call? What we get back is A even at the square of these endpoints, which are these N over two points. Omega naught, Omega square, up to Omega to the N minus two. So if Omega is the Nth root of unity, then we get A even at the N over second roots of unity. And similarly, we get A odd at the N of a second roots of unity. Notice that if Omega equals Omega sub N, then the Jth of these points square is the Jth point in this sequence or actually the J plus first. This is Omega sub N over two to the Jth power. So this is the Jth or J plus first of the N over second roots. Now using these values for A even and A odd we can get A at the Nth root to unity. Now we use our formula for A of X in terms of A even and AI. So A evaluated at the point Omega to the Jth power equals A even, evaluated at this point square, plus Omega to the J times A odd at this point square. And similarly, if we look at the point Omega to N over two plus J. This is the opposite of Omega J. So using the same formula, this requires A even and A odd at exactly the same points. The only difference is we subtract these two terms instead of adding them together. This takes order one time for each J. So it takes order N total time. Finally, we have A evaluated at these endpoints and that's our output that we returned from the algorithm. Now, notice this algorithm works for any Omega which is an Nth root of unity. We only require that Omega to the Jth power is opposite Omega to the N over two plus J. That's true for any root of unity except when Omega is one, because then this would be one and this would also be one. So they're not opposites of each other, but for any other root of unity, the Jth power is opposite the N over second plus to the Jth power."
   ]
  },
  {
   "cell_type": "markdown",
   "id": "2a77011e",
   "metadata": {},
   "source": [
    "## 234 FFT Concise\n",
    "\n",
    "Part of the appeal of FFT is that the algorithm is quite concise. The algorithm is very simple. So let's re-express FFT in a more compact manner. First off we have the base case, n equals one. This is a polynomial of degree zero. So in this case we simply return the constant term a naught. Once again we define a even, the vector, as the even terms in the vector a, and a odd as the odd terms in the vector a. Then we recursively run the FFT algorithm with the vector a even and omega square. The output we get back we record as s naught through sn over two minus one. Similarly we will run FFT with a odd and omega square and we record the output in t naught through t n over two minus one, then we combine the solutions for these subproblems to get the solution to the original problem. So rj, which is going to be a of x at the point omega to the j equals s sub j, which is a even at the point omegas to the two J plus omega to the J times tj. And similarly r sub n over two plus j two equals s sub j minus omega to the j times tj. Finally we return these n numbers r naught through rn minus one."
   ]
  },
  {
   "cell_type": "markdown",
   "id": "447566d5",
   "metadata": {},
   "source": [
    "## 235 FFT Running Time\n",
    "\n",
    "Now looking into running time of this algorithm, notice this step partitioning the vector a into a even and a odd that takes order and time. This is a recursive call which is of size n over 2. Similarly for a odd it's a recursive call of size n over 2. This computation of the Rs takes order one time for each pair. So takes order n total time. Therefore this running time satisfies the recurrence T event is 2T event over 2 plus order n. And of course this solves the order n log n that completes the FFTL."
   ]
  },
  {
   "cell_type": "markdown",
   "id": "9f03494d",
   "metadata": {},
   "source": [
    "## 236 Poly Mult\n",
    "\n",
    "Now that we've completed the FFT algorithm, let's go back and look at our original motivation which was polynomial multiplication or equivalently, computing the convolution of a pair of vectors. The input is a pair of vectors A and B of length n, corresponding to the coefficients for a pair of polynomials A of X and B of X. The output is the vector C, which are the coefficients for the polynomial C of X, which is A of X times B of X. Equivalently, C is a convolution of A and B. In order to multiply these polynomials A of X and B of X, we want to convert from the coefficients A and B to the values of these polynomials A of X and B of X. How many points do we need these polynomials at? Well C is of degree two n minus two. So we want these polynomials are actually C of X at at least two and minus one points. In order to maintain that n is a power of 2, we'll evaluate A of X and B of X at two endpoints. In order to do that, we'll run FFT. We will consider A of X and B of X as polynomials of degree 2n minus one. So we'll just pad this vector with zeros. So we run FFT with this vector A and the two and three of unity. And this is going to give us a polynomial A of X at the two nth root unity. Similarly we went FFT with this vector B and the two nth root of unity and we get the polynomial B of X at the two nth roots of unity. So now we have these polynomials A of X and B of X at the same two endpoints. Now given A of X and B of X at the two nth roots of unity, we can compute C of X at the 2 nth roots of unity. We have a for loop J, which goes over 0 to 2n minus one. So goes over all these two endpoints and we multiply these pair of numbers. Even though these are complex numbers, it takes us order one time to compute the product of these pair of numbers. So it takes us order one time to compute C of X at the Jth of the two nth roots of unity. So it takes us order one time to compute T of J and therefore takes this order n time to compute C of X at the two nth roots of unity. Now we have C of X at the two nth roots of unity. Now we have to go back from the value of this polynomial at these two endpoints and figure out the coefficients. This is opposite of what we were doing before. Before we were going from the coefficients to the values. Now we want to go from the values back to the coefficients. How are we going to do this? What we're going to run an inverse FFT. And amazingly enough, the inverse FFT is almost the same as the original FFT algorithm."
   ]
  },
  {
   "cell_type": "markdown",
   "id": "bed21276",
   "metadata": {},
   "source": [
    "## 237 Linear Algebra View\n",
    "\n",
    "Before we explore inverse FFT, it will be useful to explore the linear algebraic view of FFT. In this way, we can look at FFT as multiplication of matrices and vectors. So consider a point x_j. The polynomial A of X evaluated at the point x_j equals a_0 plus a_1 x_j plus a_2 x_j squared and so on. The last term is a_n-1 x_j to the n-1. Notice that this quantity can be rewritten as the inner product of two vectors. The first vector are the powers of x_j. And the second vector are the coefficients for this polynomial A of X. Now, FFT is evaluating this polynomial A of X and endpoints. So let's look at this linear algebra view for the endpoints. Now we're evaluating this polynomial A of X at these endpoints. So we're computing A of_x_0, A of x_1 and so on up to A_of_Xn-1. The rows of this matrix would correspond to the powers of these points x_0 through Xn-1. We'll fill that in a second. But first what is this vector? This vector are the coefficients of the polynomial A of X. Now, filling in the rows of this matrix. The first row are the powers of x_0, and then the powers of X1. And finally, we have the powers of Xn-1."
   ]
  },
  {
   "cell_type": "markdown",
   "id": "2caaffb3",
   "metadata": {},
   "source": [
    "## 238 LA View of FFT\n",
    "\n",
    "We just saw this linear algebra view of the evaluation of this polynomial of A(x) at these end points x knot through xN-1. Now let's look at it for the perspective of FFT. For FFT, these n points correspond to the nth roots of unity. So let x of j be the jth of the nth roots of unity. So it's omega sub n to the jth power. Now let's rewrite these vectors and matrices. Replacing these n points by the nth root of unity we have now A(1), A of omega sub n and so on up to A of omega sub n to the n minus 1 power. So these are the nth width of unity. This column vector is going to stay the same it's still going to be the coefficients of this polynomial A(x). Now let's look at the rows of this matrix. Now the first of the roots of unity is 1, so the first row are the powers of it so it's just going to be one. The second row are going to be powers of omega sub n. This in fact are just the nth roots of unity. The third row is going to be one omega sub n square, omega sub n to the fourth and so on up to omega sub n to the two times n minus one. It's just the powers of omega sub n square. The last row are going to be the powers of this last root of unity. So it's going to be 1 omega sub n to the n-1 and so on. The last term is omega sub n to the n-1 times n-1. Now what's important thing to notice about this matrix. Well, first off it's symmetric, the entry IJ is the same as the entry JI, so it's probably going to have some nice properties. The other thing to notice is that it's just a function of omega sub n. The entries of this matrix are just powers of omega."
   ]
  },
  {
   "cell_type": "markdown",
   "id": "dcdfd1b9",
   "metadata": {},
   "source": [
    "## 239 LA for Inverse FFT\n",
    "\n",
    "We had this linear algebraic view of FFT. Now let's simplify it a little bit. This column vector is just the vector a. Let's denote this column vector by capital A. And let's denote this matrix by M, let's use subscript n to denote its size M by n. And as we observed, it's simply a function of omega sub n. So given this variable, and this size, then we know it's M by n, and it says powers of this variable, in this case omega sub n. Therefore, this expression can be rewritten in the following manner. This vector capital A is equal to this matrix capital M times this vector little a. This product is exactly what FFT is computing. When we run FFT with inputs little a and omega sub n, it computes the product of this matrix and this vector and outputs this vector capital A, which is the value of this polynomial at the nth root of unity. Now what do we want to do for inverse FFT? Now we want to take this value of this polynomial at these nth roots of unity and compute the coefficients. Well, suppose this matrix has an inverse and we multiply both sides by this inverse. Well, then we have that the inverse of this matrix times this vector, capital A, equals this vector little A. So FFT computes this product, this matrix M times this vector, little a. For inverse FFT, we want to compute the inverse of this matrix times this vector, capital A. How does this inverse of this matrix relate to the original matrix? Well, actually they're very similar to each other."
   ]
  },
  {
   "cell_type": "markdown",
   "id": "4850637e",
   "metadata": {},
   "source": [
    "## 240 Inverse FFT\n",
    "\n",
    "Once again, FFT when we run it with input little a. Which are the coefficients for this polynomial a of X and the nth root of unity, then it outputs capital A, which is a value of this polynomial at the nth root of unity, which corresponds to the product of this matrix M times little a. Now for inverse FFT, we want to take these values of this polynomial and multiply by the inverse of them. And that will give us little a the coefficients. What does the inverse of M look like? Well what we show is that the inverse of M equals one over n, just a scaling factor, times Mn with instead of Mn with omegas of n It's omegas of n to the inverse. So we take the same matrix Mn, and instead of plugging in the nth root of unity, we plug in the inverse of the nth root of unity. Now what exactly is the inverse of the nth root of unity? Well, this is the number when multiplied by omegas of n equals one. You multiply a number by its inverse you get one. So what is the inverse? It's omegas of n to the n minus one. It's the last of the nth roots of unity. Notice that if you multiply omegas of n times omega of n to the nth minus one, what do you get? You get omegas of n, to the nth. Which is the same as omegas of n to the zeroth power, which is one. So the inverse of omegas of n is omegas of n to the nth minus one. So the inverse of omegas of n is omegas of n to the n minus one. Now this is the basic facts, so we should make sure that is clear for you. If it's not intuitively clear, I would either convince yourself by plugging in these points in polar coordinates and also you can look at it geometrically. So draw the picture of the complex plane and look at these points on the unit circle. Now we can plug this in and simplify. So the inverse of this matrix M, with parameter omegas of n, is one over n times this matrix with the inverse of omegas of n which is omega of n to the n minus one."
   ]
  },
  {
   "cell_type": "markdown",
   "id": "a67eb66e",
   "metadata": {},
   "source": [
    "## 241 Inverse FFT via FFT\n",
    "\n",
    "Now let's recap what we have, FFT is computing the product of this matrix capital M times little a and that's outputting capital A, which is the value of this polynomial at these nth roots of unity. For inverse FFT, we want to do the reverse so we want to compute the product of an inverse times capital A and get back the coefficient vector little a. Now we claim the following Lemma, which we'll prove momentarily, the inverse of M is one over n times M of Omega sub n to the n minus one so we take the same matrix instead of parameterize by Omega sub n, we parameterize it by Omega sub n to the n minus one which is just a different root of unity. So let's take this expression multiply both sides by little n and then substitute in n inverse with this quantity. So we have n times little a and then for M inverse, we replace it by this quantity M sub n of Omega sub n to the n minus one times capital A. Notice this corresponds to an FFT computation. In particular, we want FFT with instead of using input little a, we use in put capital A and instead of using Omega sub n as the nth root unity, we use Omega sub n to the end n minus one which is also an nth root unity. Now it's quite intriguing what's happening here, we're taking the value of this polynomial A inverse at the nth root unity and we're treating these values as coefficients for a new polynomial. Now we run FFT for this new polynomial and instead of using the nth root of unity Omega sub n, we're using this nth root unity. It's still an nth root unity so we can again run FFT. So we run FFT with these two inputs, we get back a vector which we scale by one over n and this gives us the coefficients for our polynomial A of x. So we can go from the values at the nth root unity to the coefficients. One more intriguing fact before we move on to the proof of this Lemma, now FFT normally, we run it with Omega sub n. It is this point right here. Then the end points we consider are Omega sub n to the powers which corresponds to the nth root unity going from one to Omega sub n and and so on around the unit circle in this manner. So we go counter-clockwise around the nth root unity. Now what happens when we run FFT with Omega sub n to the n minus one? That's this point here. Now the only difference is we're going over the same points but we're going over them in different order. Now we go over the nth root unity in clockwise order. So inverse FFT is the same as FFT, we just go over the nth root unity in the opposite order. That's the amazing fact. And we can use the same algorithm as we detailed before because when we detail the FFT algorithm we allowed any nth root unity there. Now I will proof the Lemma and that'll complete our polynomial multiplication algorithm and our convolution algorithm."
   ]
  },
  {
   "cell_type": "markdown",
   "id": "040e5798",
   "metadata": {},
   "source": [
    "## 242 Quiz Inverses Question\n",
    "\n",
    "Before we dive into the proof of the Lemma, let's take a quick quiz on some basic properties of roots of unity. We saw just before about Omega_n to the negative one, the inverse of Omega_n. To make sure you understand that let's look at Omega_n square. What's the inverse of this number? And don't simply write it with negative two in the exponent, write in some manner so that you have a positive exponent."
   ]
  },
  {
   "cell_type": "markdown",
   "id": "8acdd78c",
   "metadata": {},
   "source": [
    "## 243 Quiz Inverses Solution\n",
    "\n",
    "This solution is omega sub n to the n minus 2. If I multiply omega sub n square times omegas sub n to the n minus 2, we get omega sub n to the nth power which is one. Similarly, in polar coordinates, this number in polar coordinates is 1 comma two pi over n times 2. This number is 1 comma two pi over n times and minus 2. When we multiply we get 1 in the radius, we add up the angles so we get 2 pi over n times n. This is the same as 1 comma 2 pi which is 1. So this verifies that the inverse of this number omega sub n squared is omega sub n to the n minus 2."
   ]
  },
  {
   "cell_type": "markdown",
   "id": "2fb6ac53",
   "metadata": {},
   "source": [
    "## 244 Quiz Sum of Roots Question\n",
    "\n",
    "Let's take another quiz on some basic properties of the roots of unity. Let's consider even n. And let's look at the sum of the nth roots of unity. So let's take omegas sub n to the zero power, plus omega sub n to the first power, plus omega sub n squared, and so on, up to omega sub n to the n - 1. What does this sum equal?"
   ]
  },
  {
   "cell_type": "markdown",
   "id": "ceef7dd7",
   "metadata": {},
   "source": [
    "## 245 Quiz Sum of Roots Solution\n",
    "\n",
    "The answer is zero. This sum is zero. The sum of the nth roots of unity is zero. Why is that true? Well, that follows just from the plus minus property, which was the key to our divide and conquer algorithm. One is omega sub n to the zero power. What is omega sub n to the n over two? Well, if you think of the complex plane and the roots of unity, we're going halfway around the unit circle. This is negative one. They're opposites of each other. So when we add them up they're going to cancel each other out. Similarly, the jth of the nth roots of unity is opposite of the n over second plus jth. So the first n over two are opposite the last n over two. They're are going to cancel each other out and we're left with zero. This is true for any even n."
   ]
  },
  {
   "cell_type": "markdown",
   "id": "feb6b53f",
   "metadata": {},
   "source": [
    "## 246 Proof of Claim\n",
    "\n",
    "Now in a proof of dilemma about the inverse of the matrix M, we're going to need the following claim which is a generalization of the quiz you just took. The claim says that if we take any omega which is Nth root of unity. So omega raised to the nth is one, and we assume that omega is not one but any other root of unity. And if we look at the sum of powers of omega. So one plus omega plus omega squared and so on up to omega to the N minus one, then this sum equals zero. Now we just saw that this is true when omega equals omega sub N and N is even. We're going to need this more general claim so let's go ahead and prove it. Now first off though. Notice why it's not true when omega equals 1, when omega equals 1 then this is 1, 1, 1. All the terms are 1. So this is going to be N. it certainly does not equal to zero. Now let's forget about this claim for a second. For any number of Z the following holds, look at Z minus one times 1 plus Z plus Z squared up to Z to the N minus 1. So powers of Z. So looks a little bit similar to the claim. Multiply this out, what do you get? Well first two Z times this quantity. So you get Z plus Z squared and so on up to Z to the N. And you've got negative 1 times this quantity. So you have minus the same quantity. Notice most of the terms cancel each other out, Z minus Z, Z squared minus, there's the Z squared term there, Z to the N minus one minus Z to the N minus 1. What's left? The only term left here is the last term Z to the N and the only term left here is the first term, minus one. Now let Z equals omega from the hypothesis of the claim. What do we know? We know that omega is nth root of unity. So if we take omega or Z raised to the nth power, we get 1, so Z to the N minus one equals zero, which means either this quantity equals zero or this quantity equals zero or both. But we assume that omega is not 1. So that means Z is not 1. So Z minus 1 is not 0. So that can't be the case. So this quantity must be equal to zero. That's what we're trying to prove. When Z equals omega. We're trying to prove that this sum equals zero. So that completes the proof."
   ]
  },
  {
   "cell_type": "markdown",
   "id": "6dbdbeba",
   "metadata": {},
   "source": [
    "## 247 Proof of Lemma\n",
    "\n",
    "Now let's go back to proving the lemma. We're trying to show that the inverse of this matrix M is one over n times this matrix M parameterized by omega sub n to the negative one. So the inverse of this nth root of unity, which we saw before is omega sub n to the n minus one, but it will be more convenient to treat it as omega sub n to the negative one. Now rewriting this, so multiply both sides by the matrix capital M. This side becomes the identity matrix, capital I, and the right hand side becomes one over n times M parameterized by omega sub n to the negative one times M parameterized by omega sub n. Now, what is the identity matrix? Well, this has ones on the diagonal and zeros off the diagonal. So let's look at the product of these two matrices and we're going to look at the diagonal entries of this product and show that those are n and the off diagonals we're going to show are zeros. So to recap, we have to show that the product of these two matrices, the diagonal entries, are n because one over n times these products should be ones, and the off diagonal entries, so for k not equal to j, the entry k, j, these should be zeros. So we'll have two cases, the diagonal entries and the off diagonal entries."
   ]
  },
  {
   "cell_type": "markdown",
   "id": "e2a41a0c",
   "metadata": {},
   "source": [
    "## 248 Diagonal Entries\n",
    "\n",
    "Let's first look at the proof for the diagonal entries. So let's look at the product of these two matrices, capital M parameterized by omega sub n inverse and capital M parameterized by omega sub n. And we want to show that the diagonal entries, so the entries k, k equal n. First off, let's recall what this matrix capital M is. So capital M parameterized by omega sub n is this matrix. This is what we saw before when we analyzed FFT. Now this matrix capital M parameterized by omega sub n inverse is just this same matrix with omega sub n replaced by omega sub n to the negative 1. So we get this matrix here. Now we're looking at the entry k, k. So when you take the kth row and the kth column. The kth row of this matrix is the vector 1 omega sub n to the negative k and then powers up to omega sub n to the negative n minus 1 times k. The kth column of this matrix is this vector the entry k, k in the product matrix is the dot product of these two vectors. First term is one and then we do omega sub n to negative k times omega sub n to the k. This is the same as omega sub n to the 0, which is 1. So this term is 1. And similarly the third term is also 1. All the terms are 1. How many terms are there? There's n terms. So we get n. So we proved what we want for the diagonal entry."
   ]
  },
  {
   "cell_type": "markdown",
   "id": "d17c600e",
   "metadata": {},
   "source": [
    "## 249 Off Diagonal Entries\n",
    "\n",
    "Now let's look at the off-diagonal entries of this product matrix. So we want to show that entries k, j equals zero when k is not equal to j. Because if k equals j, that's the diagonal entry. And we just showed that equals n. But, if they're not equal, we'll show it equals zero. Here are the pair of matrices once again. We're again going to take row k and now we're going to take column j over here. The kth row of this matrix is the same as before and the jth column of this matrix is this vector. When we take the dot product of these two vectors we get the following one plus omega sub n to the j minus k. And then we get powers of omega sub n to the j minus k. Well, let's simplify this. Let's do a change of variables to simplify it. Let's let omega be omega sub n to the j minus k then the dot product of these vectors can be simplified as one, first term is omega sub n to the j minus k which is omega plus omega squared up to omega to the n minus 1. Now what do we know about omega. Well, it's the nth root of unity raised to some power. So it's still an nth root of unity and we know that the exponent is not zero. Since it's not zero, then this thing is not 1. So omega is an nth root of unity it's not one. So we can apply our claim. We're just doing powers of the nth root of unity. We know for any nth root of unity which is not one. If we take powers of it, what do we get? We get zero. Which proves this off-diagonal entries are zero as we desire. And that completes the proof of the lemma."
   ]
  },
  {
   "cell_type": "markdown",
   "id": "6564413f",
   "metadata": {},
   "source": [
    "## 250 Back to Poly Mult\n",
    "\n",
    "Let's go back to this earlier slide with our polynomial multiplication algorithm. Now we know how to do this last step. We know how to do inverse FFT which goes from the values of this polynomial C_of_x to the coefficients of this polynomial. So let's add in the details of this last step which will complete our polynomial multiplication algorithm. Now in this last step, we're going to run FFT using these values t, t are the values of C_of_x at the 2nth roots of unity. Now we treat these values t as the coefficients for a polynomial. So this vector t is the first parameter in our input. The second parameter is a root of unity. What root of unity do we choose? We want to use the inverse of the 2nth root of unity, which is the last of the 2nth roots of unity, namely its omega sub-2n raised to the 2n minus one power. Now when we run FFT on this input, we're going to get 2n points return. Let's use this vector C as the return value, so C_nought through C_sub_2n minus one. But recall, we have to scale this output, so we have to take the vector that's returned by FFT, scale it by one over 2n, and that gives us the coefficients of this polynomial C_of_x, and that's it. That completes our polynomial multiplication algorithm and similarly, our convolution algorithm."
   ]
  }
 ],
 "metadata": {},
 "nbformat": 4,
 "nbformat_minor": 5
}
