{
 "cells": [
  {
   "cell_type": "markdown",
   "id": "0ab1bb75",
   "metadata": {},
   "source": [
    "# NP3 Graph Problems"
   ]
  },
  {
   "cell_type": "markdown",
   "id": "271762c2",
   "metadata": {},
   "source": [
    "## 529 Lecture Outline\n",
    "\n",
    "We've seen how to show that the 3SAT problem is NP-complete. Now let's take a look at a few graph theory examples. We'll start with the Independent sets problem, then will show that the clique problem is also NP-complete. And finally, we'll show that the vertex cover problem is NP-complete. I'll define for you each of these combinatorial problems as we go along, in case you're not familiar with them. Let's dive into the independent sets problem."
   ]
  },
  {
   "cell_type": "markdown",
   "id": "d6bcf017",
   "metadata": {},
   "source": [
    "## 530 Independent Set\n",
    "\n",
    "First off, what is an independent set? Well, let's consider an undirected graph G, here's an undirected graph. A subset of vertices is an independent set if there are no edges contained in that subset of vertices. The green vertices here, the three vertices, are an example of an independent set for this graph. To check that this subset is an independent set, we can check all pairs of vertices in this subset, and we can check that these pairs are not adjacent. Here is another example of an independent set, this one of size six. Now, it's trivial to find very small independent sets. For example, the empty set is an independent set, or any singleton vertex is an independent set. The challenging problem is to find the large independent set."
   ]
  },
  {
   "cell_type": "markdown",
   "id": "aec4eba1",
   "metadata": {},
   "source": [
    "## 531 Quiz Max Independent Set Question\n",
    "\n",
    "To make sure you understand what's involved in proving that a problem is in the class NP, let's take a short quiz. The max independent set problem is in the class NP. Is that statement true or false? To be more precise, let's change this statement slightly. So let's say the max independent set problem is known to be in the class NP. Is that statement true or false? I added this qualification, known to be, because there are scenarios such as P equals NP that would change things. So this will be the standard form for our true false questions of this type."
   ]
  },
  {
   "cell_type": "markdown",
   "id": "07039725",
   "metadata": {},
   "source": [
    "## 532 Quiz Max Independent Set Solution\n",
    "\n",
    "The solution to this quiz is false. Now, why is this problem not in the class NP? Because if you give me a solution, and you claim it's of maximum size, I have no way to verify that it is, in fact, of maximum size. The only way I can verify that it is of maximum size is if I can solve this problem in polynomial time. And that only holds if P equals NP. So assuming P is not equal to NP, then the max independence set problem is not in the class NP. Now recall we had a similar scenario for the optimization version of knapsack problem. When we looked at the version which tried to achieve the maximum value possible, that was not known to be in the class NP. But there was a simple fix so that the problem was in the class NP. So let's look at the search version of the independent set."
   ]
  },
  {
   "cell_type": "markdown",
   "id": "de95d17f",
   "metadata": {},
   "source": [
    "## 533 Search Version\n",
    "\n",
    "My input is undirected graph as before and also a goal g. My output is an independent set S with size at least g. I want to output such a set S, if one exists, and if there is no independent set of such a size, then I simply output NO. It will be straightforward to show that this version of the problem is a search problem and therefore lies in the class NP. And, in fact, will prove now that the independent set problem is NP-complete."
   ]
  },
  {
   "cell_type": "markdown",
   "id": "e74880f9",
   "metadata": {},
   "source": [
    "## 534 Proof Outline\n",
    "\n",
    "Now, let's dive into the proof that the independent set problem is NP-complete. The first step we have to show is that this problem, the Independent-set problem lies in the class NP. To do this, we need to show that we can verify solutions in polynomial time. So given an input to the independent-set problem, this is specified by a graph G and the goal little g and given a proposed solution S. We need to verify that S is in fact the solution to the independent-set problem on this input. In order n squared time, we can consider all pairs of vertices in this subset S. And we can check that this pair of vertices x and y are not adjacent. There's not an edge x, y in the input graph. Once we check this for all pairs of vertices in S, then we know that there are no edges contained in the set S and therefore S is an independent set. And finally in order n time, we can check the size of S and see that the size of S is at least g, our goal. If those two statements are true, then we know that our proposed solution S is in fact a solution to this input. That proves that the independent-set problem is in the class NP. Next, we have to show that the independent-set problem is at least as hard as every problem in the class NP. How do we do that? Well, we take something which is known to be at least as hard as everything in the class NP such as SAT or 3SAT, and we show a reduction from that known NP-complete problem to this new problem. We're going to show a reduction from the 3SAT problem to the independent-set problem. Why consider a 3SAT instead of SAT? Well, 3SAT is just easier. It's a simpler problem. We know that all the clauses are of size one, two, or three. If we consider a SAT, then the clauses are of arbitrary size. Now, let's look at the reduction from 3SAT to the independent-set."
   ]
  },
  {
   "cell_type": "markdown",
   "id": "8a6be478",
   "metadata": {},
   "source": [
    "## 535 3SAT IS\n",
    "\n",
    "So take an input to the three subproblem, it is defined by a formula F, and we'll say the formula F has variables X1 through Xn, and clauses C1 through CM. So it has N variables and M clauses. And now we have to find an input to the independent set problem. And recall since this is three set, each of the clauses has size at most three, so it contains one, two or three literals. The input to the independence set problem is a graph G. We're going to define a graph G based on this formula F, which is the input to the three set problem. We also need to specify our goal little g. It turns out we're going to set our goal g to be M, the number of clauses. Here's the high level ideal for the construction of our graph G. For each of the clauses, we're going to create a vertex in our graph G corresponding to each of the literals in this clause. So this clause has three literals, then we're going to create three vertices. Since there are M clauses, there's going to be at most three M vertices in our graph G. And then we're going to add edges to encode this clause. And then we're going to add additional edges between vertices in different clauses, in order to ensure a consistent assignment. Let's define it more precisely."
   ]
  },
  {
   "cell_type": "markdown",
   "id": "cb6f7119",
   "metadata": {},
   "source": [
    "## 536 Clause Edges\n",
    "\n",
    "There's going to be two types of edges. The first type were called clause edges because these are defined by the clauses. The second type are variable edges. Let's begin with the clause edges. Let's consider a clause of size three. So here the clause which is x_1 or x_3 bar or x_2. In our graph, we're going to have three vertices corresponding to the three literals. So this first vertex corresponds to x_1. This second vertex corresponds x_3 bar. And the third vertex corresponds to x_2. Now, some of these literals might appear in other clauses. For example if there is another clause containing x_2, we'll have another vertex corresponding to x_2. So there are multiple vertices corresponding to the same literal. Now, how do we encode this clause? Well, we simply add a triangle. We add edges between all pairs of these three vertices. In other words, we add the complete graph on these three vertices. What if we had a clause of size 2? For example, x_4 bar or x_5, then we add two vertices corresponding to these two literals, and we add an edge between them. Finally, if we have a clause of size one, for example x_1 bar, then we adjust at a singleton vertex by itself. This construction to keep property is in an independent set S in this graph is going to have at most one vertex per clause. If you look at these three vertices, we can only include one of them because there's edges between all pairs. Now recolor goal was to find an independent set of size at least m. Since every independent set has at most one vertex per clause. In order to achieve our goal of an independent set of size at least m, this solution has to have exactly one vertex per clause. Now, this one vertex per clause will correspond to this satisfied literal in that clause. Now there may be other satisfied literals in the clause due to other copies of that literal in other clauses, but this property that we have exactly one vertex per clause will ensure that we have at least one satisfied literal in every clause. And therefore, this solution, this independent set will be able to relate it to a satisfying assignment for this original formula. Now, what happens if I take an independent set containing this vertex corresponding to x_1, and this vertex corresponding to x_1 bar? Well, if this is the graph, this is in fact an independent set in this graph. And it can take one of these two vertices, and then I have an independent set of my goal size of three. Now, a natural way of converting this independent set into an assignment for the original formula is to satisfy each of the corresponding literals. So to satisfy this literal, I set x_1 to be true. For this literal, I set x_5 to be true. For this literal, I want to set x_1 bar to be satisfied, which means I set x_1 to be false. Now I have a contradiction, this is not a valid assignment because I'm setting x_1 to be true, and I'm setting x_1 to be false. So I want to ensure that my independent sets correspond to valid assignments. I never try to set a variable to true and to false."
   ]
  },
  {
   "cell_type": "markdown",
   "id": "cfb393a6",
   "metadata": {},
   "source": [
    "## 537 Variable Edges\n",
    "\n",
    "This motivates the notion of variable edges. If I had an edge from this vertex corresponding to X_1 to this vertex corresponding to X_1-bar, then I ensure that any independent set contains this vertex or this vertex or neither, but it cannot contain both vertices. And therefore, I'll never try to set X_1 to be true and X_1 to be false. In general, for each of the variables X_i, I'm going to add edges between all copies corresponding to X_i and all copies corresponding to X_i-bar. This will ensure that our independent set corresponds to a valid assignment and then the clause edges will ensure that our independent set corresponds to an assignment which satisfies all of the clauses. Let's take a look at a specific example to illustrate this construction."
   ]
  },
  {
   "cell_type": "markdown",
   "id": "4c392cd5",
   "metadata": {},
   "source": [
    "## 538 Example\n",
    "\n",
    "In this example, we'll have four variables which we'll label X, Y, W, and Z. Now, our three-set input is the following formula. X-bar or Y or Z-bar, that's the first clause. Second clause is X or Y-bar or W. The third clause is X-bar or W-bar. Fourth clause is Y-bar or Z or W. Now, to start a construction of the graph, for each clause, we construct a vertex corresponding to each of the literals. So for this clause, we have three vertices corresponding to the literals X-bar, Y, and Z-bar. We have three vertices corresponding to this clause, two vertices for this clause, three vertices for this clause. Now we add the clause edges. So we add a triangle on these three vertices, a triangle on these three, an edge on this pair, and a triangle on these three. Finally, we want to add the variable edges. So we run an edge from X to all copies of X-bar. Similarly, from Y to all copies of Y-bar. From all copies of W to W-bar. Finally, from Z to Z-bar. Now let's look at an example independent set of size four in this graph. Let's say we take X-bar from this triangle, Y-bar, W-bar, and Y-bar. This independent set corresponds to the assignment X equals false because of this literal, Y equals false because of this and this literal, W equals false because of this literal, and Z has no constraints. And notice that such an assignment satisfies this formula. Let's prove that in general, that an independent set of size m in this graph corresponds to a satisfying assignment of this formula, and a satisfying assignment of this formula corresponds to an independent set of size m."
   ]
  },
  {
   "cell_type": "markdown",
   "id": "380d8215",
   "metadata": {},
   "source": [
    "## 539 Correctness\n",
    "\n",
    "So, we want to prove the following statement: Our three set input F has a satisfying assignment, if and only after our graph we construct has an independent set of size at least g. So there's a solution to this independence set problem, if and only if there's a solution to the original three set input. Let's start with the forward direction. So, consider a satisfying assignment for F, and we'll construct an independent set in this graph of size at least g. Now, this assignment satisfies the formula. So what do we know about it? We know for each clause, at least one of the literals and that clause is satisfied. Since there's at least one satisfied literal in every clause, take one of those satisfied literals, exactly one. Now this literal in this clause, corresponds to a vertex. We're going to add that vertex into the set S. Now, what do we know about the size of S? Well, as contains exactly one vertex per clause. So the size of S is m and recall that our goal little g was set to be m. So this set S is of the goal required size. Now we just have to prove that S is an independent set. Now, S contains exactly one vertex per clause, and it never contains both X_i and X_i bar. Why does it not contain both X_i and X_i bar? Because it corresponds to an assignment, an assignment either sets X_i to be true, in which case we might include copies of X_i, or we set X_i to be false, in which case we might include copies of X_i bar, but we wouldn't include any copies of X_i. Because there is at most one vertex per clause, we know that there is no clause edges contained in this set S. And because we never include a vertex X_i, and a vertex X_i bar, we know that there are no variable edges contained in this set S. So therefore, there are no edges contained in this set S, so, S is an independent set and it's an independent set of size equal to g of our goal size. So we've constructed an independent set of size equal to g in this graph. So we've proved the forward direction, we've proven that if we take a satisfying assignment, we can construct an independent set of the desired size in this graph. Now we can try to do the reverse direction."
   ]
  },
  {
   "cell_type": "markdown",
   "id": "43d031c4",
   "metadata": {},
   "source": [
    "## 540 Reverse Implication\n",
    "\n",
    "Now let's look at the reverse implication. Now since this independent set has size at least G and G is set to M, then we know that this independent set has exactly one vertex in each of the clauses, actually in each of the triangles corresponding to the clauses. Now this vertex corresponds to a literal in the original formula. So we set that corresponding literal to true. So we satisfy that literal, since every clause has a satisfied literal then we know every clause is satisfied and therefore the formula is satisfied. But does this correspond to an assignment, a valid assignment? But notice we have no contradictory literals in this set. Why? Because we added edges between Xi and Xi bar so we can never including vertex Xi and a vertex Xi bar in an independent set. Therefore, we never attempt to set Xi to true and Xi to false. So this assignment we constructed corresponds to a valid assignment. This is a valid assignment and it says every clause. Therefore, it satisfies the formula F, so we've taken an independent set of size at least G and we construct a satisfying assignment. This completes the proof of the reverse implication. So we've shown this equivalence. This proves that a reduction from 3SAT to independent set is correct and it shows how to take an independent set and construct a satisfying assignment. And if there is no independent set of size at least G then there is no satisfying assignment. So this completes the proof that the Independent set problem is NP-complete."
   ]
  },
  {
   "cell_type": "markdown",
   "id": "28c6939a",
   "metadata": {},
   "source": [
    "## 541 NP hard\n",
    "\n",
    "We just saw that the independent set problem is NP-complete. I want to go back and look at this optimization version, the Max Independent Set Problem, and I want to see what this implies about this problem. Now we have this class of problems NP, the independent set problem which we just proved is NP-complete lies in this class, and there is a reduction from every problem in this class to the independent set problem. It's at least as hard as every problem in this class of NP. Now the max independent set problem is not known to lie in the class NP, so still outside this class. Notice it's quite straightforward to reduce the independent set problem, to the max independent set problem. Here, I'm looking for an independent set of size at least g. Here, I'm looking for the maximum independent set. If I find the maximum independent set and I check whether that size is at least g, that either gives me a solution, or it tells me there's no solution. So it's quite straightforward to reduce the search version, to the optimization version. That means I have a reduction from the independent set problem, to the max independent set problem, and in fact I have a reduction from every problem in NP, to the max independent set problem, either going indirectly through the independent set problem or directly. What does that mean? That means the max independent set problem is at least as hard as everything in the class NP. Now if we knew it was in the class NP, then we would know it's NP-complete. But we don't know that. But how do we denote that it's at least as hard as everything in the class NP? We say that the max independent set problem is NP-hard. Notice it's NP-hard, not NP-complete. So NP-hard, means that it's at least as hard as everything in the class NP. So there is a reduction from everything in the class NP to this problem max independent set. So if we can solve max independent set in polynomial time, then we can solve everything in NP in polynomial time. To be NP-complete, such as the independent set problem, then it has to be NP-hard, and it also has to lie in the set. So complete problems are the hardest in the set. Hard problems are at least as hard as everything in"
   ]
  },
  {
   "cell_type": "markdown",
   "id": "b51236bb",
   "metadata": {},
   "source": [
    "## 542 Lecture Outline II\n",
    "\n",
    "We just saw how to show that the independent set problem is NP-complete. Now that reduction was quite interesting since it involved a reduction from SAT, which is a logic problem, to this graph problem, Independent sets. Now, will show that the Clique problem and vertex cover problem are NP-complete. These will be much easier since we now have a graph problem, independent sets to start from. Let's dive into the clique problem."
   ]
  },
  {
   "cell_type": "markdown",
   "id": "4a50b905",
   "metadata": {},
   "source": [
    "## 543 Clique\n",
    "\n",
    "A clique is a fully connected subgraph. Let me define it more formally for you. The clique problem is defined for undirected graphs. So, let's consider an undirected graph G. Here's an example of an undirected graph that we'll use to illustrate a clique. A subset S of vertices is a clique if the following holds, for all pairs of vertices in this subset, say the pair is X and Y, then X and Y are connected by an edge. So, all pairs of vertices in this subset S are connected by an edge. Here's an example of a clique of size five in this graph. Notice that all five choose two pairs are connected by an edge. And in fact, this is the largest clique in this graph. This vertex can almost be added to the clique but it's not connected to this vertex over here. The challenging problem is to find large cliques. Why is that the case? Well, very small cliques are trivial to find. For example, the empty set of vertices is always a trivial clique. Moreover, any singleton vertex by itself is also a clique. And if you take any edge, the two endpoints of the edge form a clique. So very small cliques are easy to find. The difficult problem is to find the largest clique or the clique of maximum size."
   ]
  },
  {
   "cell_type": "markdown",
   "id": "19bedcdd",
   "metadata": {},
   "source": [
    "## 544 Clique Search Version\n",
    "\n",
    "Now let's formally define the Clique problem. The input to the clique problem is an undirected graph G, and it goal little g. The output from the clique problem is a subset of vertices S, which is a clique of size at least g. Now we're trying to find the largest clique possible. Therefore we're trying to output a clique of size at least g. If we outputted a clique of size at most g, that would be quite trivial, because we could always output the empty set. Now we output such a clique if one exists, and if no such clique exists in the graph, then we output NO. And what we're going to prove now, is that the Clique problem is NP-complete."
   ]
  },
  {
   "cell_type": "markdown",
   "id": "f1c11c66",
   "metadata": {},
   "source": [
    "## 545 Clique Proof Outline\n",
    "\n",
    "Let's dive into the proof that the Clique problem is NP-complete. Now, there's two parts to the proof. The first thing we have to prove is that the Clique problem lies in the class NP. As usual this is quite straightforward. So consider an input to the Clique problem, a graph G, and a goal little g. And consider our proposed solution S. Now, we have to verify in polynomial time that S is a solution, is a clique of size at least g. To verify that S is a clique, we consider all pairs of vertices in S. And we check that that pair of vertices, x and y, are connected by an edge in the input graph G. Now, how long does this take us to do? What takes us the most order n squared time to consider each pair. And then for each particular pair, it takes as the most order n time to check whether they're connected by an edge. So this takes in most order n cube time by a trivial algorithm. Now that's sufficient for this proof since we just have to show polynomial time. But if you give a little bit of thought, you can easily do it in order n square time as well. That verifies that S is a clique. Now we have to verify that the size of S is at least little g. That takes us order n time, and therefore it takes us polynomial time to verify that S is a solution to the clique problem on this input instance. That establishes that the Clique problem lies in the class NP. It's a search problem. We can verify solutions in polynomial time. The second step we have to show is that clique problem is at least as hard as every problem in the class NP. How do we do that? Well, we take a known NP-complete problem, and we show a reduction from the known NP-complete problem to the clique problem. Which problems do we know are NP-complete? We know the SAT problem is NP-complete, 3SAT is NP-complete, and independent set problem is NP-complete. We're going to take one of these. Which one are we going to take? We're going to take the one which is most similar to the clique problem. Clique is a graph problem, so we'll take the independent set problem, which is also graph problem. So, we'll show that the Independent set problem reduces to the Clique problem."
   ]
  },
  {
   "cell_type": "markdown",
   "id": "6cbf3396",
   "metadata": {},
   "source": [
    "## 546 IS Clique Idea\n",
    "\n",
    "Here's a key idea for relating independent sets and cliques in a graph. Let's compare a clique and independent set. A clique is fully connected which means that I have all edges within the pairs of S. In contrast, an independent set has no edges within the set S. For an independent set, for any pair X,Y in S, they are not connected by an edge. Whereas for clique, for any pair X,Y within S, they are connected by an edge. So they are opposites of each other. Clique is opposite of independent set and vice versa. Now we're going to have to take an undirected graph where we want to solve the independent set problem on this graph. Now we are assuming that we have an algorithm to solve the clique problem. So we want to transform this input for the independent set problem into an equivalent input for the clique problem. What should we do? Well, we should take the opposite of this graph. What exactly do we mean by the opposite? Well, let's formalize it now. We're going to denote the opposite of G as G bar to complement. It's going to have the same vertex set and the edges are going to be the complement of the edges here. So the edges in E bar are those pairs X,Y which are not an edge in E. So in other words, a pair X,Y is an edge in G bar, if and only if, the pair X,Y is not an edge in E. So it's not an edge in E, then it's an edge in E bar. If it is an edge in E, then it's not an edge in E bar. Now we can formalize this key idea, that clique and independent sets are opposites of each other. Now our observation is that S is an independent set in the original graph G, if and only if that same set S is a clique in the complement graph G bar. So if I look at a graph G and its complement graph, its opposite graph, then a set S is an independent set in the original graph, if and only if the set S is a clique in the opposite graph G bar. Now I call it an observation because it doesn't really require a proof after observing this statement. If S is an independent set, that means for all pairs of vertices X,Y and S, they are not connected by an edge. And therefore, in G bar, they are connected by an edge. And therefore, S is fully connected in G bar. And similarly, if S is a clique in G bar that means all pairs X,Y are connected by an edge than in the original graph G, all pairs are not connected by an edge. And therefore, it's an independent set. S does not contain any edges in the original graph G."
   ]
  },
  {
   "cell_type": "markdown",
   "id": "e7d9924c",
   "metadata": {},
   "source": [
    "## 547 IS Clique\n",
    "\n",
    "Given this observation, it's now straightforward to show a reduction from the independent set problem to the clique problem. Now we're doing a reduction from independent set to clique, so we have to take an input for the independent set problem and transform it to an input for the clique problem. So consider an input for the independent set problem. This is defined by a graph G and a goal little g. We take the opposite of the G, that's G bar and we use G bar and the same little g as our input to the clique problem. Now we use our observation. If we get a set S which is a clique in the opposite graph G bar, then we know that S is an independent set in the original graph G. Now if we get a solution s for the clique problem, that means that S is a clique of size at least little g in G bar. Then we return S as a solution to the independent set problem, because we know S is an independent set of size at least little g in the original graph capital G. Now if our clique problem returns no. So there's no clique of size at least little g in G bar, then we return no for the independent set problem, because we know that there's no independent set of size at least a little g in the original graph G, because if there was an independent set of sufficient size in capital G, then we know there would be a clique of sufficient size in the opposite graph G bar. This completes the definition of the reduction and the proof of correctness follows from this observation. Therefore, we've shown that the clique problem is NP complete."
   ]
  },
  {
   "cell_type": "markdown",
   "id": "142201f6",
   "metadata": {},
   "source": [
    "## 548 Lecture Outline III\n",
    "\n",
    "We've shown clique is NP-complete, now let's show that vertex cover is NP-complete."
   ]
  },
  {
   "cell_type": "markdown",
   "id": "ae8e1c5d",
   "metadata": {},
   "source": [
    "## 549 Vertex Cover\n",
    "\n",
    "What exactly is a vertex cover? Let's formally define it. Once again, we're going to consider undirected graph G. Here's an example graph. A subset of vertices is a vertex cover, if, it covers every edge. The red vertices in this graph, our vertex cover for the graph G. What exactly does it mean that the set S covers every edge? Well, if you look at this example, for every edge, such as this edge, at least one of the two endpoints is in the red set, is in the vertex cover. For this edge, one endpoint is in. For this edge, both endpoints are in the red set. Formally, to cover every edge, we mean that for every edge of the graph. Say x, y, either endpoint x is in the set S and/or y is in the set S. So, both end points can be in there, or at least one of the endpoints is in there. Now it's easy to find a large vertex cover. For instance, I can include all the vertices in the vertex cover. And, this is a large vertex cover for this graph."
   ]
  },
  {
   "cell_type": "markdown",
   "id": "a8cf2713",
   "metadata": {},
   "source": [
    "## 550 VC Search Version\n",
    "\n",
    "The input to the vertex cover problem is undirected graph G, and the goal which we'll call a budget, little b. Why do we change a terminology from goal to budget? Because instead of trying to find the maximum size clique or independent set, we're trying to find the minimum size vertex cover. The output to the problem is a vertex cover, S, of size at most, little b. We're trying to find the smallest possible, if one exists. And if no such vertex cover exists in the graph G, then we simply output NO. We're going to prove now that the vertex cover problem is NP-complete."
   ]
  },
  {
   "cell_type": "markdown",
   "id": "60b32b8b",
   "metadata": {},
   "source": [
    "## 551 VC Proof Outline\n",
    "\n",
    "to prove that the vertex cover problem is np-complete there are two parts the first part once again is to prove that it's in the class and P so consider an input to the vertex cover problem a graph capital G and a budget little B and consider a proposed solution capital S this is a proposed vertex cover in the graph G can we verify in polynomial time that ass is a vertex cover of requisite size in the input graph G first in order to verify that s is a vertex cover we have to check every edge of the graph and we have to check that at least one of the two endpoints is in set s this can be done in linear time in order n plus M time next we have checked that the set s is sufficiently small this can easily be done in linear time in order n time this shows that in polynomial time we can verify that s is a solution to this input instance now we can do the second more non-trivial aspect of the proof now we have to show that the vertex cover problem is at least as hard as every problem in the class NP so we have to take a known np-complete problem we now have four problems that we know are np-complete sad 3sat independent set and clique and we have to reduce one of them to the vertex cover problem it's most natural to take one of the graph problems either independent set or Klee these are quite similar to each other so it doesn't matter too much we're gonna take independent set problem and reduce it to the vertex cover problem now let's do the reduction from the independent set problem to the vertex cover problem"
   ]
  },
  {
   "cell_type": "markdown",
   "id": "c3165af8",
   "metadata": {},
   "source": [
    "## 552 VC Reduction Idea\n",
    "\n",
    "To get an idea for the reduction, let's look at our earlier example of a vertex cover. The red vertices are our vertex cover in this graph. What do you notice about the vertices that are not red? The white vertices. They form an independent set in this graph. Let's take a look at another example of a vertex cover. There's a minimum sized vertex cover. What do you notice about the white vertices in this graph? They also are an independent set in this graph. We claim this holds in general as is a vertex cover in the graph if and only if S bar the complement of s is an independent set. So the red vertices are vertex cover and the non-red vertices are an independent set and vice versa. Let's prove this claim and then the reduction from independent set to vertex cover will be straightforward."
   ]
  },
  {
   "cell_type": "markdown",
   "id": "e76246b8",
   "metadata": {},
   "source": [
    "## 553 Forward Implication\n",
    "\n",
    "Let's start with the forward implication of this claim. So let's take a vertex cover S and let's prove that S bar is an independent set. So let's consider this example, the red vertices are in vertex cover S. Now consider an edge of the graph. For instance, this is a particular edge, notice that at least one of the endpoints is red. Similarly for this edge, at least one of the endpoints is red. In this case both endpoints are red and in general we know for every edge X, Y, at least one of the endpoints is in the set S, because the vertex cover, covers every edge. And therefore, at most one of X or Y is in S bar, the complement of S. If at least one is in S then at most one is in S bar, this means that no edge of the graph is contained in S bar. S bar contains at most one of the endpoints for every edge. So it doesn't contain both endpoints for any edge. Therefore, S bar is an independent set. So we've shown that if S is a vertex cover, then S bar is an independent set."
   ]
  },
  {
   "cell_type": "markdown",
   "id": "d13906fc",
   "metadata": {},
   "source": [
    "## 554 Reverse Implication\n",
    "\n",
    "Now, let's prove the reverse implication. Let's take an independent set, S-bar, and let's prove that S is a vertex cover. S-bar, we're assuming, is an independent set. So what do we know? We know that no edge is fully contained in this set, S-bar. Therefore, we know that, at most, one of the endpoints, x or y, is in the set, S-bar. If both endpoints, x and y, are in S-bar, then that means the edge is fully contained in the set, S-bar, and therefore, S-bar is not an independent set. But since it's an independent set, at most, one of the endpoints or neither the endpoints is in the set, S-bar. If at most, one is in S-bar, then at least one is in S. Thus, S covers every edge of the graph, because for every edge of the graph, at least one of the endpoints is in S. And therefore, S is a vertex cover. This proves this direction, that if S-bar is an independent set, then S is a vertex cover. And that completes the proof of the claim. Now, we can do the reduction."
   ]
  },
  {
   "cell_type": "markdown",
   "id": "1a5f17f1",
   "metadata": {},
   "source": [
    "## 555 IS VC\n",
    "\n",
    "Let's detail the reduction from Independent set problem to the Vertex cover problem. So we're trying to find an independent set of size at least little g in the input graph capital G. Now we have to define our input for the vertex cover problem. We let little b=n-g. And then we run the vertex cover problem on the input graph G, the same graph as before with budget little b. Now, that defines the reduction. Now let's look at the correctness of this reduction. What do we know from the claim? What we know that G has a vertex cover of size at most N minus a little g which is b. So, we have a vertex cover S of this size and we know that in G, S bar is an independent set and this independent set is going to be of size at least little g. So, if we find a vertex cover of the requisite size in G, then its complement set is an independent set of the desired size in G. And if there is no vertex cover of the requisite size, then there is no independent set of the desired size."
   ]
  },
  {
   "cell_type": "markdown",
   "id": "bfcf49d5",
   "metadata": {},
   "source": [
    "## 556 IS VC Correctness\n",
    "\n",
    "Our reduction took this input instance for the independence set problem. So we took a graph, a capital G, with a goal, little g, for the independence set problem, and we reduced it to the vertex cover problem with input instance, capital G, the same graph, and budget, little b. And little b was defined as n minus little g. Now given a solution s for this vertex cover instance. So this is a vertex cover of size at most little b. Then we return S-bar as the solution to the independence set problem because we know that if S is a vertex cover of size at most little b, then we know that S-bar is an independent set of size at least little g. And if our vertex cover problem comes back with no, there's no solution, then when we return no, there's no solution for the independence set problem, because we have this if and only if statement, if there's no solution here and there's no solution here and vice versa. That completes the reduction and that proves the correctness of the reduction. That completes the proof that the vertex cover problem is NP complete."
   ]
  },
  {
   "cell_type": "markdown",
   "id": "e4f86e82",
   "metadata": {},
   "source": [
    "## 557 Practice Problems\n",
    "\n",
    "At this point, all of the practice problems at the end of Chapter Eight are relevant. Here are a few of my favorite problems. In problem 8.4, they give you a proof, a supposed proof of NP-completeness for a problem, and you have to spot the error in that proof. Now in problem 8.10, there are seven subparts, and you have to prove that each of these problems that they present is NP-complete by doing a proof by generalization. You have to show it's a generalization of a known NP-complete problem. Some other nice problems are 8.14 where you do the Clique plus Independent set problem. So you're checking whether graph has a large clique and a large independent set. And 8.19, you consider the Kite problem. Now in all these NP-completeness problems, there's two parts, yet the first show that the problem is in the class NP, that's usually trivial. And then you have to take a known NP-complete problem and reduce it to this new problem. Now, what's the known NP-complete problem you should use? Well, it's probably something similar. So, for instance, this talks about clique and independent set, probably you should use clique or independent set here as the known problem. If you're talking about a SAT variant, then you should probably use SAT or 3SAT over here. Now, there are roughly two flavors of NP-completeness productions. The first is proof by generalization. You can show that this new problem is more general than a known problem. Now, in some sense, we're always showing that this new problem is a generalization of the known problem. But what we mean by this proof by generalization is that you can just set the parameters here so that you get this known problem here. Now, the other type of reduction is you have to do a gadget. We did something like this for the 3-SAT proof. What we do is we take the formula as input over here and we modify it in some way or we take a graph problem over here and input the graph problem here and we modify that graph by adding some small structure to that graph. We call that a gadget that we're adding in. So, those are the two main approaches. You're going to do proof by gadget. You're going to take the input here and you're going to modify it by adding some gadget to make an input for the new NP-complete problem, or you are going to do a proof by generalization. This topic is a little like dynamic programming. You have to do a lot of practice problems to get the hang of it. So, good luck and try a lot of practice problems from the text."
   ]
  }
 ],
 "metadata": {},
 "nbformat": 4,
 "nbformat_minor": 5
}
